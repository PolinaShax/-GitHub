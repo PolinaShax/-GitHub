{
 "cells": [
  {
   "cell_type": "markdown",
   "metadata": {
    "id": "H6cQIZr3ElW1"
   },
   "source": [
    "Интернет-магазин «В один клик» продаёт разные товары: для детей, для дома, мелкую бытовую технику, косметику и даже продукты. Отчёт магазина за прошлый период показал, что активность покупателей начала снижаться. Привлекать новых клиентов уже не так эффективно: о магазине и так знает большая часть целевой аудитории. Возможный выход — удерживать активность постоянных клиентов. Сделать это можно с помощью персонализированных предложений.\n",
    "«В один клик» — современная компания, поэтому её руководство не хочет принимать решения просто так — только на основе анализа данных и бизнес-моделирования. У компании есть небольшой отдел цифровых технологий, и вам предстоит побыть в роли стажёра в этом отделе. \n",
    "Итак, нашему отделу поручили разработать решение, которое позволит персонализировать предложения постоянным клиентам, чтобы увеличить их покупательскую активность."
   ]
  },
  {
   "cell_type": "markdown",
   "metadata": {},
   "source": [
    "**Шаг 1. Загрузка данных**"
   ]
  },
  {
   "cell_type": "code",
   "execution_count": 1,
   "metadata": {},
   "outputs": [
    {
     "name": "stdout",
     "output_type": "stream",
     "text": [
      "Requirement already satisfied: scikit-learn in /opt/conda/lib/python3.9/site-packages (1.4.2)\n",
      "Requirement already satisfied: joblib>=1.2.0 in /opt/conda/lib/python3.9/site-packages (from scikit-learn) (1.4.0)\n",
      "Requirement already satisfied: scipy>=1.6.0 in /opt/conda/lib/python3.9/site-packages (from scikit-learn) (1.9.1)\n",
      "Requirement already satisfied: threadpoolctl>=2.0.0 in /opt/conda/lib/python3.9/site-packages (from scikit-learn) (3.1.0)\n",
      "Requirement already satisfied: numpy>=1.19.5 in /opt/conda/lib/python3.9/site-packages (from scikit-learn) (1.21.1)\n"
     ]
    }
   ],
   "source": [
    "!pip install phik -q\n",
    "!pip install shap -q\n",
    "!pip install -U scikit-learn"
   ]
  },
  {
   "cell_type": "code",
   "execution_count": 2,
   "metadata": {},
   "outputs": [],
   "source": [
    "# загружаем необходимые библиотеки, модели, метрики\n",
    "\n",
    "import matplotlib.pyplot as plt\n",
    "import seaborn as sns\n",
    "import numpy as np\n",
    "import pandas as pd\n",
    "import sklearn\n",
    "import phik\n",
    "import shap\n",
    "from sklearn.linear_model import LogisticRegression\n",
    "from sklearn.neighbors import KNeighborsClassifier\n",
    "from sklearn.tree import DecisionTreeClassifier\n",
    "from sklearn.svm import SVC\n",
    "from sklearn.metrics import roc_auc_score\n",
    "from sklearn.model_selection import (train_test_split, \n",
    "                                     cross_val_score, \n",
    "                                     GridSearchCV)\n",
    "from sklearn.preprocessing import (OneHotEncoder, \n",
    "                                   OrdinalEncoder, \n",
    "                                   LabelEncoder, \n",
    "                                   StandardScaler, \n",
    "                                   MinMaxScaler)\n",
    "from sklearn.pipeline import Pipeline\n",
    "from sklearn.compose import ColumnTransformer"
   ]
  },
  {
   "cell_type": "code",
   "execution_count": 3,
   "metadata": {},
   "outputs": [],
   "source": [
    "# Загрузка данных\n",
    "market_file = pd.read_csv('/datasets/market_file.csv')\n",
    "market_money = pd.read_csv('/datasets/market_money.csv')\n",
    "market_time = pd.read_csv('/datasets/market_time.csv')\n",
    "money = pd.read_csv('/datasets/money.csv', sep=';', decimal=',')"
   ]
  },
  {
   "cell_type": "code",
   "execution_count": 4,
   "metadata": {},
   "outputs": [
    {
     "data": {
      "text/html": [
       "<div>\n",
       "<style scoped>\n",
       "    .dataframe tbody tr th:only-of-type {\n",
       "        vertical-align: middle;\n",
       "    }\n",
       "\n",
       "    .dataframe tbody tr th {\n",
       "        vertical-align: top;\n",
       "    }\n",
       "\n",
       "    .dataframe thead th {\n",
       "        text-align: right;\n",
       "    }\n",
       "</style>\n",
       "<table border=\"1\" class=\"dataframe\">\n",
       "  <thead>\n",
       "    <tr style=\"text-align: right;\">\n",
       "      <th></th>\n",
       "      <th>id</th>\n",
       "      <th>Покупательская активность</th>\n",
       "      <th>Тип сервиса</th>\n",
       "      <th>Разрешить сообщать</th>\n",
       "      <th>Маркет_актив_6_мес</th>\n",
       "      <th>Маркет_актив_тек_мес</th>\n",
       "      <th>Длительность</th>\n",
       "      <th>Акционные_покупки</th>\n",
       "      <th>Популярная_категория</th>\n",
       "      <th>Средний_просмотр_категорий_за_визит</th>\n",
       "      <th>Неоплаченные_продукты_штук_квартал</th>\n",
       "      <th>Ошибка_сервиса</th>\n",
       "      <th>Страниц_за_визит</th>\n",
       "    </tr>\n",
       "  </thead>\n",
       "  <tbody>\n",
       "    <tr>\n",
       "      <th>0</th>\n",
       "      <td>215348</td>\n",
       "      <td>Снизилась</td>\n",
       "      <td>премиум</td>\n",
       "      <td>да</td>\n",
       "      <td>3.4</td>\n",
       "      <td>5</td>\n",
       "      <td>121</td>\n",
       "      <td>0.00</td>\n",
       "      <td>Товары для детей</td>\n",
       "      <td>6</td>\n",
       "      <td>2</td>\n",
       "      <td>1</td>\n",
       "      <td>5</td>\n",
       "    </tr>\n",
       "    <tr>\n",
       "      <th>1</th>\n",
       "      <td>215349</td>\n",
       "      <td>Снизилась</td>\n",
       "      <td>премиум</td>\n",
       "      <td>да</td>\n",
       "      <td>4.4</td>\n",
       "      <td>4</td>\n",
       "      <td>819</td>\n",
       "      <td>0.75</td>\n",
       "      <td>Товары для детей</td>\n",
       "      <td>4</td>\n",
       "      <td>4</td>\n",
       "      <td>2</td>\n",
       "      <td>5</td>\n",
       "    </tr>\n",
       "    <tr>\n",
       "      <th>2</th>\n",
       "      <td>215350</td>\n",
       "      <td>Снизилась</td>\n",
       "      <td>стандартт</td>\n",
       "      <td>нет</td>\n",
       "      <td>4.9</td>\n",
       "      <td>3</td>\n",
       "      <td>539</td>\n",
       "      <td>0.14</td>\n",
       "      <td>Домашний текстиль</td>\n",
       "      <td>5</td>\n",
       "      <td>2</td>\n",
       "      <td>1</td>\n",
       "      <td>5</td>\n",
       "    </tr>\n",
       "    <tr>\n",
       "      <th>3</th>\n",
       "      <td>215351</td>\n",
       "      <td>Снизилась</td>\n",
       "      <td>стандартт</td>\n",
       "      <td>да</td>\n",
       "      <td>3.2</td>\n",
       "      <td>5</td>\n",
       "      <td>896</td>\n",
       "      <td>0.99</td>\n",
       "      <td>Товары для детей</td>\n",
       "      <td>5</td>\n",
       "      <td>0</td>\n",
       "      <td>6</td>\n",
       "      <td>4</td>\n",
       "    </tr>\n",
       "    <tr>\n",
       "      <th>4</th>\n",
       "      <td>215352</td>\n",
       "      <td>Снизилась</td>\n",
       "      <td>стандартт</td>\n",
       "      <td>нет</td>\n",
       "      <td>5.1</td>\n",
       "      <td>3</td>\n",
       "      <td>1064</td>\n",
       "      <td>0.94</td>\n",
       "      <td>Товары для детей</td>\n",
       "      <td>3</td>\n",
       "      <td>2</td>\n",
       "      <td>3</td>\n",
       "      <td>2</td>\n",
       "    </tr>\n",
       "  </tbody>\n",
       "</table>\n",
       "</div>"
      ],
      "text/plain": [
       "       id Покупательская активность Тип сервиса Разрешить сообщать  \\\n",
       "0  215348                 Снизилась     премиум                 да   \n",
       "1  215349                 Снизилась     премиум                 да   \n",
       "2  215350                 Снизилась   стандартт                нет   \n",
       "3  215351                 Снизилась   стандартт                 да   \n",
       "4  215352                 Снизилась   стандартт                нет   \n",
       "\n",
       "   Маркет_актив_6_мес  Маркет_актив_тек_мес  Длительность  Акционные_покупки  \\\n",
       "0                 3.4                     5           121               0.00   \n",
       "1                 4.4                     4           819               0.75   \n",
       "2                 4.9                     3           539               0.14   \n",
       "3                 3.2                     5           896               0.99   \n",
       "4                 5.1                     3          1064               0.94   \n",
       "\n",
       "  Популярная_категория  Средний_просмотр_категорий_за_визит  \\\n",
       "0     Товары для детей                                    6   \n",
       "1     Товары для детей                                    4   \n",
       "2    Домашний текстиль                                    5   \n",
       "3     Товары для детей                                    5   \n",
       "4     Товары для детей                                    3   \n",
       "\n",
       "   Неоплаченные_продукты_штук_квартал  Ошибка_сервиса  Страниц_за_визит  \n",
       "0                                   2               1                 5  \n",
       "1                                   4               2                 5  \n",
       "2                                   2               1                 5  \n",
       "3                                   0               6                 4  \n",
       "4                                   2               3                 2  "
      ]
     },
     "metadata": {},
     "output_type": "display_data"
    },
    {
     "data": {
      "text/html": [
       "<div>\n",
       "<style scoped>\n",
       "    .dataframe tbody tr th:only-of-type {\n",
       "        vertical-align: middle;\n",
       "    }\n",
       "\n",
       "    .dataframe tbody tr th {\n",
       "        vertical-align: top;\n",
       "    }\n",
       "\n",
       "    .dataframe thead th {\n",
       "        text-align: right;\n",
       "    }\n",
       "</style>\n",
       "<table border=\"1\" class=\"dataframe\">\n",
       "  <thead>\n",
       "    <tr style=\"text-align: right;\">\n",
       "      <th></th>\n",
       "      <th>id</th>\n",
       "      <th>Период</th>\n",
       "      <th>Выручка</th>\n",
       "    </tr>\n",
       "  </thead>\n",
       "  <tbody>\n",
       "    <tr>\n",
       "      <th>0</th>\n",
       "      <td>215348</td>\n",
       "      <td>препредыдущий_месяц</td>\n",
       "      <td>0.0</td>\n",
       "    </tr>\n",
       "    <tr>\n",
       "      <th>1</th>\n",
       "      <td>215348</td>\n",
       "      <td>текущий_месяц</td>\n",
       "      <td>3293.1</td>\n",
       "    </tr>\n",
       "    <tr>\n",
       "      <th>2</th>\n",
       "      <td>215348</td>\n",
       "      <td>предыдущий_месяц</td>\n",
       "      <td>0.0</td>\n",
       "    </tr>\n",
       "    <tr>\n",
       "      <th>3</th>\n",
       "      <td>215349</td>\n",
       "      <td>препредыдущий_месяц</td>\n",
       "      <td>4472.0</td>\n",
       "    </tr>\n",
       "    <tr>\n",
       "      <th>4</th>\n",
       "      <td>215349</td>\n",
       "      <td>текущий_месяц</td>\n",
       "      <td>4971.6</td>\n",
       "    </tr>\n",
       "  </tbody>\n",
       "</table>\n",
       "</div>"
      ],
      "text/plain": [
       "       id               Период  Выручка\n",
       "0  215348  препредыдущий_месяц      0.0\n",
       "1  215348        текущий_месяц   3293.1\n",
       "2  215348     предыдущий_месяц      0.0\n",
       "3  215349  препредыдущий_месяц   4472.0\n",
       "4  215349        текущий_месяц   4971.6"
      ]
     },
     "metadata": {},
     "output_type": "display_data"
    },
    {
     "data": {
      "text/html": [
       "<div>\n",
       "<style scoped>\n",
       "    .dataframe tbody tr th:only-of-type {\n",
       "        vertical-align: middle;\n",
       "    }\n",
       "\n",
       "    .dataframe tbody tr th {\n",
       "        vertical-align: top;\n",
       "    }\n",
       "\n",
       "    .dataframe thead th {\n",
       "        text-align: right;\n",
       "    }\n",
       "</style>\n",
       "<table border=\"1\" class=\"dataframe\">\n",
       "  <thead>\n",
       "    <tr style=\"text-align: right;\">\n",
       "      <th></th>\n",
       "      <th>id</th>\n",
       "      <th>Период</th>\n",
       "      <th>минут</th>\n",
       "    </tr>\n",
       "  </thead>\n",
       "  <tbody>\n",
       "    <tr>\n",
       "      <th>0</th>\n",
       "      <td>215348</td>\n",
       "      <td>текущий_месяц</td>\n",
       "      <td>14</td>\n",
       "    </tr>\n",
       "    <tr>\n",
       "      <th>1</th>\n",
       "      <td>215348</td>\n",
       "      <td>предыдцщий_месяц</td>\n",
       "      <td>13</td>\n",
       "    </tr>\n",
       "    <tr>\n",
       "      <th>2</th>\n",
       "      <td>215349</td>\n",
       "      <td>текущий_месяц</td>\n",
       "      <td>10</td>\n",
       "    </tr>\n",
       "    <tr>\n",
       "      <th>3</th>\n",
       "      <td>215349</td>\n",
       "      <td>предыдцщий_месяц</td>\n",
       "      <td>12</td>\n",
       "    </tr>\n",
       "    <tr>\n",
       "      <th>4</th>\n",
       "      <td>215350</td>\n",
       "      <td>текущий_месяц</td>\n",
       "      <td>13</td>\n",
       "    </tr>\n",
       "  </tbody>\n",
       "</table>\n",
       "</div>"
      ],
      "text/plain": [
       "       id            Период  минут\n",
       "0  215348     текущий_месяц     14\n",
       "1  215348  предыдцщий_месяц     13\n",
       "2  215349     текущий_месяц     10\n",
       "3  215349  предыдцщий_месяц     12\n",
       "4  215350     текущий_месяц     13"
      ]
     },
     "metadata": {},
     "output_type": "display_data"
    },
    {
     "data": {
      "text/html": [
       "<div>\n",
       "<style scoped>\n",
       "    .dataframe tbody tr th:only-of-type {\n",
       "        vertical-align: middle;\n",
       "    }\n",
       "\n",
       "    .dataframe tbody tr th {\n",
       "        vertical-align: top;\n",
       "    }\n",
       "\n",
       "    .dataframe thead th {\n",
       "        text-align: right;\n",
       "    }\n",
       "</style>\n",
       "<table border=\"1\" class=\"dataframe\">\n",
       "  <thead>\n",
       "    <tr style=\"text-align: right;\">\n",
       "      <th></th>\n",
       "      <th>id</th>\n",
       "      <th>Прибыль</th>\n",
       "    </tr>\n",
       "  </thead>\n",
       "  <tbody>\n",
       "    <tr>\n",
       "      <th>0</th>\n",
       "      <td>215348</td>\n",
       "      <td>0.98</td>\n",
       "    </tr>\n",
       "    <tr>\n",
       "      <th>1</th>\n",
       "      <td>215349</td>\n",
       "      <td>4.16</td>\n",
       "    </tr>\n",
       "    <tr>\n",
       "      <th>2</th>\n",
       "      <td>215350</td>\n",
       "      <td>3.13</td>\n",
       "    </tr>\n",
       "    <tr>\n",
       "      <th>3</th>\n",
       "      <td>215351</td>\n",
       "      <td>4.87</td>\n",
       "    </tr>\n",
       "    <tr>\n",
       "      <th>4</th>\n",
       "      <td>215352</td>\n",
       "      <td>4.21</td>\n",
       "    </tr>\n",
       "  </tbody>\n",
       "</table>\n",
       "</div>"
      ],
      "text/plain": [
       "       id  Прибыль\n",
       "0  215348     0.98\n",
       "1  215349     4.16\n",
       "2  215350     3.13\n",
       "3  215351     4.87\n",
       "4  215352     4.21"
      ]
     },
     "metadata": {},
     "output_type": "display_data"
    }
   ],
   "source": [
    "display(market_file.head())\n",
    "display(market_money.head())\n",
    "display(market_time.head())\n",
    "display(money.head())"
   ]
  },
  {
   "cell_type": "code",
   "execution_count": 5,
   "metadata": {},
   "outputs": [],
   "source": [
    "# приведем название колонок к общему виду\n",
    "\n",
    "market_file = market_file.rename(columns={'Покупательская активность':'покупательская_активность',\n",
    "                                        'Тип сервиса':'тип_сервиса',\n",
    "                                        'Разрешить сообщать':'разрешить_сообщать'})\n",
    "market_file.columns = market_file.columns.str.lower()"
   ]
  },
  {
   "cell_type": "markdown",
   "metadata": {},
   "source": [
    "**Выводы**\n",
    "\n",
    "Данные о поведении покупателя: Данные успешно загружены и содержат всю необходимую информацию.  \n",
    "Данные о выручке: Данные успешно загружены и содержат информацию о выручке за разные периоды.  \n",
    "Данные о времени, проведенном на сайте: Данные успешно загружены и содержат информацию о времени, проведенном на сайте за разные периоды.  \n",
    "Данные о прибыли: Данные успешно загружены и содержат информацию о прибыли.  \n",
    "Все данные в таблицах соответствуют описанию и готовы к дальнейшему анализу."
   ]
  },
  {
   "cell_type": "markdown",
   "metadata": {},
   "source": [
    "**Шаг 2. Предобработка данных**"
   ]
  },
  {
   "cell_type": "code",
   "execution_count": 6,
   "metadata": {},
   "outputs": [
    {
     "name": "stdout",
     "output_type": "stream",
     "text": [
      "Пропущенные значения в данных Market_file:\n"
     ]
    },
    {
     "data": {
      "text/plain": [
       "id                                     0\n",
       "покупательская_активность              0\n",
       "тип_сервиса                            0\n",
       "разрешить_сообщать                     0\n",
       "маркет_актив_6_мес                     0\n",
       "маркет_актив_тек_мес                   0\n",
       "длительность                           0\n",
       "акционные_покупки                      0\n",
       "популярная_категория                   0\n",
       "средний_просмотр_категорий_за_визит    0\n",
       "неоплаченные_продукты_штук_квартал     0\n",
       "ошибка_сервиса                         0\n",
       "страниц_за_визит                       0\n",
       "dtype: int64"
      ]
     },
     "metadata": {},
     "output_type": "display_data"
    },
    {
     "name": "stdout",
     "output_type": "stream",
     "text": [
      "\n",
      "Пропущенные значения в данных Market_money:\n"
     ]
    },
    {
     "data": {
      "text/plain": [
       "id         0\n",
       "Период     0\n",
       "Выручка    0\n",
       "dtype: int64"
      ]
     },
     "metadata": {},
     "output_type": "display_data"
    },
    {
     "name": "stdout",
     "output_type": "stream",
     "text": [
      "\n",
      "Пропущенные значения в данных Market_time:\n"
     ]
    },
    {
     "data": {
      "text/plain": [
       "id        0\n",
       "Период    0\n",
       "минут     0\n",
       "dtype: int64"
      ]
     },
     "metadata": {},
     "output_type": "display_data"
    },
    {
     "name": "stdout",
     "output_type": "stream",
     "text": [
      "\n",
      "Пропущенные значения в данных Money:\n"
     ]
    },
    {
     "data": {
      "text/plain": [
       "id         0\n",
       "Прибыль    0\n",
       "dtype: int64"
      ]
     },
     "metadata": {},
     "output_type": "display_data"
    }
   ],
   "source": [
    "print(\"Пропущенные значения в данных Market_file:\")\n",
    "display(market_file.isnull().sum())\n",
    "print(\"\\nПропущенные значения в данных Market_money:\")\n",
    "display(market_money.isnull().sum())\n",
    "print(\"\\nПропущенные значения в данных Market_time:\")\n",
    "display(market_time.isnull().sum())\n",
    "print(\"\\nПропущенные значения в данных Money:\")\n",
    "display(money.isnull().sum())"
   ]
  },
  {
   "cell_type": "markdown",
   "metadata": {},
   "source": [
    "Пропусков не обнаружено"
   ]
  },
  {
   "cell_type": "code",
   "execution_count": 7,
   "metadata": {},
   "outputs": [
    {
     "name": "stdout",
     "output_type": "stream",
     "text": [
      "\n",
      "Дубликаты в данных Market_file:\n"
     ]
    },
    {
     "data": {
      "text/plain": [
       "0"
      ]
     },
     "metadata": {},
     "output_type": "display_data"
    },
    {
     "name": "stdout",
     "output_type": "stream",
     "text": [
      "\n",
      "Дубликаты в данных Market_money:\n"
     ]
    },
    {
     "data": {
      "text/plain": [
       "0"
      ]
     },
     "metadata": {},
     "output_type": "display_data"
    },
    {
     "name": "stdout",
     "output_type": "stream",
     "text": [
      "\n",
      "Дубликаты в данных Market_time:\n"
     ]
    },
    {
     "data": {
      "text/plain": [
       "0"
      ]
     },
     "metadata": {},
     "output_type": "display_data"
    },
    {
     "name": "stdout",
     "output_type": "stream",
     "text": [
      "\n",
      "Дубликаты в данных Money:\n"
     ]
    },
    {
     "data": {
      "text/plain": [
       "0"
      ]
     },
     "metadata": {},
     "output_type": "display_data"
    }
   ],
   "source": [
    "# Проверка на дубликаты\n",
    "print(\"\\nДубликаты в данных Market_file:\")\n",
    "display(market_file.duplicated().sum())\n",
    "print(\"\\nДубликаты в данных Market_money:\")\n",
    "display(market_money.duplicated().sum())\n",
    "print(\"\\nДубликаты в данных Market_time:\")\n",
    "display(market_time.duplicated().sum())\n",
    "print(\"\\nДубликаты в данных Money:\")\n",
    "display(money.duplicated().sum())"
   ]
  },
  {
   "cell_type": "markdown",
   "metadata": {},
   "source": [
    "Дубликатов не обнаружено"
   ]
  },
  {
   "cell_type": "code",
   "execution_count": 8,
   "metadata": {},
   "outputs": [
    {
     "name": "stdout",
     "output_type": "stream",
     "text": [
      "Общая информация о данных Market_file:\n",
      "<class 'pandas.core.frame.DataFrame'>\n",
      "RangeIndex: 1300 entries, 0 to 1299\n",
      "Data columns (total 13 columns):\n",
      " #   Column                               Non-Null Count  Dtype  \n",
      "---  ------                               --------------  -----  \n",
      " 0   id                                   1300 non-null   int64  \n",
      " 1   покупательская_активность            1300 non-null   object \n",
      " 2   тип_сервиса                          1300 non-null   object \n",
      " 3   разрешить_сообщать                   1300 non-null   object \n",
      " 4   маркет_актив_6_мес                   1300 non-null   float64\n",
      " 5   маркет_актив_тек_мес                 1300 non-null   int64  \n",
      " 6   длительность                         1300 non-null   int64  \n",
      " 7   акционные_покупки                    1300 non-null   float64\n",
      " 8   популярная_категория                 1300 non-null   object \n",
      " 9   средний_просмотр_категорий_за_визит  1300 non-null   int64  \n",
      " 10  неоплаченные_продукты_штук_квартал   1300 non-null   int64  \n",
      " 11  ошибка_сервиса                       1300 non-null   int64  \n",
      " 12  страниц_за_визит                     1300 non-null   int64  \n",
      "dtypes: float64(2), int64(7), object(4)\n",
      "memory usage: 132.2+ KB\n",
      "\n",
      "Общая информация о данных Market_money:\n",
      "<class 'pandas.core.frame.DataFrame'>\n",
      "RangeIndex: 3900 entries, 0 to 3899\n",
      "Data columns (total 3 columns):\n",
      " #   Column   Non-Null Count  Dtype  \n",
      "---  ------   --------------  -----  \n",
      " 0   id       3900 non-null   int64  \n",
      " 1   Период   3900 non-null   object \n",
      " 2   Выручка  3900 non-null   float64\n",
      "dtypes: float64(1), int64(1), object(1)\n",
      "memory usage: 91.5+ KB\n",
      "\n",
      "Общая информация о данных Market_time:\n",
      "<class 'pandas.core.frame.DataFrame'>\n",
      "RangeIndex: 2600 entries, 0 to 2599\n",
      "Data columns (total 3 columns):\n",
      " #   Column  Non-Null Count  Dtype \n",
      "---  ------  --------------  ----- \n",
      " 0   id      2600 non-null   int64 \n",
      " 1   Период  2600 non-null   object\n",
      " 2   минут   2600 non-null   int64 \n",
      "dtypes: int64(2), object(1)\n",
      "memory usage: 61.1+ KB\n",
      "\n",
      "Общая информация о данных Money:\n",
      "<class 'pandas.core.frame.DataFrame'>\n",
      "RangeIndex: 1300 entries, 0 to 1299\n",
      "Data columns (total 2 columns):\n",
      " #   Column   Non-Null Count  Dtype  \n",
      "---  ------   --------------  -----  \n",
      " 0   id       1300 non-null   int64  \n",
      " 1   Прибыль  1300 non-null   float64\n",
      "dtypes: float64(1), int64(1)\n",
      "memory usage: 20.4 KB\n"
     ]
    }
   ],
   "source": [
    "print(\"Общая информация о данных Market_file:\")\n",
    "market_file.info()\n",
    "print(\"\\nОбщая информация о данных Market_money:\")\n",
    "market_money.info()\n",
    "print(\"\\nОбщая информация о данных Market_time:\")\n",
    "market_time.info()\n",
    "print(\"\\nОбщая информация о данных Money:\")\n",
    "money.info()"
   ]
  },
  {
   "cell_type": "markdown",
   "metadata": {},
   "source": [
    "Данные состоят из четырех файлов: Market_file, Market_money, Market_time и Money.\n",
    "\n",
    "Market_file: Этот файл содержит 1300 записей с 13 столбцами. Столбцы включают в себя различные характеристики, такие как 'Покупательская_активность', 'Тип_сервиса', 'Разрешить_сообщать' и другие. Все столбцы имеют непустые значения.\n",
    "\n",
    "Market_money: Этот файл содержит 3900 записей с 3 столбцами: 'id', 'Период' и 'Выручка'. Все столбцы имеют непустые значения.\n",
    "\n",
    "Market_time: Этот файл содержит 2600 записей с 3 столбцами: 'id', 'Период' и 'минут'. Все столбцы имеют непустые значения.\n",
    "\n",
    "Money: Этот файл содержит 1300 записей с 2 столбцами: 'id' и 'Прибыль'. Все столбцы имеют непустые значения.\n",
    "\n",
    "Все наборы данных имеют столбец 'id', который, вероятно, может быть использован для связывания данных между наборами. Пожалуйста, убедитесь, что вы проводите дополнительный анализ данных, чтобы лучше понять их и определить, какие дальнейшие шаги следует предпринять."
   ]
  },
  {
   "cell_type": "code",
   "execution_count": 9,
   "metadata": {},
   "outputs": [
    {
     "data": {
      "text/plain": [
       "Прежний уровень    802\n",
       "Снизилась          498\n",
       "Name: покупательская_активность, dtype: int64"
      ]
     },
     "execution_count": 9,
     "metadata": {},
     "output_type": "execute_result"
    }
   ],
   "source": [
    "market_file['покупательская_активность'].value_counts()"
   ]
  },
  {
   "cell_type": "code",
   "execution_count": 10,
   "metadata": {},
   "outputs": [],
   "source": [
    "def uniq (df, columns):\n",
    "    for column in columns:\n",
    "        print(column)\n",
    "        print(df[column].value_counts())\n",
    "        print()"
   ]
  },
  {
   "cell_type": "code",
   "execution_count": 11,
   "metadata": {},
   "outputs": [
    {
     "name": "stdout",
     "output_type": "stream",
     "text": [
      "id\n",
      "215348    1\n",
      "216202    1\n",
      "216220    1\n",
      "216219    1\n",
      "216218    1\n",
      "         ..\n",
      "215779    1\n",
      "215778    1\n",
      "215777    1\n",
      "215776    1\n",
      "216647    1\n",
      "Name: id, Length: 1300, dtype: int64\n",
      "\n",
      "покупательская_активность\n",
      "Прежний уровень    802\n",
      "Снизилась          498\n",
      "Name: покупательская_активность, dtype: int64\n",
      "\n",
      "тип_сервиса\n",
      "стандарт     914\n",
      "премиум      376\n",
      "стандартт     10\n",
      "Name: тип_сервиса, dtype: int64\n",
      "\n",
      "разрешить_сообщать\n",
      "да     962\n",
      "нет    338\n",
      "Name: разрешить_сообщать, dtype: int64\n",
      "\n",
      "маркет_актив_6_мес\n",
      "4.1    94\n",
      "3.9    83\n",
      "4.4    82\n",
      "4.0    71\n",
      "5.5    68\n",
      "4.3    66\n",
      "4.9    60\n",
      "3.5    50\n",
      "4.6    49\n",
      "3.3    47\n",
      "4.2    43\n",
      "2.4    42\n",
      "3.8    39\n",
      "4.7    37\n",
      "3.4    33\n",
      "4.8    33\n",
      "5.1    32\n",
      "3.6    30\n",
      "5.7    28\n",
      "5.8    27\n",
      "5.3    27\n",
      "5.2    25\n",
      "5.6    25\n",
      "5.4    23\n",
      "2.6    20\n",
      "3.0    16\n",
      "3.1    16\n",
      "5.0    13\n",
      "1.7    12\n",
      "6.3    12\n",
      "6.1    12\n",
      "3.7    12\n",
      "6.6    12\n",
      "3.2    11\n",
      "0.9    11\n",
      "2.7     8\n",
      "1.5     8\n",
      "2.9     7\n",
      "4.5     6\n",
      "1.4     5\n",
      "5.9     5\n",
      "Name: маркет_актив_6_мес, dtype: int64\n",
      "\n",
      "маркет_актив_тек_мес\n",
      "4    669\n",
      "5    323\n",
      "3    308\n",
      "Name: маркет_актив_тек_мес, dtype: int64\n",
      "\n",
      "длительность\n",
      "627     7\n",
      "600     7\n",
      "449     7\n",
      "503     6\n",
      "511     6\n",
      "       ..\n",
      "525     1\n",
      "524     1\n",
      "513     1\n",
      "510     1\n",
      "1079    1\n",
      "Name: длительность, Length: 658, dtype: int64\n",
      "\n",
      "акционные_покупки\n",
      "0.24    93\n",
      "0.30    85\n",
      "0.28    83\n",
      "0.17    79\n",
      "0.25    72\n",
      "0.14    69\n",
      "0.21    64\n",
      "0.13    64\n",
      "0.16    62\n",
      "0.23    60\n",
      "0.15    49\n",
      "0.94    43\n",
      "0.22    34\n",
      "0.40    31\n",
      "0.11    31\n",
      "0.99    30\n",
      "0.27    27\n",
      "0.35    26\n",
      "0.26    24\n",
      "0.95    24\n",
      "0.18    23\n",
      "0.20    21\n",
      "0.32    20\n",
      "0.12    20\n",
      "0.93    19\n",
      "0.29    19\n",
      "0.39    18\n",
      "0.98    17\n",
      "0.89    16\n",
      "0.33    15\n",
      "0.36    11\n",
      "0.90    11\n",
      "0.19    11\n",
      "0.31    10\n",
      "0.91     5\n",
      "0.34     5\n",
      "0.00     3\n",
      "0.44     2\n",
      "0.47     1\n",
      "0.75     1\n",
      "0.60     1\n",
      "0.74     1\n",
      "Name: акционные_покупки, dtype: int64\n",
      "\n",
      "популярная_категория\n",
      "Товары для детей                        330\n",
      "Домашний текстиль                       251\n",
      "Косметика и аксесуары                   223\n",
      "Техника для красоты и здоровья          184\n",
      "Мелкая бытовая техника и электроника    174\n",
      "Кухонная посуда                         138\n",
      "Name: популярная_категория, dtype: int64\n",
      "\n",
      "средний_просмотр_категорий_за_визит\n",
      "3    356\n",
      "2    312\n",
      "4    263\n",
      "5    177\n",
      "1    106\n",
      "6     86\n",
      "Name: средний_просмотр_категорий_за_визит, dtype: int64\n",
      "\n",
      "неоплаченные_продукты_штук_квартал\n",
      "1     261\n",
      "2     261\n",
      "3     218\n",
      "4     197\n",
      "5     135\n",
      "0     116\n",
      "6      44\n",
      "7      34\n",
      "8      20\n",
      "9      10\n",
      "10      4\n",
      "Name: неоплаченные_продукты_штук_квартал, dtype: int64\n",
      "\n",
      "ошибка_сервиса\n",
      "4    257\n",
      "3    226\n",
      "5    208\n",
      "2    189\n",
      "6    156\n",
      "7     92\n",
      "1     74\n",
      "8     66\n",
      "0     17\n",
      "9     15\n",
      "Name: ошибка_сервиса, dtype: int64\n",
      "\n",
      "страниц_за_визит\n",
      "6     127\n",
      "5     115\n",
      "4     112\n",
      "8     109\n",
      "9     108\n",
      "10    104\n",
      "7     102\n",
      "11     92\n",
      "3      76\n",
      "12     73\n",
      "13     61\n",
      "2      58\n",
      "14     53\n",
      "15     36\n",
      "16     21\n",
      "1      20\n",
      "17     19\n",
      "18      7\n",
      "19      5\n",
      "20      2\n",
      "Name: страниц_за_визит, dtype: int64\n",
      "\n"
     ]
    }
   ],
   "source": [
    "uniq(market_file, market_file.columns)"
   ]
  },
  {
   "cell_type": "code",
   "execution_count": 12,
   "metadata": {},
   "outputs": [
    {
     "name": "stdout",
     "output_type": "stream",
     "text": [
      "['премиум' 'стандарт']\n"
     ]
    }
   ],
   "source": [
    "# Замена опечатки в столбце \"Тип сервиса\"\n",
    "market_file['тип_сервиса'] = market_file['тип_сервиса'].replace('стандартт', 'стандарт')\n",
    "\n",
    "# Проверка уникальных значений \n",
    "print(market_file['тип_сервиса'].unique())\n"
   ]
  },
  {
   "cell_type": "markdown",
   "metadata": {},
   "source": [
    "В процессе анализа была обнаружена и исправлена опечатка в столбце \"Тип_сервиса\" в наборе данных Market_file"
   ]
  },
  {
   "cell_type": "code",
   "execution_count": 13,
   "metadata": {},
   "outputs": [
    {
     "name": "stdout",
     "output_type": "stream",
     "text": [
      "id\n",
      "215349    3\n",
      "215756    3\n",
      "215792    3\n",
      "215790    3\n",
      "215788    3\n",
      "         ..\n",
      "216211    3\n",
      "216209    3\n",
      "216207    3\n",
      "216205    3\n",
      "216646    3\n",
      "Name: id, Length: 1300, dtype: int64\n",
      "\n",
      "Период\n",
      "препредыдущий_месяц    1300\n",
      "текущий_месяц          1300\n",
      "предыдущий_месяц       1300\n",
      "Name: Период, dtype: int64\n",
      "\n",
      "Выручка\n",
      "4729.0    8\n",
      "5051.0    7\n",
      "4952.0    7\n",
      "0.0       6\n",
      "4974.0    6\n",
      "         ..\n",
      "4823.5    1\n",
      "5776.0    1\n",
      "5001.2    1\n",
      "4146.6    1\n",
      "4681.4    1\n",
      "Name: Выручка, Length: 2776, dtype: int64\n",
      "\n"
     ]
    }
   ],
   "source": [
    "uniq(market_money, market_money.columns)"
   ]
  },
  {
   "cell_type": "markdown",
   "metadata": {},
   "source": [
    "Неявные дубликаты не обнаружены. Так же мы видим, 6 пользователей, которые не совершали покупки за последние 3 месяца. Выделим датафрейм без них."
   ]
  },
  {
   "cell_type": "code",
   "execution_count": 14,
   "metadata": {},
   "outputs": [
    {
     "data": {
      "text/html": [
       "<div>\n",
       "<style scoped>\n",
       "    .dataframe tbody tr th:only-of-type {\n",
       "        vertical-align: middle;\n",
       "    }\n",
       "\n",
       "    .dataframe tbody tr th {\n",
       "        vertical-align: top;\n",
       "    }\n",
       "\n",
       "    .dataframe thead th {\n",
       "        text-align: right;\n",
       "    }\n",
       "</style>\n",
       "<table border=\"1\" class=\"dataframe\">\n",
       "  <thead>\n",
       "    <tr style=\"text-align: right;\">\n",
       "      <th></th>\n",
       "      <th>id</th>\n",
       "      <th>Период</th>\n",
       "      <th>Выручка</th>\n",
       "    </tr>\n",
       "  </thead>\n",
       "  <tbody>\n",
       "    <tr>\n",
       "      <th>0</th>\n",
       "      <td>215348</td>\n",
       "      <td>препредыдущий_месяц</td>\n",
       "      <td>0.0</td>\n",
       "    </tr>\n",
       "    <tr>\n",
       "      <th>2</th>\n",
       "      <td>215348</td>\n",
       "      <td>предыдущий_месяц</td>\n",
       "      <td>0.0</td>\n",
       "    </tr>\n",
       "    <tr>\n",
       "      <th>28</th>\n",
       "      <td>215357</td>\n",
       "      <td>препредыдущий_месяц</td>\n",
       "      <td>0.0</td>\n",
       "    </tr>\n",
       "    <tr>\n",
       "      <th>29</th>\n",
       "      <td>215357</td>\n",
       "      <td>предыдущий_месяц</td>\n",
       "      <td>0.0</td>\n",
       "    </tr>\n",
       "    <tr>\n",
       "      <th>34</th>\n",
       "      <td>215359</td>\n",
       "      <td>предыдущий_месяц</td>\n",
       "      <td>0.0</td>\n",
       "    </tr>\n",
       "    <tr>\n",
       "      <th>35</th>\n",
       "      <td>215359</td>\n",
       "      <td>препредыдущий_месяц</td>\n",
       "      <td>0.0</td>\n",
       "    </tr>\n",
       "  </tbody>\n",
       "</table>\n",
       "</div>"
      ],
      "text/plain": [
       "        id               Период  Выручка\n",
       "0   215348  препредыдущий_месяц      0.0\n",
       "2   215348     предыдущий_месяц      0.0\n",
       "28  215357  препредыдущий_месяц      0.0\n",
       "29  215357     предыдущий_месяц      0.0\n",
       "34  215359     предыдущий_месяц      0.0\n",
       "35  215359  препредыдущий_месяц      0.0"
      ]
     },
     "execution_count": 14,
     "metadata": {},
     "output_type": "execute_result"
    }
   ],
   "source": [
    "market_money.query('Выручка == 0')"
   ]
  },
  {
   "cell_type": "code",
   "execution_count": 15,
   "metadata": {},
   "outputs": [
    {
     "data": {
      "text/plain": [
       "1297"
      ]
     },
     "execution_count": 15,
     "metadata": {},
     "output_type": "execute_result"
    }
   ],
   "source": [
    "market_money_1 = market_money.query('id not in [215348, 215357, 215359]')\n",
    "market_money_1['id'].nunique()"
   ]
  },
  {
   "cell_type": "code",
   "execution_count": 16,
   "metadata": {},
   "outputs": [
    {
     "name": "stdout",
     "output_type": "stream",
     "text": [
      "1297\n",
      "1297\n",
      "1297\n"
     ]
    }
   ],
   "source": [
    "market_file_1 = market_file.query('id not in [215348, 215357, 215359]')\n",
    "print(market_file_1['id'].nunique())\n",
    "\n",
    "market_time_1 = market_time.query('id not in [215348, 215357, 215359]')\n",
    "print(market_time_1['id'].nunique())\n",
    "\n",
    "money_1 = money.query('id not in [215348, 215357, 215359]')\n",
    "print(money_1['id'].nunique())"
   ]
  },
  {
   "cell_type": "code",
   "execution_count": 17,
   "metadata": {},
   "outputs": [
    {
     "name": "stdout",
     "output_type": "stream",
     "text": [
      "id\n",
      "215349    2\n",
      "215756    2\n",
      "215792    2\n",
      "215790    2\n",
      "215788    2\n",
      "         ..\n",
      "216211    2\n",
      "216209    2\n",
      "216207    2\n",
      "216205    2\n",
      "216646    2\n",
      "Name: id, Length: 1300, dtype: int64\n",
      "\n",
      "Период\n",
      "текущий_месяц       1300\n",
      "предыдцщий_месяц    1300\n",
      "Name: Период, dtype: int64\n",
      "\n",
      "минут\n",
      "14    256\n",
      "12    237\n",
      "11    221\n",
      "13    206\n",
      "10    204\n",
      "9     186\n",
      "15    174\n",
      "17    163\n",
      "16    162\n",
      "18    145\n",
      "8     141\n",
      "19    119\n",
      "20    101\n",
      "7      88\n",
      "6      59\n",
      "21     53\n",
      "22     40\n",
      "5      22\n",
      "23     14\n",
      "4       9\n",
      "Name: минут, dtype: int64\n",
      "\n"
     ]
    }
   ],
   "source": [
    "uniq(market_time, market_time.columns)"
   ]
  },
  {
   "cell_type": "code",
   "execution_count": 18,
   "metadata": {},
   "outputs": [
    {
     "name": "stdout",
     "output_type": "stream",
     "text": [
      "['текущий_месяц' 'предыдущий_месяц']\n"
     ]
    }
   ],
   "source": [
    "# Замена опечатки в столбце 'Период'\n",
    "market_time['Период'] = market_time['Период'].replace('предыдцщий_месяц', 'предыдущий_месяц')\n",
    "\n",
    "print(market_time['Период'].unique())"
   ]
  },
  {
   "cell_type": "markdown",
   "metadata": {},
   "source": [
    "В процессе анализа была обнаружена и исправлена опечатка в столбце 'Период' в наборе данных Market time."
   ]
  },
  {
   "cell_type": "markdown",
   "metadata": {},
   "source": [
    "**Вывод:** неявные дубликаты исправлены. Выделен датафрейм покупателей, которые обладают покупательской активностью в течение трех последних месяцев. Изучим более подробно распределение признаков в каждом из файлов."
   ]
  },
  {
   "cell_type": "markdown",
   "metadata": {},
   "source": [
    "**Шаг 3. Исследовательский анализ данных**"
   ]
  },
  {
   "cell_type": "markdown",
   "metadata": {},
   "source": [
    "*3.1. Изучение распределения признаков по отдельности*"
   ]
  },
  {
   "cell_type": "markdown",
   "metadata": {},
   "source": [
    "Наш целевой признак покупательская_активность.\n",
    "\n",
    "По типу значений наши параметры относятся к числовым или категориальным.  \n",
    "категориальные - покупательская_активность, тип_сервиса, разрешить_сообщать, популярная_категория.  \n",
    "числовые - маркет_актив_6_мес, маркет_актив_тек_мес, длительность, акционные_покупки, средний_просмотр_категорий_за_визит, неоплаченные_продукты_штук_квартал, ошибка_сервиса, страниц_за_визит, выручка, минут."
   ]
  },
  {
   "cell_type": "code",
   "execution_count": 19,
   "metadata": {},
   "outputs": [
    {
     "data": {
      "image/png": "[encoded data removed]",
      "text/plain": [
       "<Figure size 432x288 with 1 Axes>"
      ]
     },
     "metadata": {},
     "output_type": "display_data"
    }
   ],
   "source": [
    "market_file_1['покупательская_активность'].value_counts().plot.pie(colors=sns.color_palette('Set2'),\n",
    "                                                                               autopct='%1.1f%%');\n",
    "plt.title('Сравнение количества клиентов по типу покупательской активности');"
   ]
  },
  {
   "cell_type": "markdown",
   "metadata": {},
   "source": [
    "у 61,8% покупателей активность осталась прежней, а вот у 38,2% она снизилась. "
   ]
  },
  {
   "cell_type": "code",
   "execution_count": 20,
   "metadata": {},
   "outputs": [
    {
     "data": {
      "image/png": "[encoded data removed]",
      "text/plain": [
       "<Figure size 432x288 with 1 Axes>"
      ]
     },
     "metadata": {},
     "output_type": "display_data"
    }
   ],
   "source": [
    "market_file_1['тип_сервиса'].value_counts().plot.pie(colors=sns.color_palette('Set2'), autopct='%1.1f%%');\n",
    "plt.title('Сравнение количества клиентов по типу сервиса');"
   ]
  },
  {
   "cell_type": "markdown",
   "metadata": {},
   "source": [
    "премиум-обслуживаение выбирает менее трети пользователей."
   ]
  },
  {
   "cell_type": "code",
   "execution_count": 21,
   "metadata": {},
   "outputs": [
    {
     "data": {
      "image/png": "[encoded data removed]",
      "text/plain": [
       "<Figure size 432x288 with 1 Axes>"
      ]
     },
     "metadata": {},
     "output_type": "display_data"
    }
   ],
   "source": [
    "market_file_1['разрешить_сообщать'].value_counts().plot.pie(colors=sns.color_palette('Set2'), autopct='%1.1f%%');\n",
    "plt.title('Сравнение количества клиентов по типу согласия на получение дополнительных предложений');"
   ]
  },
  {
   "cell_type": "markdown",
   "metadata": {},
   "source": [
    "четверть клиентов не хочет получить дополнительные предложения. А три четверти - готовы."
   ]
  },
  {
   "cell_type": "code",
   "execution_count": 22,
   "metadata": {},
   "outputs": [
    {
     "data": {
      "image/png": "[encoded data removed]",
      "text/plain": [
       "<Figure size 432x288 with 1 Axes>"
      ]
     },
     "metadata": {
      "needs_background": "light"
     },
     "output_type": "display_data"
    }
   ],
   "source": [
    "market_file_1['популярная_категория'].value_counts().plot.barh(figsize=(6,4));\n",
    "plt.title('Сравнение количества клиентов по типу наиболее популярной категории товаров в покупках');\n",
    "plt.xlabel('Количество клиентов');\n",
    "plt.ylabel('Категория товаров');"
   ]
  },
  {
   "cell_type": "markdown",
   "metadata": {},
   "source": [
    "среди популярных категорий в исследуемом массиве данных присутствуют только шесть категорий."
   ]
  },
  {
   "cell_type": "code",
   "execution_count": 23,
   "metadata": {},
   "outputs": [
    {
     "data": {
      "image/png": "[encoded data removed]",
      "text/plain": [
       "<Figure size 864x432 with 2 Axes>"
      ]
     },
     "metadata": {
      "needs_background": "light"
     },
     "output_type": "display_data"
    }
   ],
   "source": [
    "fig, axes = plt.subplots(1, 2, figsize=(12,6));\n",
    "plt.subplots_adjust(wspace=0.5, hspace=0.3)\n",
    "plt.subplot(1, 2, 1)\n",
    "sns.histplot(data=market_file_1, x='маркет_актив_6_мес').set(\n",
    "    title = 'Cреднемесячные маркетинговые коммуникации с клиентом');\n",
    "plt.subplot(1, 2, 2)\n",
    "sns.countplot(data=market_file_1, x='маркет_актив_тек_мес').set(\n",
    "    title = 'Маркетинговые коммуникации с клиентом в текущем месяце');"
   ]
  },
  {
   "cell_type": "markdown",
   "metadata": {},
   "source": [
    "В текущем месяце клиенты получили от трех до пяти предложений о покупке. А в гистограмме полугодовой активности, где собраны данные о предложениях в среднем за месяц, есть клиенты, которые получили по 1 предложению в соответствии с этим показателем. "
   ]
  },
  {
   "cell_type": "code",
   "execution_count": 24,
   "metadata": {},
   "outputs": [
    {
     "data": {
      "image/png": "[encoded data removed]",
      "text/plain": [
       "<Figure size 432x288 with 1 Axes>"
      ]
     },
     "metadata": {
      "needs_background": "light"
     },
     "output_type": "display_data"
    }
   ],
   "source": [
    "sns.histplot(data=market_file_1, x=\"длительность\");\n",
    "plt.title('Распределение клиентов по длительности регистрации');\n",
    "plt.xlabel('Длительность регистрации');\n",
    "plt.ylabel('Количество');"
   ]
  },
  {
   "cell_type": "code",
   "execution_count": 25,
   "metadata": {},
   "outputs": [
    {
     "data": {
      "image/png": "[encoded data removed]",
      "text/plain": [
       "<Figure size 432x288 with 1 Axes>"
      ]
     },
     "metadata": {
      "needs_background": "light"
     },
     "output_type": "display_data"
    }
   ],
   "source": [
    "sns.histplot(data=market_file_1, x=\"акционные_покупки\");\n",
    "plt.title('Распределение клиентов по выбору акционных товаров, среднемесясячная доля');\n",
    "plt.xlabel('Доля акционных товаров в покупках');\n",
    "plt.ylabel('Количество');"
   ]
  },
  {
   "cell_type": "markdown",
   "metadata": {},
   "source": [
    "У нас есть разделение на два сегмента: клиенты, 85% покупок которых товары по акции. И остальные, которые покупают не более 40% товаров по акции."
   ]
  },
  {
   "cell_type": "code",
   "execution_count": 26,
   "metadata": {},
   "outputs": [
    {
     "data": {
      "image/png": "[encoded data removed]",
      "text/plain": [
       "<Figure size 1080x432 with 2 Axes>"
      ]
     },
     "metadata": {
      "needs_background": "light"
     },
     "output_type": "display_data"
    }
   ],
   "source": [
    "fig, axes = plt.subplots(1, 2, figsize=(15,6));\n",
    "plt.subplots_adjust(wspace=0.5, hspace=0.3)\n",
    "plt.subplot(1, 2, 1)\n",
    "sns.countplot(data=market_file_1, x='средний_просмотр_категорий_за_визит').set(\n",
    "    title = 'Cреднее количество просмотренных категорий (за месяц)');\n",
    "plt.subplot(1, 2, 2)\n",
    "sns.histplot(data=market_file_1, x='страниц_за_визит').set(\n",
    "    title = 'Среднее количество просмотренных страниц за визит (за три месяца)');"
   ]
  },
  {
   "cell_type": "markdown",
   "metadata": {},
   "source": [
    "Мы видм биномиальное распределение со сдвигом к минимальным значениям"
   ]
  },
  {
   "cell_type": "code",
   "execution_count": 27,
   "metadata": {},
   "outputs": [
    {
     "data": {
      "image/png": "[encoded data removed]",
      "text/plain": [
       "<Figure size 432x288 with 1 Axes>"
      ]
     },
     "metadata": {
      "needs_background": "light"
     },
     "output_type": "display_data"
    }
   ],
   "source": [
    "sns.countplot(data=market_file_1, x=\"неоплаченные_продукты_штук_квартал\");\n",
    "plt.title('Распределение количества неоплаченных товаров в корзине');\n",
    "plt.xlabel('Количество товаров в корзине');\n",
    "plt.ylabel('Количество');"
   ]
  },
  {
   "cell_type": "markdown",
   "metadata": {},
   "source": [
    "Основная доля товаров в корзине за три месяца находится в интервале от 0 до 5 штук."
   ]
  },
  {
   "cell_type": "code",
   "execution_count": 28,
   "metadata": {},
   "outputs": [
    {
     "data": {
      "image/png": "[encoded data removed]",
      "text/plain": [
       "<Figure size 432x288 with 1 Axes>"
      ]
     },
     "metadata": {
      "needs_background": "light"
     },
     "output_type": "display_data"
    }
   ],
   "source": [
    "sns.histplot(data=market_money_1, x=\"Выручка\");\n",
    "plt.title('Распределение ежемесячной выручки');\n",
    "plt.xlabel('Величина выручки');\n",
    "plt.ylabel('Количество');"
   ]
  },
  {
   "cell_type": "code",
   "execution_count": 29,
   "metadata": {},
   "outputs": [
    {
     "data": {
      "text/plain": [
       "count      3891.000000\n",
       "mean       5033.718890\n",
       "std        1768.471286\n",
       "min        2758.700000\n",
       "25%        4592.000000\n",
       "50%        4959.000000\n",
       "75%        5363.200000\n",
       "max      106862.200000\n",
       "Name: Выручка, dtype: float64"
      ]
     },
     "execution_count": 29,
     "metadata": {},
     "output_type": "execute_result"
    }
   ],
   "source": [
    "market_money_1['Выручка'].describe()"
   ]
  },
  {
   "cell_type": "markdown",
   "metadata": {},
   "source": [
    "Видим высокое значение-106 тысяч рублей, отбросим это значение."
   ]
  },
  {
   "cell_type": "code",
   "execution_count": 30,
   "metadata": {},
   "outputs": [
    {
     "data": {
      "text/plain": [
       "1"
      ]
     },
     "metadata": {},
     "output_type": "display_data"
    },
    {
     "data": {
      "text/plain": [
       "35"
      ]
     },
     "metadata": {},
     "output_type": "display_data"
    },
    {
     "data": {
      "text/html": [
       "<div>\n",
       "<style scoped>\n",
       "    .dataframe tbody tr th:only-of-type {\n",
       "        vertical-align: middle;\n",
       "    }\n",
       "\n",
       "    .dataframe tbody tr th {\n",
       "        vertical-align: top;\n",
       "    }\n",
       "\n",
       "    .dataframe thead th {\n",
       "        text-align: right;\n",
       "    }\n",
       "</style>\n",
       "<table border=\"1\" class=\"dataframe\">\n",
       "  <thead>\n",
       "    <tr style=\"text-align: right;\">\n",
       "      <th></th>\n",
       "      <th>id</th>\n",
       "      <th>Период</th>\n",
       "      <th>Выручка</th>\n",
       "    </tr>\n",
       "  </thead>\n",
       "  <tbody>\n",
       "    <tr>\n",
       "      <th>98</th>\n",
       "      <td>215380</td>\n",
       "      <td>текущий_месяц</td>\n",
       "      <td>106862.2</td>\n",
       "    </tr>\n",
       "  </tbody>\n",
       "</table>\n",
       "</div>"
      ],
      "text/plain": [
       "        id         Период   Выручка\n",
       "98  215380  текущий_месяц  106862.2"
      ]
     },
     "execution_count": 30,
     "metadata": {},
     "output_type": "execute_result"
    }
   ],
   "source": [
    "display(len(market_money_1.query('Выручка > 8000')))\n",
    "display(len(market_money_1.query('Выручка > 7000')))\n",
    "market_money_1.query('Выручка > 8000')"
   ]
  },
  {
   "cell_type": "markdown",
   "metadata": {},
   "source": [
    "Ограничим данные порогом 8000 рублей в месяц"
   ]
  },
  {
   "cell_type": "code",
   "execution_count": 31,
   "metadata": {},
   "outputs": [
    {
     "data": {
      "image/png": "[encoded data removed]",
      "text/plain": [
       "<Figure size 432x288 with 1 Axes>"
      ]
     },
     "metadata": {
      "needs_background": "light"
     },
     "output_type": "display_data"
    }
   ],
   "source": [
    "sns.histplot(data=market_money_1.query('Выручка < 8000'), x=\"Выручка\");\n",
    "plt.title('Распределение ежемесячной выручки');\n",
    "plt.xlabel('Величина выручки');\n",
    "plt.ylabel('Количество');"
   ]
  },
  {
   "cell_type": "code",
   "execution_count": 32,
   "metadata": {},
   "outputs": [
    {
     "data": {
      "image/png": "[encoded data removed]",
      "text/plain": [
       "<Figure size 432x288 with 1 Axes>"
      ]
     },
     "metadata": {
      "needs_background": "light"
     },
     "output_type": "display_data"
    }
   ],
   "source": [
    "sns.countplot(data=market_time_1, x=\"минут\");\n",
    "plt.title('Распределение времени, потраченного клиентом на сайте');\n",
    "plt.xlabel('Время, мин');\n",
    "plt.ylabel('Количество');"
   ]
  },
  {
   "cell_type": "markdown",
   "metadata": {},
   "source": [
    "Клиент ежемесячно тратит от 11 до 15 минут на сайте"
   ]
  },
  {
   "cell_type": "code",
   "execution_count": 33,
   "metadata": {},
   "outputs": [
    {
     "data": {
      "image/png": "[encoded data removed]",
      "text/plain": [
       "<Figure size 864x864 with 9 Axes>"
      ]
     },
     "metadata": {
      "needs_background": "light"
     },
     "output_type": "display_data"
    }
   ],
   "source": [
    "fig, axes = plt.subplots(3, 3, figsize=(12,12));\n",
    "plt.subplots_adjust(wspace=0.5, hspace=0.3)\n",
    "sns.boxplot(data=market_file_1, y='маркет_актив_6_мес', ax=axes[0, 0]).set (\n",
    "    title='Маркетинг за 6 месяцев');\n",
    "sns.boxplot(data=market_file_1, y='акционные_покупки', ax=axes[0, 1]).set (\n",
    "    title='Доля акционных товаров');\n",
    "sns.boxplot(data=market_file_1, y='средний_просмотр_категорий_за_визит', ax=axes[0, 2]).set (\n",
    "    title='Категории за визит');\n",
    "sns.boxplot(data=market_file_1, y='неоплаченные_продукты_штук_квартал', ax=axes[1, 0]).set (\n",
    "    title='Товары в корзине');\n",
    "sns.boxplot(data=market_file_1, y='ошибка_сервиса', ax=axes[1, 1]).set (\n",
    "    title='Ошибки сервиса');\n",
    "sns.boxplot(data=market_file_1, y='страниц_за_визит', ax=axes[1, 2]).set (\n",
    "    title='Количество страниц за визит');\n",
    "sns.boxplot(data=market_file_1, y='длительность', ax=axes[2, 0]).set (\n",
    "    title='Длительность регистрации');\n",
    "sns.boxplot(data=market_money_1.query('Выручка < 8000'), y='Выручка', ax=axes[2, 1]).set (\n",
    "    title='Выручка, помесячно');\n",
    "sns.boxplot(data=market_time_1, y='минут', ax=axes[2, 2]).set (\n",
    "    title='Время на сайте, помесячно');"
   ]
  },
  {
   "cell_type": "markdown",
   "metadata": {},
   "source": [
    "*Маркетинг за 6 месяцев:*  \n",
    "основная часть данных сгруппирована в области 4-5 предложений клиентам за месяц.   \n",
    "*Доля акционных товаров:*  \n",
    "основная часть данных находится в области 20-30% покупок по акции. Но на гистограмме клиенты делились на две большие группы.  \n",
    "*Категории за визит:*  \n",
    "в основном, клиенты просматривают 2-4 категории товаров за один визит на сайт.  \n",
    "*Товары в корзине:*  \n",
    "в основном, клиенты могут оставлять в корзине от 1 до 4 неоплаченных товаров.  \n",
    "*Ошибки сервиса:*  \n",
    "в сновном пользователи сталкиваются с 3-6 ошибками сервиса.  \n",
    "*Количество страниц за визит:*  \n",
    "в среднем клиент успевает просмотреть от 5 до 11 страниц в интернет-магазине.  \n",
    "*Длительность регистрации:*  \n",
    "основная часть клиентов зарегистрирована на сайте от одного года до двух с половиной.  \n",
    "*Выручка помесячно:*  \n",
    "основное количество клиентов тратит в месяц в этом интернет-магазине 4500-5500 рублей.  \n",
    "*Время на сайте помесячно:*  \n",
    "в основном клиент тратит на сайте в месяц от 10 до 16 минут. Это довольно мало времени."
   ]
  },
  {
   "cell_type": "markdown",
   "metadata": {},
   "source": [
    "**Шаг 4. Объединение таблиц**"
   ]
  },
  {
   "cell_type": "code",
   "execution_count": 34,
   "metadata": {},
   "outputs": [
    {
     "data": {
      "text/html": [
       "<div>\n",
       "<style scoped>\n",
       "    .dataframe tbody tr th:only-of-type {\n",
       "        vertical-align: middle;\n",
       "    }\n",
       "\n",
       "    .dataframe tbody tr th {\n",
       "        vertical-align: top;\n",
       "    }\n",
       "\n",
       "    .dataframe thead th {\n",
       "        text-align: right;\n",
       "    }\n",
       "</style>\n",
       "<table border=\"1\" class=\"dataframe\">\n",
       "  <thead>\n",
       "    <tr style=\"text-align: right;\">\n",
       "      <th>Период</th>\n",
       "      <th>предыдущий_месяц</th>\n",
       "      <th>препредыдущий_месяц</th>\n",
       "      <th>текущий_месяц</th>\n",
       "    </tr>\n",
       "    <tr>\n",
       "      <th>id</th>\n",
       "      <th></th>\n",
       "      <th></th>\n",
       "      <th></th>\n",
       "    </tr>\n",
       "  </thead>\n",
       "  <tbody>\n",
       "    <tr>\n",
       "      <th>215349</th>\n",
       "      <td>5216.0</td>\n",
       "      <td>4472.0</td>\n",
       "      <td>4971.6</td>\n",
       "    </tr>\n",
       "    <tr>\n",
       "      <th>215350</th>\n",
       "      <td>5457.5</td>\n",
       "      <td>4826.0</td>\n",
       "      <td>5058.4</td>\n",
       "    </tr>\n",
       "    <tr>\n",
       "      <th>215351</th>\n",
       "      <td>6158.0</td>\n",
       "      <td>4793.0</td>\n",
       "      <td>6610.4</td>\n",
       "    </tr>\n",
       "    <tr>\n",
       "      <th>215352</th>\n",
       "      <td>5807.5</td>\n",
       "      <td>4594.0</td>\n",
       "      <td>5872.5</td>\n",
       "    </tr>\n",
       "    <tr>\n",
       "      <th>215353</th>\n",
       "      <td>4738.5</td>\n",
       "      <td>5124.0</td>\n",
       "      <td>5388.5</td>\n",
       "    </tr>\n",
       "    <tr>\n",
       "      <th>215354</th>\n",
       "      <td>5685.0</td>\n",
       "      <td>4503.0</td>\n",
       "      <td>5869.6</td>\n",
       "    </tr>\n",
       "    <tr>\n",
       "      <th>215355</th>\n",
       "      <td>3263.0</td>\n",
       "      <td>4749.0</td>\n",
       "      <td>3772.6</td>\n",
       "    </tr>\n",
       "    <tr>\n",
       "      <th>215356</th>\n",
       "      <td>4146.5</td>\n",
       "      <td>4433.0</td>\n",
       "      <td>4566.4</td>\n",
       "    </tr>\n",
       "    <tr>\n",
       "      <th>215358</th>\n",
       "      <td>3488.0</td>\n",
       "      <td>4727.0</td>\n",
       "      <td>4209.5</td>\n",
       "    </tr>\n",
       "    <tr>\n",
       "      <th>215360</th>\n",
       "      <td>5304.5</td>\n",
       "      <td>5555.0</td>\n",
       "      <td>5834.9</td>\n",
       "    </tr>\n",
       "  </tbody>\n",
       "</table>\n",
       "</div>"
      ],
      "text/plain": [
       "Период  предыдущий_месяц  препредыдущий_месяц  текущий_месяц\n",
       "id                                                          \n",
       "215349            5216.0               4472.0         4971.6\n",
       "215350            5457.5               4826.0         5058.4\n",
       "215351            6158.0               4793.0         6610.4\n",
       "215352            5807.5               4594.0         5872.5\n",
       "215353            4738.5               5124.0         5388.5\n",
       "215354            5685.0               4503.0         5869.6\n",
       "215355            3263.0               4749.0         3772.6\n",
       "215356            4146.5               4433.0         4566.4\n",
       "215358            3488.0               4727.0         4209.5\n",
       "215360            5304.5               5555.0         5834.9"
      ]
     },
     "execution_count": 34,
     "metadata": {},
     "output_type": "execute_result"
    }
   ],
   "source": [
    "market_money_pivot = market_money_1.pivot_table(index='id', \n",
    "                                                columns='Период', values='Выручка')\n",
    "market_money_pivot.head(10)"
   ]
  },
  {
   "cell_type": "code",
   "execution_count": 35,
   "metadata": {},
   "outputs": [
    {
     "data": {
      "text/html": [
       "<div>\n",
       "<style scoped>\n",
       "    .dataframe tbody tr th:only-of-type {\n",
       "        vertical-align: middle;\n",
       "    }\n",
       "\n",
       "    .dataframe tbody tr th {\n",
       "        vertical-align: top;\n",
       "    }\n",
       "\n",
       "    .dataframe thead th {\n",
       "        text-align: right;\n",
       "    }\n",
       "</style>\n",
       "<table border=\"1\" class=\"dataframe\">\n",
       "  <thead>\n",
       "    <tr style=\"text-align: right;\">\n",
       "      <th>Период</th>\n",
       "      <th>предыдцщий_месяц</th>\n",
       "      <th>текущий_месяц</th>\n",
       "    </tr>\n",
       "    <tr>\n",
       "      <th>id</th>\n",
       "      <th></th>\n",
       "      <th></th>\n",
       "    </tr>\n",
       "  </thead>\n",
       "  <tbody>\n",
       "    <tr>\n",
       "      <th>215349</th>\n",
       "      <td>12</td>\n",
       "      <td>10</td>\n",
       "    </tr>\n",
       "    <tr>\n",
       "      <th>215350</th>\n",
       "      <td>8</td>\n",
       "      <td>13</td>\n",
       "    </tr>\n",
       "    <tr>\n",
       "      <th>215351</th>\n",
       "      <td>11</td>\n",
       "      <td>13</td>\n",
       "    </tr>\n",
       "    <tr>\n",
       "      <th>215352</th>\n",
       "      <td>8</td>\n",
       "      <td>11</td>\n",
       "    </tr>\n",
       "    <tr>\n",
       "      <th>215353</th>\n",
       "      <td>10</td>\n",
       "      <td>10</td>\n",
       "    </tr>\n",
       "    <tr>\n",
       "      <th>215354</th>\n",
       "      <td>11</td>\n",
       "      <td>12</td>\n",
       "    </tr>\n",
       "    <tr>\n",
       "      <th>215355</th>\n",
       "      <td>12</td>\n",
       "      <td>10</td>\n",
       "    </tr>\n",
       "    <tr>\n",
       "      <th>215356</th>\n",
       "      <td>6</td>\n",
       "      <td>7</td>\n",
       "    </tr>\n",
       "    <tr>\n",
       "      <th>215358</th>\n",
       "      <td>14</td>\n",
       "      <td>10</td>\n",
       "    </tr>\n",
       "    <tr>\n",
       "      <th>215360</th>\n",
       "      <td>9</td>\n",
       "      <td>6</td>\n",
       "    </tr>\n",
       "  </tbody>\n",
       "</table>\n",
       "</div>"
      ],
      "text/plain": [
       "Период  предыдцщий_месяц  текущий_месяц\n",
       "id                                     \n",
       "215349                12             10\n",
       "215350                 8             13\n",
       "215351                11             13\n",
       "215352                 8             11\n",
       "215353                10             10\n",
       "215354                11             12\n",
       "215355                12             10\n",
       "215356                 6              7\n",
       "215358                14             10\n",
       "215360                 9              6"
      ]
     },
     "execution_count": 35,
     "metadata": {},
     "output_type": "execute_result"
    }
   ],
   "source": [
    "market_time_pivot = market_time_1.pivot_table(index='id', \n",
    "                                              columns='Период', values='минут')\n",
    "market_time_pivot.head(10)"
   ]
  },
  {
   "cell_type": "code",
   "execution_count": 36,
   "metadata": {},
   "outputs": [
    {
     "data": {
      "text/html": [
       "<div>\n",
       "<style scoped>\n",
       "    .dataframe tbody tr th:only-of-type {\n",
       "        vertical-align: middle;\n",
       "    }\n",
       "\n",
       "    .dataframe tbody tr th {\n",
       "        vertical-align: top;\n",
       "    }\n",
       "\n",
       "    .dataframe thead th {\n",
       "        text-align: right;\n",
       "    }\n",
       "</style>\n",
       "<table border=\"1\" class=\"dataframe\">\n",
       "  <thead>\n",
       "    <tr style=\"text-align: right;\">\n",
       "      <th></th>\n",
       "      <th>id</th>\n",
       "      <th>покупательская_активность</th>\n",
       "      <th>тип_сервиса</th>\n",
       "      <th>разрешить_сообщать</th>\n",
       "      <th>маркет_актив_6_мес</th>\n",
       "      <th>маркет_актив_тек_мес</th>\n",
       "      <th>длительность</th>\n",
       "      <th>акционные_покупки</th>\n",
       "      <th>популярная_категория</th>\n",
       "      <th>средний_просмотр_категорий_за_визит</th>\n",
       "      <th>неоплаченные_продукты_штук_квартал</th>\n",
       "      <th>ошибка_сервиса</th>\n",
       "      <th>страниц_за_визит</th>\n",
       "      <th>предыдущий_месяц</th>\n",
       "      <th>препредыдущий_месяц</th>\n",
       "      <th>текущий_месяц_x</th>\n",
       "      <th>предыдцщий_месяц</th>\n",
       "      <th>текущий_месяц_y</th>\n",
       "    </tr>\n",
       "  </thead>\n",
       "  <tbody>\n",
       "    <tr>\n",
       "      <th>0</th>\n",
       "      <td>215349</td>\n",
       "      <td>Снизилась</td>\n",
       "      <td>премиум</td>\n",
       "      <td>да</td>\n",
       "      <td>4.4</td>\n",
       "      <td>4</td>\n",
       "      <td>819</td>\n",
       "      <td>0.75</td>\n",
       "      <td>Товары для детей</td>\n",
       "      <td>4</td>\n",
       "      <td>4</td>\n",
       "      <td>2</td>\n",
       "      <td>5</td>\n",
       "      <td>5216.0</td>\n",
       "      <td>4472.0</td>\n",
       "      <td>4971.6</td>\n",
       "      <td>12</td>\n",
       "      <td>10</td>\n",
       "    </tr>\n",
       "    <tr>\n",
       "      <th>1</th>\n",
       "      <td>215350</td>\n",
       "      <td>Снизилась</td>\n",
       "      <td>стандарт</td>\n",
       "      <td>нет</td>\n",
       "      <td>4.9</td>\n",
       "      <td>3</td>\n",
       "      <td>539</td>\n",
       "      <td>0.14</td>\n",
       "      <td>Домашний текстиль</td>\n",
       "      <td>5</td>\n",
       "      <td>2</td>\n",
       "      <td>1</td>\n",
       "      <td>5</td>\n",
       "      <td>5457.5</td>\n",
       "      <td>4826.0</td>\n",
       "      <td>5058.4</td>\n",
       "      <td>8</td>\n",
       "      <td>13</td>\n",
       "    </tr>\n",
       "    <tr>\n",
       "      <th>2</th>\n",
       "      <td>215351</td>\n",
       "      <td>Снизилась</td>\n",
       "      <td>стандарт</td>\n",
       "      <td>да</td>\n",
       "      <td>3.2</td>\n",
       "      <td>5</td>\n",
       "      <td>896</td>\n",
       "      <td>0.99</td>\n",
       "      <td>Товары для детей</td>\n",
       "      <td>5</td>\n",
       "      <td>0</td>\n",
       "      <td>6</td>\n",
       "      <td>4</td>\n",
       "      <td>6158.0</td>\n",
       "      <td>4793.0</td>\n",
       "      <td>6610.4</td>\n",
       "      <td>11</td>\n",
       "      <td>13</td>\n",
       "    </tr>\n",
       "    <tr>\n",
       "      <th>3</th>\n",
       "      <td>215352</td>\n",
       "      <td>Снизилась</td>\n",
       "      <td>стандарт</td>\n",
       "      <td>нет</td>\n",
       "      <td>5.1</td>\n",
       "      <td>3</td>\n",
       "      <td>1064</td>\n",
       "      <td>0.94</td>\n",
       "      <td>Товары для детей</td>\n",
       "      <td>3</td>\n",
       "      <td>2</td>\n",
       "      <td>3</td>\n",
       "      <td>2</td>\n",
       "      <td>5807.5</td>\n",
       "      <td>4594.0</td>\n",
       "      <td>5872.5</td>\n",
       "      <td>8</td>\n",
       "      <td>11</td>\n",
       "    </tr>\n",
       "    <tr>\n",
       "      <th>4</th>\n",
       "      <td>215353</td>\n",
       "      <td>Снизилась</td>\n",
       "      <td>стандарт</td>\n",
       "      <td>да</td>\n",
       "      <td>3.3</td>\n",
       "      <td>4</td>\n",
       "      <td>762</td>\n",
       "      <td>0.26</td>\n",
       "      <td>Домашний текстиль</td>\n",
       "      <td>4</td>\n",
       "      <td>1</td>\n",
       "      <td>1</td>\n",
       "      <td>4</td>\n",
       "      <td>4738.5</td>\n",
       "      <td>5124.0</td>\n",
       "      <td>5388.5</td>\n",
       "      <td>10</td>\n",
       "      <td>10</td>\n",
       "    </tr>\n",
       "    <tr>\n",
       "      <th>5</th>\n",
       "      <td>215354</td>\n",
       "      <td>Снизилась</td>\n",
       "      <td>стандарт</td>\n",
       "      <td>да</td>\n",
       "      <td>5.1</td>\n",
       "      <td>3</td>\n",
       "      <td>431</td>\n",
       "      <td>0.23</td>\n",
       "      <td>Косметика и аксесуары</td>\n",
       "      <td>2</td>\n",
       "      <td>3</td>\n",
       "      <td>7</td>\n",
       "      <td>2</td>\n",
       "      <td>5685.0</td>\n",
       "      <td>4503.0</td>\n",
       "      <td>5869.6</td>\n",
       "      <td>11</td>\n",
       "      <td>12</td>\n",
       "    </tr>\n",
       "    <tr>\n",
       "      <th>6</th>\n",
       "      <td>215355</td>\n",
       "      <td>Снизилась</td>\n",
       "      <td>стандарт</td>\n",
       "      <td>нет</td>\n",
       "      <td>4.7</td>\n",
       "      <td>4</td>\n",
       "      <td>284</td>\n",
       "      <td>0.17</td>\n",
       "      <td>Товары для детей</td>\n",
       "      <td>5</td>\n",
       "      <td>1</td>\n",
       "      <td>6</td>\n",
       "      <td>4</td>\n",
       "      <td>3263.0</td>\n",
       "      <td>4749.0</td>\n",
       "      <td>3772.6</td>\n",
       "      <td>12</td>\n",
       "      <td>10</td>\n",
       "    </tr>\n",
       "    <tr>\n",
       "      <th>7</th>\n",
       "      <td>215356</td>\n",
       "      <td>Снизилась</td>\n",
       "      <td>стандарт</td>\n",
       "      <td>да</td>\n",
       "      <td>4.2</td>\n",
       "      <td>4</td>\n",
       "      <td>192</td>\n",
       "      <td>0.14</td>\n",
       "      <td>Косметика и аксесуары</td>\n",
       "      <td>2</td>\n",
       "      <td>2</td>\n",
       "      <td>1</td>\n",
       "      <td>3</td>\n",
       "      <td>4146.5</td>\n",
       "      <td>4433.0</td>\n",
       "      <td>4566.4</td>\n",
       "      <td>6</td>\n",
       "      <td>7</td>\n",
       "    </tr>\n",
       "    <tr>\n",
       "      <th>8</th>\n",
       "      <td>215358</td>\n",
       "      <td>Снизилась</td>\n",
       "      <td>стандарт</td>\n",
       "      <td>да</td>\n",
       "      <td>4.7</td>\n",
       "      <td>4</td>\n",
       "      <td>450</td>\n",
       "      <td>0.13</td>\n",
       "      <td>Домашний текстиль</td>\n",
       "      <td>4</td>\n",
       "      <td>2</td>\n",
       "      <td>6</td>\n",
       "      <td>4</td>\n",
       "      <td>3488.0</td>\n",
       "      <td>4727.0</td>\n",
       "      <td>4209.5</td>\n",
       "      <td>14</td>\n",
       "      <td>10</td>\n",
       "    </tr>\n",
       "    <tr>\n",
       "      <th>9</th>\n",
       "      <td>215360</td>\n",
       "      <td>Снизилась</td>\n",
       "      <td>премиум</td>\n",
       "      <td>да</td>\n",
       "      <td>3.9</td>\n",
       "      <td>3</td>\n",
       "      <td>623</td>\n",
       "      <td>0.35</td>\n",
       "      <td>Кухонная посуда</td>\n",
       "      <td>3</td>\n",
       "      <td>1</td>\n",
       "      <td>4</td>\n",
       "      <td>7</td>\n",
       "      <td>5304.5</td>\n",
       "      <td>5555.0</td>\n",
       "      <td>5834.9</td>\n",
       "      <td>9</td>\n",
       "      <td>6</td>\n",
       "    </tr>\n",
       "  </tbody>\n",
       "</table>\n",
       "</div>"
      ],
      "text/plain": [
       "       id покупательская_активность тип_сервиса разрешить_сообщать  \\\n",
       "0  215349                 Снизилась     премиум                 да   \n",
       "1  215350                 Снизилась    стандарт                нет   \n",
       "2  215351                 Снизилась    стандарт                 да   \n",
       "3  215352                 Снизилась    стандарт                нет   \n",
       "4  215353                 Снизилась    стандарт                 да   \n",
       "5  215354                 Снизилась    стандарт                 да   \n",
       "6  215355                 Снизилась    стандарт                нет   \n",
       "7  215356                 Снизилась    стандарт                 да   \n",
       "8  215358                 Снизилась    стандарт                 да   \n",
       "9  215360                 Снизилась     премиум                 да   \n",
       "\n",
       "   маркет_актив_6_мес  маркет_актив_тек_мес  длительность  акционные_покупки  \\\n",
       "0                 4.4                     4           819               0.75   \n",
       "1                 4.9                     3           539               0.14   \n",
       "2                 3.2                     5           896               0.99   \n",
       "3                 5.1                     3          1064               0.94   \n",
       "4                 3.3                     4           762               0.26   \n",
       "5                 5.1                     3           431               0.23   \n",
       "6                 4.7                     4           284               0.17   \n",
       "7                 4.2                     4           192               0.14   \n",
       "8                 4.7                     4           450               0.13   \n",
       "9                 3.9                     3           623               0.35   \n",
       "\n",
       "    популярная_категория  средний_просмотр_категорий_за_визит  \\\n",
       "0       Товары для детей                                    4   \n",
       "1      Домашний текстиль                                    5   \n",
       "2       Товары для детей                                    5   \n",
       "3       Товары для детей                                    3   \n",
       "4      Домашний текстиль                                    4   \n",
       "5  Косметика и аксесуары                                    2   \n",
       "6       Товары для детей                                    5   \n",
       "7  Косметика и аксесуары                                    2   \n",
       "8      Домашний текстиль                                    4   \n",
       "9        Кухонная посуда                                    3   \n",
       "\n",
       "   неоплаченные_продукты_штук_квартал  ошибка_сервиса  страниц_за_визит  \\\n",
       "0                                   4               2                 5   \n",
       "1                                   2               1                 5   \n",
       "2                                   0               6                 4   \n",
       "3                                   2               3                 2   \n",
       "4                                   1               1                 4   \n",
       "5                                   3               7                 2   \n",
       "6                                   1               6                 4   \n",
       "7                                   2               1                 3   \n",
       "8                                   2               6                 4   \n",
       "9                                   1               4                 7   \n",
       "\n",
       "   предыдущий_месяц  препредыдущий_месяц  текущий_месяц_x  предыдцщий_месяц  \\\n",
       "0            5216.0               4472.0           4971.6                12   \n",
       "1            5457.5               4826.0           5058.4                 8   \n",
       "2            6158.0               4793.0           6610.4                11   \n",
       "3            5807.5               4594.0           5872.5                 8   \n",
       "4            4738.5               5124.0           5388.5                10   \n",
       "5            5685.0               4503.0           5869.6                11   \n",
       "6            3263.0               4749.0           3772.6                12   \n",
       "7            4146.5               4433.0           4566.4                 6   \n",
       "8            3488.0               4727.0           4209.5                14   \n",
       "9            5304.5               5555.0           5834.9                 9   \n",
       "\n",
       "   текущий_месяц_y  \n",
       "0               10  \n",
       "1               13  \n",
       "2               13  \n",
       "3               11  \n",
       "4               10  \n",
       "5               12  \n",
       "6               10  \n",
       "7                7  \n",
       "8               10  \n",
       "9                6  "
      ]
     },
     "execution_count": 36,
     "metadata": {},
     "output_type": "execute_result"
    }
   ],
   "source": [
    "df_market = market_file_1.merge(market_money_pivot, on='id', how='left')\n",
    "df_market = df_market.merge(market_time_pivot, on='id', how='left')\n",
    "\n",
    "df_market.head(10)"
   ]
  },
  {
   "cell_type": "code",
   "execution_count": 37,
   "metadata": {},
   "outputs": [
    {
     "name": "stdout",
     "output_type": "stream",
     "text": [
      "Пропущенные значения в данных df_market:\n"
     ]
    },
    {
     "data": {
      "text/plain": [
       "id                                     0\n",
       "покупательская_активность              0\n",
       "тип_сервиса                            0\n",
       "разрешить_сообщать                     0\n",
       "маркет_актив_6_мес                     0\n",
       "маркет_актив_тек_мес                   0\n",
       "длительность                           0\n",
       "акционные_покупки                      0\n",
       "популярная_категория                   0\n",
       "средний_просмотр_категорий_за_визит    0\n",
       "неоплаченные_продукты_штук_квартал     0\n",
       "ошибка_сервиса                         0\n",
       "страниц_за_визит                       0\n",
       "предыдущий_месяц                       0\n",
       "препредыдущий_месяц                    0\n",
       "текущий_месяц_x                        0\n",
       "предыдцщий_месяц                       0\n",
       "текущий_месяц_y                        0\n",
       "dtype: int64"
      ]
     },
     "metadata": {},
     "output_type": "display_data"
    },
    {
     "name": "stdout",
     "output_type": "stream",
     "text": [
      "\n",
      "Дубликаты в данных df_market:\n"
     ]
    },
    {
     "data": {
      "text/plain": [
       "0"
      ]
     },
     "metadata": {},
     "output_type": "display_data"
    },
    {
     "name": "stdout",
     "output_type": "stream",
     "text": [
      "Общая информация о данных df_market:\n",
      "<class 'pandas.core.frame.DataFrame'>\n",
      "Int64Index: 1297 entries, 0 to 1296\n",
      "Data columns (total 18 columns):\n",
      " #   Column                               Non-Null Count  Dtype  \n",
      "---  ------                               --------------  -----  \n",
      " 0   id                                   1297 non-null   int64  \n",
      " 1   покупательская_активность            1297 non-null   object \n",
      " 2   тип_сервиса                          1297 non-null   object \n",
      " 3   разрешить_сообщать                   1297 non-null   object \n",
      " 4   маркет_актив_6_мес                   1297 non-null   float64\n",
      " 5   маркет_актив_тек_мес                 1297 non-null   int64  \n",
      " 6   длительность                         1297 non-null   int64  \n",
      " 7   акционные_покупки                    1297 non-null   float64\n",
      " 8   популярная_категория                 1297 non-null   object \n",
      " 9   средний_просмотр_категорий_за_визит  1297 non-null   int64  \n",
      " 10  неоплаченные_продукты_штук_квартал   1297 non-null   int64  \n",
      " 11  ошибка_сервиса                       1297 non-null   int64  \n",
      " 12  страниц_за_визит                     1297 non-null   int64  \n",
      " 13  предыдущий_месяц                     1297 non-null   float64\n",
      " 14  препредыдущий_месяц                  1297 non-null   float64\n",
      " 15  текущий_месяц_x                      1297 non-null   float64\n",
      " 16  предыдцщий_месяц                     1297 non-null   int64  \n",
      " 17  текущий_месяц_y                      1297 non-null   int64  \n",
      "dtypes: float64(5), int64(9), object(4)\n",
      "memory usage: 192.5+ KB\n"
     ]
    }
   ],
   "source": [
    "# Проверка на пропущенные значения\n",
    "print(\"Пропущенные значения в данных df_market:\")\n",
    "display(df_market.isnull().sum())\n",
    "# Проверка на дубликаты\n",
    "print(\"\\nДубликаты в данных df_market:\")\n",
    "display(df_market.duplicated().sum())\n",
    "print(\"Общая информация о данных df_market:\")\n",
    "df_market.info()"
   ]
  },
  {
   "cell_type": "markdown",
   "metadata": {},
   "source": [
    "Мы успешно выполнили задачу объеденения и проверки данных, что позволит нам провести более глубокий и точный анализ в будущем."
   ]
  },
  {
   "cell_type": "code",
   "execution_count": 38,
   "metadata": {},
   "outputs": [
    {
     "data": {
      "text/plain": [
       "106862.2"
      ]
     },
     "execution_count": 38,
     "metadata": {},
     "output_type": "execute_result"
    }
   ],
   "source": [
    "df_market.текущий_месяц_x.max()"
   ]
  },
  {
   "cell_type": "code",
   "execution_count": 39,
   "metadata": {},
   "outputs": [
    {
     "data": {
      "text/html": [
       "<div>\n",
       "<style scoped>\n",
       "    .dataframe tbody tr th:only-of-type {\n",
       "        vertical-align: middle;\n",
       "    }\n",
       "\n",
       "    .dataframe tbody tr th {\n",
       "        vertical-align: top;\n",
       "    }\n",
       "\n",
       "    .dataframe thead th {\n",
       "        text-align: right;\n",
       "    }\n",
       "</style>\n",
       "<table border=\"1\" class=\"dataframe\">\n",
       "  <thead>\n",
       "    <tr style=\"text-align: right;\">\n",
       "      <th></th>\n",
       "      <th>id</th>\n",
       "      <th>покупательская_активность</th>\n",
       "      <th>тип_сервиса</th>\n",
       "      <th>разрешить_сообщать</th>\n",
       "      <th>маркет_актив_6_мес</th>\n",
       "      <th>маркет_актив_тек_мес</th>\n",
       "      <th>длительность</th>\n",
       "      <th>акционные_покупки</th>\n",
       "      <th>популярная_категория</th>\n",
       "      <th>средний_просмотр_категорий_за_визит</th>\n",
       "      <th>неоплаченные_продукты_штук_квартал</th>\n",
       "      <th>ошибка_сервиса</th>\n",
       "      <th>страниц_за_визит</th>\n",
       "      <th>предыдущий_месяц</th>\n",
       "      <th>препредыдущий_месяц</th>\n",
       "      <th>текущий_месяц_x</th>\n",
       "      <th>предыдцщий_месяц</th>\n",
       "      <th>текущий_месяц_y</th>\n",
       "    </tr>\n",
       "  </thead>\n",
       "  <tbody>\n",
       "    <tr>\n",
       "      <th>29</th>\n",
       "      <td>215380</td>\n",
       "      <td>Снизилась</td>\n",
       "      <td>премиум</td>\n",
       "      <td>нет</td>\n",
       "      <td>1.7</td>\n",
       "      <td>4</td>\n",
       "      <td>637</td>\n",
       "      <td>0.94</td>\n",
       "      <td>Техника для красоты и здоровья</td>\n",
       "      <td>3</td>\n",
       "      <td>2</td>\n",
       "      <td>4</td>\n",
       "      <td>7</td>\n",
       "      <td>6077.0</td>\n",
       "      <td>5051.0</td>\n",
       "      <td>106862.2</td>\n",
       "      <td>12</td>\n",
       "      <td>14</td>\n",
       "    </tr>\n",
       "  </tbody>\n",
       "</table>\n",
       "</div>"
      ],
      "text/plain": [
       "        id покупательская_активность тип_сервиса разрешить_сообщать  \\\n",
       "29  215380                 Снизилась     премиум                нет   \n",
       "\n",
       "    маркет_актив_6_мес  маркет_актив_тек_мес  длительность  акционные_покупки  \\\n",
       "29                 1.7                     4           637               0.94   \n",
       "\n",
       "              популярная_категория  средний_просмотр_категорий_за_визит  \\\n",
       "29  Техника для красоты и здоровья                                    3   \n",
       "\n",
       "    неоплаченные_продукты_штук_квартал  ошибка_сервиса  страниц_за_визит  \\\n",
       "29                                   2               4                 7   \n",
       "\n",
       "    предыдущий_месяц  препредыдущий_месяц  текущий_месяц_x  предыдцщий_месяц  \\\n",
       "29            6077.0               5051.0         106862.2                12   \n",
       "\n",
       "    текущий_месяц_y  \n",
       "29               14  "
      ]
     },
     "execution_count": 39,
     "metadata": {},
     "output_type": "execute_result"
    }
   ],
   "source": [
    "df_market.loc[df_market['id']==215380]"
   ]
  },
  {
   "cell_type": "code",
   "execution_count": 40,
   "metadata": {},
   "outputs": [
    {
     "data": {
      "text/plain": [
       "(1296, 18)"
      ]
     },
     "execution_count": 40,
     "metadata": {},
     "output_type": "execute_result"
    }
   ],
   "source": [
    "df_market = df_market.loc[df_market['id']!=215380]\n",
    "df_market.shape"
   ]
  },
  {
   "cell_type": "markdown",
   "metadata": {},
   "source": [
    "**Шаг 5. Корреляционный анализ**"
   ]
  },
  {
   "cell_type": "code",
   "execution_count": 41,
   "metadata": {},
   "outputs": [],
   "source": [
    "# Удаление столбца 'id'\n",
    "data_without_id = df_market.drop('id', axis=1)\n"
   ]
  },
  {
   "cell_type": "code",
   "execution_count": 42,
   "metadata": {},
   "outputs": [
    {
     "name": "stdout",
     "output_type": "stream",
     "text": [
      "interval columns not set, guessing: ['маркет_актив_6_мес', 'маркет_актив_тек_мес', 'длительность', 'акционные_покупки', 'средний_просмотр_категорий_за_визит', 'неоплаченные_продукты_штук_квартал', 'ошибка_сервиса', 'страниц_за_визит', 'предыдущий_месяц', 'препредыдущий_месяц', 'текущий_месяц_x', 'предыдцщий_месяц', 'текущий_месяц_y']\n"
     ]
    },
    {
     "data": {
      "image/png": "[encoded data removed]",
      "text/plain": [
       "<Figure size 1080x720 with 2 Axes>"
      ]
     },
     "metadata": {
      "needs_background": "light"
     },
     "output_type": "display_data"
    }
   ],
   "source": [
    "# Вычисление матрицы корреляции Phi_K для данных без 'id'\n",
    "phik_matrix = data_without_id.phik_matrix()\n",
    "\n",
    "# Визуализация матрицы корреляции Phi_K\n",
    "plt.figure(figsize=(15, 10))\n",
    "sns.heatmap(phik_matrix, annot=True, fmt=\".2f\", cmap='coolwarm')\n",
    "plt.title(\"Матрица корреляции Phi_K\")\n",
    "plt.show()"
   ]
  },
  {
   "cell_type": "markdown",
   "metadata": {},
   "source": [
    "Наш целевой признак - \"покупательская активность\".   \n",
    "Наибольшее влияние на него оказывают следующие параметры: \"маркет актив 6 мес\", \"акционные покупки\", \"средний просмотр категорий за визит\", \"неоплаченные продукты штук квартал\", \"страниц за визит\", \"предпред месяц выручка\", \"пред месяц время\" и \"текущ месяц время\".  \n",
    "Некоторые признаки, такие как Тип сервиса и Разрешить сообщать, имеют низкую корреляцию с покупательской активностью. Это может указывать на то, что эти признаки могут не оказывать значительного влияния на покупательскую активность.  \n",
    "Однако корреляция не гарантирует причинно-следственную связь, и дополнительный анализ может быть необходим для определения важности этих признаков.  \n",
    "Мультиколлинеарности в данных не отмечено "
   ]
  },
  {
   "cell_type": "markdown",
   "metadata": {},
   "source": [
    "**Шаг 6. Использование пайплайнов**"
   ]
  },
  {
   "cell_type": "code",
   "execution_count": 43,
   "metadata": {},
   "outputs": [],
   "source": [
    "df_mod = df_market.drop('id', axis=1)"
   ]
  },
  {
   "cell_type": "code",
   "execution_count": 44,
   "metadata": {},
   "outputs": [],
   "source": [
    "# Заменяем значения в столбце Покупательская активность\n",
    "df_mod['покупательская_активность'] = df_mod['покупательская_активность'].replace({'Снизилась': 1, 'Прежний уровень': 0})"
   ]
  },
  {
   "cell_type": "code",
   "execution_count": 45,
   "metadata": {
    "scrolled": true
   },
   "outputs": [
    {
     "name": "stdout",
     "output_type": "stream",
     "text": [
      "Лучшая модель и её параметры:\n",
      "\n",
      " Pipeline(steps=[('preprocessor',\n",
      "                 ColumnTransformer(remainder='passthrough',\n",
      "                                   transformers=[('ohe',\n",
      "                                                  Pipeline(steps=[('ohe',\n",
      "                                                                   OneHotEncoder(drop='first'))]),\n",
      "                                                  ['тип_сервиса',\n",
      "                                                   'разрешить_сообщать',\n",
      "                                                   'популярная_категория']),\n",
      "                                                 ('num', MinMaxScaler(),\n",
      "                                                  ['маркет_актив_6_мес',\n",
      "                                                   'маркет_актив_тек_мес',\n",
      "                                                   'длительность',\n",
      "                                                   'акционные_покупки',\n",
      "                                                   'средний_просмотр_категорий_за_визит',\n",
      "                                                   'неоплаченные_продукты_штук_квартал',\n",
      "                                                   'ошибка_сервиса',\n",
      "                                                   'страниц_за_визит',\n",
      "                                                   'предыдущий_месяц',\n",
      "                                                   'препредыдущий_месяц',\n",
      "                                                   'текущий_месяц_x',\n",
      "                                                   'предыдцщий_месяц',\n",
      "                                                   'текущий_месяц_y']),\n",
      "                                                 ('ord',\n",
      "                                                  Pipeline(steps=[('ord',\n",
      "                                                                   OrdinalEncoder(handle_unknown='use_encoded_value',\n",
      "                                                                                  unknown_value=nan))]),\n",
      "                                                  ['тип_сервиса'])])),\n",
      "                ('model',\n",
      "                 LogisticRegression(C=1, penalty='l1', random_state=13,\n",
      "                                    solver='liblinear'))])\n",
      "Метрика лучшей модели на тренировочной выборке: 0.8998603594423435\n",
      "Метрика ROC-AUC на тестовой выборке: 0.8999\n",
      "Метрика ROC-AUC для класса 1 на тестовой выборке: 0.9122\n"
     ]
    }
   ],
   "source": [
    "# Задаем параметры для разделения данных\n",
    "RANDOM_STATE = 13\n",
    "TEST_SIZE = 0.20\n",
    "\n",
    "# Определение целевого признака\n",
    "target = 'покупательская_активность'\n",
    "\n",
    "# Получение списка всех признаков, за исключением целевого\n",
    "features = df_mod.columns.drop(target)\n",
    "\n",
    "# Определение числовых и текстовых признаков\n",
    "num_columns = df_mod[features].select_dtypes(include=['int64', 'float64']).columns.tolist()\n",
    "ohe_columns = df_mod[features].select_dtypes(include=['object']).columns.tolist()\n",
    "ord_columns = ['тип_сервиса']\n",
    "\n",
    "# Разделяем данные на обучающую и тестовую выборки\n",
    "X_train, X_test, y_train, y_test = train_test_split(\n",
    "    df_mod.drop(target, axis=1), # Независимые переменные\n",
    "    df_mod[target], # Зависимая переменная\n",
    "    test_size=TEST_SIZE, # Размер тестовой выборки\n",
    "    random_state=RANDOM_STATE # Случайное состояние для воспроизводимости\n",
    ")\n",
    "\n",
    "\n",
    "ohe_pipe = Pipeline(\n",
    "    [('ohe', OneHotEncoder(drop='first'))\n",
    "    ]\n",
    "    )\n",
    "ord_pipe = Pipeline(\n",
    "    [('ord', OrdinalEncoder(handle_unknown='use_encoded_value', unknown_value=np.nan))\n",
    "    ]\n",
    "    )\n",
    "\n",
    "# создаём общий пайплайн для подготовки данных\n",
    "data_preprocessor = ColumnTransformer(\n",
    "    [\n",
    "        ('ohe', ohe_pipe, ohe_columns),\n",
    "        ('num', MinMaxScaler(), num_columns),\n",
    "        ('ord', ord_pipe, ord_columns),\n",
    "    ], \n",
    "    remainder='passthrough'\n",
    ")\n",
    "\n",
    "\n",
    "pipe_final = Pipeline(\n",
    "    [\n",
    "        ('preprocessor', data_preprocessor),\n",
    "        ('model', DecisionTreeClassifier(random_state=RANDOM_STATE))\n",
    "    ]\n",
    ")\n",
    "\n",
    "# создаем список словарей для каждой модели\n",
    "param_grid = [\n",
    "        # словарь для модели DecisionTreeClassifier()\n",
    "    {\n",
    "        'model': [DecisionTreeClassifier(random_state=RANDOM_STATE)],\n",
    "        'model__max_depth': range(2,10),\n",
    "        'model__max_features': range(2,10),\n",
    "        'preprocessor__num': [StandardScaler(), MinMaxScaler(),  'passthrough']  \n",
    "    },\n",
    "    \n",
    "# словарь для модели LogisticRegression()    \n",
    "    {\n",
    "        'model': [LogisticRegression(solver='liblinear', penalty='l1', random_state=RANDOM_STATE)],\n",
    "        'model__C': range(1,5),        \n",
    "        'preprocessor__num': [StandardScaler(), MinMaxScaler(),'passthrough']  \n",
    "    }\n",
    "\n",
    "]\n",
    "\n",
    "grid = GridSearchCV(\n",
    "    pipe_final, \n",
    "    param_grid=param_grid, \n",
    "    cv=5,\n",
    "    scoring='roc_auc',\n",
    "    n_jobs=-1\n",
    ")\n",
    "grid.fit(X_train, y_train)\n",
    "print('Лучшая модель и её параметры:\\n\\n', grid.best_estimator_)\n",
    "print ('Метрика лучшей модели на тренировочной выборке:', grid.best_score_)\n",
    "y_test_pred = grid.predict(X_test)\n",
    "roc_auc = roc_auc_score(y_test, y_test_pred)\n",
    "print(f'Метрика ROC-AUC на тестовой выборке: {roc_auc:.4f}')\n",
    "# Предсказание вероятностей классов\n",
    "probabilities = grid.predict_proba(X_test)\n",
    "\n",
    "# Извлечение вероятностей для класса 1\n",
    "probabilities_one = probabilities[:, 1]\n",
    "\n",
    "# Вычисление ROC-AUC\n",
    "roc_auc = roc_auc_score(y_test, probabilities_one)\n",
    "\n",
    "print(f'Метрика ROC-AUC для класса 1 на тестовой выборке: {roc_auc:.4f}')"
   ]
  },
  {
   "cell_type": "markdown",
   "metadata": {},
   "source": [
    "В результате выполнения кода, была выбрана лучшая модель и её параметры. Лучшей моделью оказалась LogisticRegression(C=1, penalty='l1', random_state=13, solver='liblinear').Эта модель была обучена на данных, предварительно обработанных с помощью OneHotEncoder для категориальных признаков и MinMaxScaler для числовых признаков..\n",
    "\n",
    "Метрика лучшей модели на тренировочной выборке (0.9108): Это показывает, что модель хорошо обучилась на тренировочных данных и смогла уловить большую часть закономерностей в данных.\n",
    "\n",
    "Метрика ROC-AUC на тестовой выборке (0.8750): Это значение немного ниже, чем на тренировочной выборке, что говорит о том, что модель хорошо обобщает на новых данных, даже чуть лучше, чем на тренировочных данных.\n",
    "\n",
    "Метрика ROC-AUC вероятностей для класса 1 на тестовой выборке (0.9204): Это значение выше, чем просто метрика ROC-AUC на тестовой выборке, что говорит о том, что модель еще лучше работает, когда она оценивает вероятности классов, а не просто предсказывает метки классов.\n",
    "\n",
    "Таким образом, выбранная модель показала хорошие результаты и может быть использована для прогнозирования покупательской активности на основе предоставленных данных."
   ]
  },
  {
   "cell_type": "markdown",
   "metadata": {},
   "source": [
    "**Шаг 7. Анализ важности признаков**"
   ]
  },
  {
   "cell_type": "code",
   "execution_count": 46,
   "metadata": {},
   "outputs": [
    {
     "data": {
      "text/plain": [
       "None"
      ]
     },
     "metadata": {},
     "output_type": "display_data"
    },
    {
     "data": {
      "image/png": "[encoded data removed]",
      "text/plain": [
       "<Figure size 576x684 with 1 Axes>"
      ]
     },
     "metadata": {
      "needs_background": "light"
     },
     "output_type": "display_data"
    }
   ],
   "source": [
    "X_train_2 = pipe_final.named_steps['preprocessor'].fit_transform(X_train)\n",
    "explainer = shap.Explainer(grid.best_estimator_.named_steps['model'], X_train_2)\n",
    "X_test_2 = pipe_final.named_steps['preprocessor'].transform(X_test)\n",
    "feature_names = pipe_final.named_steps['preprocessor'].get_feature_names_out()\n",
    "X_test_2 = pd.DataFrame(X_test_2, columns=feature_names) \n",
    "shap_values = explainer(X_test_2) \n",
    "display(shap.summary_plot(shap_values, plot_type = 'bar', max_display = 20, show = False))"
   ]
  },
  {
   "cell_type": "markdown",
   "metadata": {},
   "source": [
    "Вывод: Признаки, такие как “num_минут_предыдущий_месяц”, “num_Страниц_за_визит” и “num_Средний просмотр категории за визит”, являются наиболее значимыми, так как они имеют наибольшее влияние на покупательскую активность."
   ]
  },
  {
   "cell_type": "code",
   "execution_count": 47,
   "metadata": {},
   "outputs": [
    {
     "data": {
      "image/png": "[encoded data removed]",
      "text/plain": [
       "<Figure size 576x712.8 with 2 Axes>"
      ]
     },
     "metadata": {
      "needs_background": "light"
     },
     "output_type": "display_data"
    }
   ],
   "source": [
    "shap.plots.beeswarm(shap_values, max_display=300) "
   ]
  },
  {
   "cell_type": "markdown",
   "metadata": {},
   "source": [
    "Самые влиятельные признаки, которые способствуют покупательской активности, это:\n",
    "\n",
    "\"num_минут_предыдущий_месяц\": Этот признак отражает, сколько времени покупатель проводил на сайте в минутах. Он имеет большое отрицательное значение SHAP, что означает, что чем больше этот признак, тем меньше шансов, что покупательская активность снизится.\n",
    "\n",
    "\"num_Страницы_за_визит\": Этот признак измеряет, сколько страниц покупатель просматривал за один визит на сайт в среднем за последние 3 месяца. Он также имеет большое отрицательное значение SHAP, что говорит о том, что чем больше этот признак, тем выше покупательская активность.\n",
    "\n",
    "\"num_Средний_просмотр_категории_за_визит\": Этот признак показывает, сколько категорий товаров покупатель смотрел за визит в среднем за последний месяц. Он имеет отрицательное значение SHAP, но меньше, чем у предыдущих двух признаков.\n",
    "\n",
    "\"num_Акционные покупки\": Этот признак вычисляет, какая доля покупок покупателя была по акции в среднем за последние 6 месяцев. Он имеет положительное значение SHAP, что значит, что чем больше этот признак, тем больше вероятность снижения покупательской активности.\n",
    "\n",
    "\"num_Неоплаченые продукты штука квартал\": Этот признак считает, сколько товаров покупатель оставлял в корзине без оплаты за последние 3 месяца. Он также имеет положительное значение SHAP, что свидетельствует о том, что чем больше этот признак, тем ниже покупательская активность.\n",
    "\n",
    "\"num_минут текущий месяц\": Этот признак отображает, сколько времени покупатель проводил на сайте в минутах. Он имеет небольшое отрицательное значение SHAP, что указывает на то, что чем больше этот признак, тем выше покупательская активность.\n",
    "\n",
    "\"num_Маркет актив 6 мес\": Этот признак определяет, сколько маркетинговых акций компании достигало покупателя в среднем за последние 6 месяцев. Это число включает в себя рассылки, звонки, рекламу и т.д. Он имеет отрицательное значение SHAP, что означает, что чем больше этот признак, тем выше покупательская активность.\n",
    "\n",
    "\"one_Популярная категория Мелкая бытовая техника и электроника\": Этот признак показывает, какая категория товаров была самой популярной у покупателя за последние 6 месяцев. Он имеет небольшое отрицательное значение SHAP, что значит, что чем больше этот признак, тем выше покупательская активность.\n",
    "\n",
    "num_выручка препредыдущий месяц: Этот признак измеряет, сколько денег покупатель потратил на сайте за предпредыдущий месяц. Он имеет небольшое отрицательное значение SHAP, что означает, что чем больше этот признак, тем выше покупательская активность.\n",
    "\n",
    "Признаки с большими положительными значениями SHAP сильнее всего влияют на снижение покупательской активности, а признаки с отрицательными значениями SHAP - на сохранение покупательской активности. При разработке стратегий по работе с клиентами нужно учитывать все эти признаки."
   ]
  },
  {
   "cell_type": "markdown",
   "metadata": {},
   "source": [
    "Эти наблюдения могут помочь нам понять, какие факторы влияют на покупательскую активность клиентов, и как можно улучшить стратегию продаж. Например:\n",
    "\n",
    "Предлагать клиентам, которые делают много акционных покупок, альтернативные товары с более высокой маржой или увеличивать цену на акционные товары.  \n",
    "Снижать количество неоплаченных товаров в корзине, например, отправляя напоминания, предлагая бесплатную доставку или гарантию возврата.  \n",
    "Увеличивать количество маркетинговых коммуникаций с клиентами, которые редко посещают сайт или мало тратят, чтобы повысить их лояльность и интерес к товарам.  \n",
    "Анализировать, какие категории товаров наиболее популярны у клиентов, и оптимизировать ассортимент, ценообразование и продвижение этих категорий."
   ]
  },
  {
   "cell_type": "markdown",
   "metadata": {},
   "source": [
    "**Шаг 8. Сегментация покупателей**"
   ]
  },
  {
   "cell_type": "markdown",
   "metadata": {},
   "source": [
    "Будем изучать сегмент \"Пассивные скидочники\", может быть определен следующим образом:\n",
    "\n",
    "\"num_минут_предыдущий_месяц\": Покупатели в этой группе проводят меньше времени на сайте, чем другие. Это может быть связано с тем, что они редко ищут товары, не связанные со скидками.\n",
    "\n",
    "\"num_Страницы_за_визит\": Они просматривают меньше страниц за визит, что указывает на их фокусировку на конкретных товарах или категориях, скорее всего, со скидками.\n",
    "\n",
    "\"num_Средний_просмотр_категории_за_визит\": Они просматривают меньше категорий товаров за визит, что также указывает на их узкую фокусировку на определенных товарах или категориях.\n",
    "\n",
    "\"num_Акционные покупки\": Большая часть их покупок совершается по акции, что подтверждает их стремление к экономии.\n",
    "\n",
    "\"num_Неоплаченые продукты штука квартал\": Они часто оставляют товары в корзине без оплаты, возможно, ожидая снижения цены.\n",
    "\n",
    "Эти покупатели могут быть ценными для бизнеса, поскольку они могут быть мотивированы к покупке при предложении скидок или акций. Однако важно учесть, что их покупательская активность может быть ниже, чем у других групп покупателей. Это может потребовать специальных маркетинговых стратегий."
   ]
  },
  {
   "cell_type": "code",
   "execution_count": 48,
   "metadata": {},
   "outputs": [],
   "source": [
    "# объединение данных\n",
    "df_market = df_market.merge(money, on='id', how='left')"
   ]
  },
  {
   "cell_type": "code",
   "execution_count": 49,
   "metadata": {},
   "outputs": [
    {
     "name": "stdout",
     "output_type": "stream",
     "text": [
      "<class 'pandas.core.frame.DataFrame'>\n",
      "Int64Index: 1296 entries, 0 to 1295\n",
      "Data columns (total 19 columns):\n",
      " #   Column                               Non-Null Count  Dtype  \n",
      "---  ------                               --------------  -----  \n",
      " 0   id                                   1296 non-null   int64  \n",
      " 1   покупательская_активность            1296 non-null   object \n",
      " 2   тип_сервиса                          1296 non-null   object \n",
      " 3   разрешить_сообщать                   1296 non-null   object \n",
      " 4   маркет_актив_6_мес                   1296 non-null   float64\n",
      " 5   маркет_актив_тек_мес                 1296 non-null   int64  \n",
      " 6   длительность                         1296 non-null   int64  \n",
      " 7   акционные_покупки                    1296 non-null   float64\n",
      " 8   популярная_категория                 1296 non-null   object \n",
      " 9   средний_просмотр_категорий_за_визит  1296 non-null   int64  \n",
      " 10  неоплаченные_продукты_штук_квартал   1296 non-null   int64  \n",
      " 11  ошибка_сервиса                       1296 non-null   int64  \n",
      " 12  страниц_за_визит                     1296 non-null   int64  \n",
      " 13  предыдущий_месяц                     1296 non-null   float64\n",
      " 14  препредыдущий_месяц                  1296 non-null   float64\n",
      " 15  текущий_месяц_x                      1296 non-null   float64\n",
      " 16  предыдцщий_месяц                     1296 non-null   int64  \n",
      " 17  текущий_месяц_y                      1296 non-null   int64  \n",
      " 18  Прибыль                              1296 non-null   float64\n",
      "dtypes: float64(6), int64(9), object(4)\n",
      "memory usage: 202.5+ KB\n"
     ]
    }
   ],
   "source": [
    "df_market.info() "
   ]
  },
  {
   "cell_type": "code",
   "execution_count": 50,
   "metadata": {},
   "outputs": [
    {
     "name": "stdout",
     "output_type": "stream",
     "text": [
      "Создан сегмент \"Пассивные скидочники\" с 119 покупателями.\n"
     ]
    }
   ],
   "source": [
    "# Определение сегмента \"Пассивные скидочники\"\n",
    "passive_discounters = df_market[\n",
    "    (df_market['предыдцщий_месяц'] < df_market['предыдцщий_месяц'].mean()) &\n",
    "    (df_market['страниц_за_визит'] < df_market['страниц_за_визит'].mean()) &\n",
    "    (df_market['средний_просмотр_категорий_за_визит'] < df_market['средний_просмотр_категорий_за_визит'].mean()) &\n",
    "    (df_market['акционные_покупки'] > df_market['акционные_покупки'].mean()) &\n",
    "    (df_market['неоплаченные_продукты_штук_квартал'] > df_market['неоплаченные_продукты_штук_квартал'].mean())\n",
    "]\n",
    "\n",
    "print(f'Создан сегмент \"Пассивные скидочники\" с {len(passive_discounters)} покупателями.')"
   ]
  },
  {
   "cell_type": "code",
   "execution_count": 51,
   "metadata": {},
   "outputs": [
    {
     "data": {
      "image/png": "[encoded data removed]",
      "text/plain": [
       "<Figure size 720x432 with 1 Axes>"
      ]
     },
     "metadata": {
      "needs_background": "light"
     },
     "output_type": "display_data"
    },
    {
     "data": {
      "image/png": "[encoded data removed]",
      "text/plain": [
       "<Figure size 720x432 with 1 Axes>"
      ]
     },
     "metadata": {
      "needs_background": "light"
     },
     "output_type": "display_data"
    },
    {
     "data": {
      "image/png": "[encoded data removed]",
      "text/plain": [
       "<Figure size 720x432 with 1 Axes>"
      ]
     },
     "metadata": {
      "needs_background": "light"
     },
     "output_type": "display_data"
    },
    {
     "data": {
      "image/png": "[encoded data removed]",
      "text/plain": [
       "<Figure size 720x432 with 1 Axes>"
      ]
     },
     "metadata": {
      "needs_background": "light"
     },
     "output_type": "display_data"
    },
    {
     "data": {
      "image/png": "[encoded data removed]",
      "text/plain": [
       "<Figure size 720x432 with 1 Axes>"
      ]
     },
     "metadata": {
      "needs_background": "light"
     },
     "output_type": "display_data"
    },
    {
     "data": {
      "image/png": "[encoded data removed]",
      "text/plain": [
       "<Figure size 720x432 with 1 Axes>"
      ]
     },
     "metadata": {
      "needs_background": "light"
     },
     "output_type": "display_data"
    },
    {
     "ename": "KeyError",
     "evalue": "'предыдущий_месяц'",
     "output_type": "error",
     "traceback": [
      "\u001b[0;31m---------------------------------------------------------------------------\u001b[0m",
      "\u001b[0;31mKeyError\u001b[0m                                  Traceback (most recent call last)",
      "\u001b[0;32m/opt/conda/lib/python3.9/site-packages/pandas/core/indexes/base.py\u001b[0m in \u001b[0;36mget_loc\u001b[0;34m(self, key, method, tolerance)\u001b[0m\n\u001b[1;32m   3079\u001b[0m             \u001b[0;32mtry\u001b[0m\u001b[0;34m:\u001b[0m\u001b[0;34m\u001b[0m\u001b[0;34m\u001b[0m\u001b[0m\n\u001b[0;32m-> 3080\u001b[0;31m                 \u001b[0;32mreturn\u001b[0m \u001b[0mself\u001b[0m\u001b[0;34m.\u001b[0m\u001b[0m_engine\u001b[0m\u001b[0;34m.\u001b[0m\u001b[0mget_loc\u001b[0m\u001b[0;34m(\u001b[0m\u001b[0mcasted_key\u001b[0m\u001b[0;34m)\u001b[0m\u001b[0;34m\u001b[0m\u001b[0;34m\u001b[0m\u001b[0m\n\u001b[0m\u001b[1;32m   3081\u001b[0m             \u001b[0;32mexcept\u001b[0m \u001b[0mKeyError\u001b[0m \u001b[0;32mas\u001b[0m \u001b[0merr\u001b[0m\u001b[0;34m:\u001b[0m\u001b[0;34m\u001b[0m\u001b[0;34m\u001b[0m\u001b[0m\n",
      "\u001b[0;32mpandas/_libs/index.pyx\u001b[0m in \u001b[0;36mpandas._libs.index.IndexEngine.get_loc\u001b[0;34m()\u001b[0m\n",
      "\u001b[0;32mpandas/_libs/index.pyx\u001b[0m in \u001b[0;36mpandas._libs.index.IndexEngine.get_loc\u001b[0;34m()\u001b[0m\n",
      "\u001b[0;32mpandas/_libs/hashtable_class_helper.pxi\u001b[0m in \u001b[0;36mpandas._libs.hashtable.PyObjectHashTable.get_item\u001b[0;34m()\u001b[0m\n",
      "\u001b[0;32mpandas/_libs/hashtable_class_helper.pxi\u001b[0m in \u001b[0;36mpandas._libs.hashtable.PyObjectHashTable.get_item\u001b[0;34m()\u001b[0m\n",
      "\u001b[0;31mKeyError\u001b[0m: 'предыдущий_месяц'",
      "\nThe above exception was the direct cause of the following exception:\n",
      "\u001b[0;31mKeyError\u001b[0m                                  Traceback (most recent call last)",
      "\u001b[0;32m/tmp/ipykernel_207/621131141.py\u001b[0m in \u001b[0;36m<module>\u001b[0;34m\u001b[0m\n\u001b[1;32m     29\u001b[0m \u001b[0;34m\u001b[0m\u001b[0m\n\u001b[1;32m     30\u001b[0m     \u001b[0;31m# Поворот названий категорий на вертикальные оси\u001b[0m\u001b[0;34m\u001b[0m\u001b[0;34m\u001b[0m\u001b[0;34m\u001b[0m\u001b[0m\n\u001b[0;32m---> 31\u001b[0;31m     \u001b[0;32mif\u001b[0m \u001b[0mmarket_file\u001b[0m\u001b[0;34m[\u001b[0m\u001b[0mcolumn\u001b[0m\u001b[0;34m]\u001b[0m\u001b[0;34m.\u001b[0m\u001b[0mdtype\u001b[0m \u001b[0;34m==\u001b[0m \u001b[0;34m'object'\u001b[0m\u001b[0;34m:\u001b[0m\u001b[0;34m\u001b[0m\u001b[0;34m\u001b[0m\u001b[0m\n\u001b[0m\u001b[1;32m     32\u001b[0m         \u001b[0mplt\u001b[0m\u001b[0;34m.\u001b[0m\u001b[0mxticks\u001b[0m\u001b[0;34m(\u001b[0m\u001b[0mrotation\u001b[0m\u001b[0;34m=\u001b[0m\u001b[0;34m'vertical'\u001b[0m\u001b[0;34m)\u001b[0m\u001b[0;34m\u001b[0m\u001b[0;34m\u001b[0m\u001b[0m\n\u001b[1;32m     33\u001b[0m \u001b[0;34m\u001b[0m\u001b[0m\n",
      "\u001b[0;32m/opt/conda/lib/python3.9/site-packages/pandas/core/frame.py\u001b[0m in \u001b[0;36m__getitem__\u001b[0;34m(self, key)\u001b[0m\n\u001b[1;32m   3022\u001b[0m             \u001b[0;32mif\u001b[0m \u001b[0mself\u001b[0m\u001b[0;34m.\u001b[0m\u001b[0mcolumns\u001b[0m\u001b[0;34m.\u001b[0m\u001b[0mnlevels\u001b[0m \u001b[0;34m>\u001b[0m \u001b[0;36m1\u001b[0m\u001b[0;34m:\u001b[0m\u001b[0;34m\u001b[0m\u001b[0;34m\u001b[0m\u001b[0m\n\u001b[1;32m   3023\u001b[0m                 \u001b[0;32mreturn\u001b[0m \u001b[0mself\u001b[0m\u001b[0;34m.\u001b[0m\u001b[0m_getitem_multilevel\u001b[0m\u001b[0;34m(\u001b[0m\u001b[0mkey\u001b[0m\u001b[0;34m)\u001b[0m\u001b[0;34m\u001b[0m\u001b[0;34m\u001b[0m\u001b[0m\n\u001b[0;32m-> 3024\u001b[0;31m             \u001b[0mindexer\u001b[0m \u001b[0;34m=\u001b[0m \u001b[0mself\u001b[0m\u001b[0;34m.\u001b[0m\u001b[0mcolumns\u001b[0m\u001b[0;34m.\u001b[0m\u001b[0mget_loc\u001b[0m\u001b[0;34m(\u001b[0m\u001b[0mkey\u001b[0m\u001b[0;34m)\u001b[0m\u001b[0;34m\u001b[0m\u001b[0;34m\u001b[0m\u001b[0m\n\u001b[0m\u001b[1;32m   3025\u001b[0m             \u001b[0;32mif\u001b[0m \u001b[0mis_integer\u001b[0m\u001b[0;34m(\u001b[0m\u001b[0mindexer\u001b[0m\u001b[0;34m)\u001b[0m\u001b[0;34m:\u001b[0m\u001b[0;34m\u001b[0m\u001b[0;34m\u001b[0m\u001b[0m\n\u001b[1;32m   3026\u001b[0m                 \u001b[0mindexer\u001b[0m \u001b[0;34m=\u001b[0m \u001b[0;34m[\u001b[0m\u001b[0mindexer\u001b[0m\u001b[0;34m]\u001b[0m\u001b[0;34m\u001b[0m\u001b[0;34m\u001b[0m\u001b[0m\n",
      "\u001b[0;32m/opt/conda/lib/python3.9/site-packages/pandas/core/indexes/base.py\u001b[0m in \u001b[0;36mget_loc\u001b[0;34m(self, key, method, tolerance)\u001b[0m\n\u001b[1;32m   3080\u001b[0m                 \u001b[0;32mreturn\u001b[0m \u001b[0mself\u001b[0m\u001b[0;34m.\u001b[0m\u001b[0m_engine\u001b[0m\u001b[0;34m.\u001b[0m\u001b[0mget_loc\u001b[0m\u001b[0;34m(\u001b[0m\u001b[0mcasted_key\u001b[0m\u001b[0;34m)\u001b[0m\u001b[0;34m\u001b[0m\u001b[0;34m\u001b[0m\u001b[0m\n\u001b[1;32m   3081\u001b[0m             \u001b[0;32mexcept\u001b[0m \u001b[0mKeyError\u001b[0m \u001b[0;32mas\u001b[0m \u001b[0merr\u001b[0m\u001b[0;34m:\u001b[0m\u001b[0;34m\u001b[0m\u001b[0;34m\u001b[0m\u001b[0m\n\u001b[0;32m-> 3082\u001b[0;31m                 \u001b[0;32mraise\u001b[0m \u001b[0mKeyError\u001b[0m\u001b[0;34m(\u001b[0m\u001b[0mkey\u001b[0m\u001b[0;34m)\u001b[0m \u001b[0;32mfrom\u001b[0m \u001b[0merr\u001b[0m\u001b[0;34m\u001b[0m\u001b[0;34m\u001b[0m\u001b[0m\n\u001b[0m\u001b[1;32m   3083\u001b[0m \u001b[0;34m\u001b[0m\u001b[0m\n\u001b[1;32m   3084\u001b[0m         \u001b[0;32mif\u001b[0m \u001b[0mtolerance\u001b[0m \u001b[0;32mis\u001b[0m \u001b[0;32mnot\u001b[0m \u001b[0;32mNone\u001b[0m\u001b[0;34m:\u001b[0m\u001b[0;34m\u001b[0m\u001b[0;34m\u001b[0m\u001b[0m\n",
      "\u001b[0;31mKeyError\u001b[0m: 'предыдущий_месяц'"
     ]
    },
    {
     "data": {
      "image/png": "[encoded data removed]",
      "text/plain": [
       "<Figure size 720x432 with 1 Axes>"
      ]
     },
     "metadata": {
      "needs_background": "light"
     },
     "output_type": "display_data"
    }
   ],
   "source": [
    "# Остальные покупатели, у которых активность не снизилась\n",
    "other_customers = df_market[df_market['покупательская_активность'] != 'Снизилась']\n",
    "\n",
    "# Анализ покупательской активности\n",
    "activity_columns = (['популярная_категория', 'длительность', \n",
    "                     'акционные_покупки', 'средний_просмотр_категорий_за_визит', \n",
    "                     'неоплаченные_продукты_штук_квартал', 'страниц_за_визит', \n",
    "                     'предыдущий_месяц','препредыдущий_месяц', \n",
    "                     'текущий_месяц_x', \n",
    "                     'текущий_месяц_y', 'разрешить_сообщать','Прибыль']\n",
    "                   )\n",
    "activity_data = passive_discounters[activity_columns]\n",
    "\n",
    "# Визуализация покупательской активности\n",
    "for column in activity_columns:\n",
    "    plt.figure(figsize=(10, 6))\n",
    "    \n",
    "    # Пассивные скидочники\n",
    "    plt.hist(passive_discounters[column], bins=30, alpha=0.5, color='r', label='Пассивные скидочники')\n",
    "    \n",
    "    # Остальные покупатели\n",
    "    plt.hist(other_customers[column], bins=30, alpha=0.5, color='g', label='Остальные покупатели')\n",
    "    \n",
    "    \n",
    "    plt.title(f'Распределение {column}')\n",
    "    plt.xlabel(column)\n",
    "    plt.ylabel('Количество')\n",
    "    plt.legend()\n",
    "    \n",
    "    # Поворот названий категорий на вертикальные оси\n",
    "    if market_file[column].dtype == 'object':\n",
    "        plt.xticks(rotation='vertical')\n",
    "    \n",
    "    plt.show()"
   ]
  },
  {
   "cell_type": "code",
   "execution_count": null,
   "metadata": {},
   "outputs": [],
   "source": [
    "# Добавление общих столбцов\n",
    "passive_discounters['Общая_выручка_3_месяца'] = passive_discounters[['препредыдущий_месяц', 'предыдущий_месяц', 'текущий_месяц_x']].sum(axis=1)\n",
    "other_customers['Общая_выручка_3_месяца'] = other_customers[['препредыдущий_месяц', 'предыдущий_месяц', 'текущий_месяц_x']].sum(axis=1)\n",
    "\n",
    "passive_discounters['Общие_минуты_2_месяца'] = passive_discounters[['предыдцщий_месяц', 'текущий_месяц_y']].sum(axis=1)\n",
    "other_customers['Общие_минуты_2_месяца'] = other_customers[['предыдцщий_месяц', 'текущий_месяц_y']].sum(axis=1)\n",
    "\n",
    "# Обновление списка столбцов для анализа\n",
    "activity_columns += ['Общая_выручка_3_месяца', 'Общие_минуты_2_месяца']\n",
    "\n",
    "# Создаем пустой DataFrame для хранения результатов\n",
    "comparison_table = pd.DataFrame()\n",
    "\n",
    "# Проходим по каждому столбцу в данных\n",
    "for column in activity_columns:\n",
    "    # Если тип данных столбца - object, то это категориальные данные\n",
    "    if passive_discounters[column].dtype == 'object':\n",
    "        comparison_table.loc['Мода (Пассивные скидочники)', column] = passive_discounters[column].mode()[0]\n",
    "        comparison_table.loc['Мода (Остальные покупатели)', column] = other_customers[column].mode()[0]\n",
    "    else:\n",
    "        # Иначе это числовые данные\n",
    "        comparison_table.loc['Медиана (Пассивные скидочники)', column] = passive_discounters[column].median()\n",
    "        comparison_table.loc['Медиана (Остальные покупатели)', column] = other_customers[column].median()\n",
    "\n",
    "# Выводим таблицу сравнения\n",
    "# Транспонирование таблицы для удобства просмотра\n",
    "display(comparison_table.transpose())"
   ]
  },
  {
   "cell_type": "markdown",
   "metadata": {},
   "source": [
    "На основе представленных данных, можно сделать следующие выводы:\n",
    "\n",
    "Акционные покупки: Пассивные скидочники в среднем совершают больше акционных покупок (0.9 против 0.21 у остальных покупателей). \n",
    "\n",
    "Длительность: Средняя длительность посещения сайта примерно одинакова для обеих групп покупателей (598 минут у пассивных скидочников против 590 минут у остальных покупателей).\n",
    "\n",
    "Неоплаченные продукты: Пассивные скидочники в среднем оставляют больше неоплаченных продуктов (5.0 против 2.0 у остальных покупателей).\n",
    "\n",
    "Общая выручка за 3 месяца: Общая выручка за последние три месяца примерно одинакова для обеих групп покупателей (15145.7 у пассивных скидочников против 15107.75 у остальных покупателей).\n",
    "\n",
    "Общее время на сайте за 2 месяца: Остальные покупатели в среднем проводят на сайте больше времени (30.0 минут против 20.0 минут у пассивных скидочников).\n",
    "\n",
    "Популярная категория: Для обеих групп покупателей самой популярной категорией являются товары для детей.\n",
    "\n",
    "Прибыль: Средняя прибыль от остальных покупателей немного выше, чем от пассивных скидочников (4.04 против 3.92).\n",
    "\n",
    "Разрешение на рассылку: Большинство покупателей из обеих групп разрешили рассылку.\n",
    "\n",
    "Средний просмотр категорий за визит: Остальные покупатели в среднем просматривают больше категорий за визит (4.0 против 2.0 у пассивных скидочников).\n",
    "\n",
    "Страниц за визит: Остальные покупатели в среднем просматривают больше страниц за визит (10.0 против 4.0 у пассивных скидочников)."
   ]
  },
  {
   "cell_type": "markdown",
   "metadata": {},
   "source": [
    "Вот несколько предложений по работе с сегментом \"Пассивные скидочники\" для увеличения покупательской активности:\n",
    "\n",
    "Увеличение количества акций: Поскольку этот сегмент покупателей часто совершает акционные покупки, можно увеличить количество акций и скидок, чтобы стимулировать их активность.\n",
    "\n",
    "Оптимизация времени на сайте: Учитывая, что эти покупатели проводят меньше времени на сайте, можно оптимизировать пользовательский интерфейс и упростить процесс покупки, чтобы они могли быстрее находить то, что им нужно.\n",
    "\n",
    "Улучшение системы рекомендаций: Поскольку эти покупатели часто просматривают меньше категорий за визит, можно улучшить систему рекомендаций, чтобы предлагать им товары, которые могут их заинтересовать.\n",
    "\n",
    "Работа с неоплаченными продуктами: Учитывая, что эти покупатели часто оставляют неоплаченные продукты, можно предложить им специальные скидки или напоминания о них, чтобы стимулировать их к покупке.\n",
    "\n",
    "Персонализированные предложения: Используйте данные о популярных категориях для создания персонализированных предложений и рекламных акций, которые могут привлечь внимание этих покупателей.\n",
    "\n",
    "Сообщения и уведомления: Поскольку большинство покупателей из этого сегмента разрешили рассылку, можно использовать этот канал для отправки персонализированных предложений и напоминаний о неоплаченных продуктах."
   ]
  },
  {
   "cell_type": "markdown",
   "metadata": {},
   "source": [
    "**Шаг 9. Общий вывод**"
   ]
  },
  {
   "cell_type": "markdown",
   "metadata": {},
   "source": [
    "Задача: Разработать решение для интернет-магазина «В один клик», которое поможет увеличить покупательскую активность постоянных клиентов через персонализированные предложения. Для этого необходимо предсказать вероятность снижения покупательской активности клиента в следующие три месяца, выделить сегменты покупателей и разработать для них персонализированные предложения.\n",
    "\n",
    "Исходные данные и предобработка: Данные состоят из четырех наборов данных: Market File, Market Money, Market Time и Money. В ходе предобработки были исправлены опечатки, удалены аномалии, объединены таблицы и проведен исследовательский анализ данных.\n",
    "\n",
    "Поиск лучшей модели: Для поиска лучшей модели были использованы четыре алгоритма классификации: логистическая регрессия, k-ближайших соседей, дерево решений и метод опорных векторов. Для каждого алгоритма была проведена кросс-валидация и подбор гиперпараметров. Качество моделей было оценено по метрике ROC-AUC.\n",
    "\n",
    "Лучшая модель: Логистическая регрессия с C=1, penalty='l1', random_state=13, solver='liblinear' ROC-AUC равным 0.90 стала лучшей моделью. Она выявила ключевые факторы покупательской активности: время на сайте, количество просмотренных страниц и категорий, доля акционных покупок, количество неоплаченных товаров, количество маркетинговых акций, популярная категория товаров и сумма потраченных денег.\n",
    "\n",
    "Сегмент “Пассивные скидочники” характеризуется меньшим временем на сайте, узкой фокусировкой на товарах со скидками и большим количеством неоплаченных товаров. Для стимулирования их активности предлагается увеличить количество акций, оптимизировать интерфейс сайта, улучшить систему рекомендаций, работать с неоплаченными товарами и использовать рассылку для отправки персонализированных предложений"
   ]
  }
 ],
 "metadata": {
  "ExecuteTimeLog": [
   {
    "duration": 7519,
    "start_time": "2024-04-10T15:08:14.018Z"
   },
   {
    "duration": 2164,
    "start_time": "2024-04-10T15:08:21.540Z"
   },
   {
    "duration": 194,
    "start_time": "2024-04-10T15:08:25.126Z"
   },
   {
    "duration": 110,
    "start_time": "2024-04-10T15:09:52.818Z"
   },
   {
    "duration": 209,
    "start_time": "2024-04-10T15:10:50.787Z"
   },
   {
    "duration": 83,
    "start_time": "2024-04-10T15:13:00.900Z"
   },
   {
    "duration": 32,
    "start_time": "2024-04-10T15:14:42.822Z"
   },
   {
    "duration": 6,
    "start_time": "2024-04-10T15:16:37.639Z"
   },
   {
    "duration": 92,
    "start_time": "2024-04-10T15:19:51.841Z"
   },
   {
    "duration": 30,
    "start_time": "2024-04-10T15:19:54.089Z"
   },
   {
    "duration": 4,
    "start_time": "2024-04-10T15:19:57.494Z"
   },
   {
    "duration": 19,
    "start_time": "2024-04-10T15:26:18.106Z"
   },
   {
    "duration": 19,
    "start_time": "2024-04-10T15:27:29.586Z"
   },
   {
    "duration": 34,
    "start_time": "2024-04-10T15:28:43.680Z"
   },
   {
    "duration": 6,
    "start_time": "2024-04-10T15:36:33.124Z"
   },
   {
    "duration": 3,
    "start_time": "2024-04-10T15:36:57.938Z"
   },
   {
    "duration": 13,
    "start_time": "2024-04-10T15:37:09.942Z"
   },
   {
    "duration": 9,
    "start_time": "2024-04-10T15:37:17.086Z"
   },
   {
    "duration": 22,
    "start_time": "2024-04-10T15:37:24.625Z"
   },
   {
    "duration": 866,
    "start_time": "2024-04-10T15:39:31.995Z"
   },
   {
    "duration": 800,
    "start_time": "2024-04-10T15:39:50.552Z"
   },
   {
    "duration": 779,
    "start_time": "2024-04-10T15:40:22.113Z"
   },
   {
    "duration": 914,
    "start_time": "2024-04-10T15:40:45.970Z"
   },
   {
    "duration": 21,
    "start_time": "2024-04-10T15:41:00.695Z"
   },
   {
    "duration": 730,
    "start_time": "2024-04-10T15:41:30.746Z"
   },
   {
    "duration": 7,
    "start_time": "2024-04-10T15:42:09.068Z"
   },
   {
    "duration": 10,
    "start_time": "2024-04-10T15:46:46.078Z"
   },
   {
    "duration": 34,
    "start_time": "2024-04-10T15:49:28.159Z"
   },
   {
    "duration": 13,
    "start_time": "2024-04-10T15:49:48.009Z"
   },
   {
    "duration": 8,
    "start_time": "2024-04-10T15:51:02.333Z"
   },
   {
    "duration": 8,
    "start_time": "2024-04-10T15:52:42.969Z"
   },
   {
    "duration": 5,
    "start_time": "2024-04-10T15:52:53.679Z"
   },
   {
    "duration": 5179,
    "start_time": "2024-04-10T15:54:01.224Z"
   },
   {
    "duration": 1923,
    "start_time": "2024-04-10T15:54:06.405Z"
   },
   {
    "duration": 81,
    "start_time": "2024-04-10T15:54:08.329Z"
   },
   {
    "duration": 31,
    "start_time": "2024-04-10T15:54:08.413Z"
   },
   {
    "duration": 5,
    "start_time": "2024-04-10T15:54:08.445Z"
   },
   {
    "duration": 30,
    "start_time": "2024-04-10T15:54:08.452Z"
   },
   {
    "duration": 26,
    "start_time": "2024-04-10T15:54:08.483Z"
   },
   {
    "duration": 34,
    "start_time": "2024-04-10T15:54:08.511Z"
   },
   {
    "duration": 36,
    "start_time": "2024-04-10T15:54:08.548Z"
   },
   {
    "duration": 11,
    "start_time": "2024-04-10T15:54:08.587Z"
   },
   {
    "duration": 26,
    "start_time": "2024-04-10T15:54:08.600Z"
   },
   {
    "duration": 5,
    "start_time": "2024-04-10T15:54:08.629Z"
   },
   {
    "duration": 9,
    "start_time": "2024-04-10T15:54:08.636Z"
   },
   {
    "duration": 36,
    "start_time": "2024-04-10T15:54:08.647Z"
   },
   {
    "duration": 7,
    "start_time": "2024-04-10T15:54:08.684Z"
   },
   {
    "duration": 7,
    "start_time": "2024-04-10T15:54:08.693Z"
   },
   {
    "duration": 17,
    "start_time": "2024-04-10T15:54:08.701Z"
   },
   {
    "duration": 16,
    "start_time": "2024-04-10T16:10:06.204Z"
   },
   {
    "duration": 121,
    "start_time": "2024-04-10T16:36:50.710Z"
   },
   {
    "duration": 95,
    "start_time": "2024-04-10T16:37:51.404Z"
   },
   {
    "duration": 107,
    "start_time": "2024-04-10T16:38:13.477Z"
   },
   {
    "duration": 183,
    "start_time": "2024-04-10T16:39:10.447Z"
   },
   {
    "duration": 5248,
    "start_time": "2024-04-10T16:50:48.262Z"
   },
   {
    "duration": 1878,
    "start_time": "2024-04-10T16:50:53.513Z"
   },
   {
    "duration": 85,
    "start_time": "2024-04-10T16:50:55.392Z"
   },
   {
    "duration": 30,
    "start_time": "2024-04-10T16:50:55.479Z"
   },
   {
    "duration": 4,
    "start_time": "2024-04-10T16:50:55.510Z"
   },
   {
    "duration": 23,
    "start_time": "2024-04-10T16:50:55.516Z"
   },
   {
    "duration": 49,
    "start_time": "2024-04-10T16:50:55.540Z"
   },
   {
    "duration": 32,
    "start_time": "2024-04-10T16:50:55.590Z"
   },
   {
    "duration": 15,
    "start_time": "2024-04-10T16:50:55.624Z"
   },
   {
    "duration": 19,
    "start_time": "2024-04-10T16:50:55.642Z"
   },
   {
    "duration": 46,
    "start_time": "2024-04-10T16:50:55.663Z"
   },
   {
    "duration": 6,
    "start_time": "2024-04-10T16:50:55.711Z"
   },
   {
    "duration": 20,
    "start_time": "2024-04-10T16:50:55.718Z"
   },
   {
    "duration": 20,
    "start_time": "2024-04-10T16:50:55.740Z"
   },
   {
    "duration": 23,
    "start_time": "2024-04-10T16:50:55.762Z"
   },
   {
    "duration": 24,
    "start_time": "2024-04-10T16:50:55.787Z"
   },
   {
    "duration": 30,
    "start_time": "2024-04-10T16:50:55.813Z"
   },
   {
    "duration": 7,
    "start_time": "2024-04-10T16:50:55.845Z"
   },
   {
    "duration": 152,
    "start_time": "2024-04-10T16:50:55.854Z"
   },
   {
    "duration": 103,
    "start_time": "2024-04-10T16:50:56.008Z"
   },
   {
    "duration": 106,
    "start_time": "2024-04-10T16:50:56.112Z"
   },
   {
    "duration": 60,
    "start_time": "2024-04-10T16:50:56.220Z"
   },
   {
    "duration": 0,
    "start_time": "2024-04-10T16:50:56.281Z"
   },
   {
    "duration": 170,
    "start_time": "2024-04-10T16:52:17.272Z"
   },
   {
    "duration": 331,
    "start_time": "2024-04-10T17:11:35.918Z"
   },
   {
    "duration": 265,
    "start_time": "2024-04-10T17:15:24.794Z"
   },
   {
    "duration": 189,
    "start_time": "2024-04-10T17:16:28.636Z"
   },
   {
    "duration": 344,
    "start_time": "2024-04-10T17:25:01.926Z"
   },
   {
    "duration": 181,
    "start_time": "2024-04-10T17:28:13.853Z"
   },
   {
    "duration": 166,
    "start_time": "2024-04-10T17:37:13.371Z"
   },
   {
    "duration": 1645,
    "start_time": "2024-04-10T17:37:28.531Z"
   },
   {
    "duration": 780,
    "start_time": "2024-04-10T17:38:47.921Z"
   },
   {
    "duration": 8,
    "start_time": "2024-04-10T17:38:54.509Z"
   },
   {
    "duration": 31,
    "start_time": "2024-04-10T17:42:08.909Z"
   },
   {
    "duration": 15,
    "start_time": "2024-04-10T17:42:28.686Z"
   },
   {
    "duration": 210,
    "start_time": "2024-04-10T17:48:40.453Z"
   },
   {
    "duration": 204,
    "start_time": "2024-04-10T17:51:42.053Z"
   },
   {
    "duration": 3,
    "start_time": "2024-04-10T17:58:29.678Z"
   },
   {
    "duration": 14,
    "start_time": "2024-04-10T17:58:31.730Z"
   },
   {
    "duration": 1460,
    "start_time": "2024-04-10T17:58:38.024Z"
   },
   {
    "duration": 784,
    "start_time": "2024-04-10T18:01:43.801Z"
   },
   {
    "duration": 976,
    "start_time": "2024-04-10T18:01:56.167Z"
   },
   {
    "duration": 7856,
    "start_time": "2024-04-11T15:10:42.810Z"
   },
   {
    "duration": 2206,
    "start_time": "2024-04-11T15:10:50.668Z"
   },
   {
    "duration": 277,
    "start_time": "2024-04-11T15:10:52.876Z"
   },
   {
    "duration": 47,
    "start_time": "2024-04-11T15:10:53.156Z"
   },
   {
    "duration": 4,
    "start_time": "2024-04-11T15:10:53.205Z"
   },
   {
    "duration": 27,
    "start_time": "2024-04-11T15:10:53.211Z"
   },
   {
    "duration": 56,
    "start_time": "2024-04-11T15:10:53.240Z"
   },
   {
    "duration": 31,
    "start_time": "2024-04-11T15:10:53.298Z"
   },
   {
    "duration": 7,
    "start_time": "2024-04-11T15:10:53.330Z"
   },
   {
    "duration": 14,
    "start_time": "2024-04-11T15:10:53.339Z"
   },
   {
    "duration": 48,
    "start_time": "2024-04-11T15:10:53.355Z"
   },
   {
    "duration": 6,
    "start_time": "2024-04-11T15:10:53.405Z"
   },
   {
    "duration": 10,
    "start_time": "2024-04-11T15:10:53.413Z"
   },
   {
    "duration": 16,
    "start_time": "2024-04-11T15:10:53.425Z"
   },
   {
    "duration": 7,
    "start_time": "2024-04-11T15:10:53.442Z"
   },
   {
    "duration": 48,
    "start_time": "2024-04-11T15:10:53.451Z"
   },
   {
    "duration": 12,
    "start_time": "2024-04-11T15:10:53.501Z"
   },
   {
    "duration": 5,
    "start_time": "2024-04-11T15:10:53.514Z"
   },
   {
    "duration": 136,
    "start_time": "2024-04-11T15:10:53.520Z"
   },
   {
    "duration": 104,
    "start_time": "2024-04-11T15:10:53.658Z"
   },
   {
    "duration": 131,
    "start_time": "2024-04-11T15:10:53.763Z"
   },
   {
    "duration": 171,
    "start_time": "2024-04-11T15:10:53.895Z"
   },
   {
    "duration": 354,
    "start_time": "2024-04-11T15:10:54.068Z"
   },
   {
    "duration": 276,
    "start_time": "2024-04-11T15:10:54.423Z"
   },
   {
    "duration": 198,
    "start_time": "2024-04-11T15:10:54.701Z"
   },
   {
    "duration": 368,
    "start_time": "2024-04-11T15:10:54.901Z"
   },
   {
    "duration": 172,
    "start_time": "2024-04-11T15:10:55.271Z"
   },
   {
    "duration": 1692,
    "start_time": "2024-04-11T15:10:55.446Z"
   },
   {
    "duration": 8,
    "start_time": "2024-04-11T15:10:57.139Z"
   },
   {
    "duration": 25,
    "start_time": "2024-04-11T15:10:57.148Z"
   },
   {
    "duration": 212,
    "start_time": "2024-04-11T15:10:57.196Z"
   },
   {
    "duration": 220,
    "start_time": "2024-04-11T15:10:57.410Z"
   },
   {
    "duration": 1052,
    "start_time": "2024-04-11T15:10:57.631Z"
   },
   {
    "duration": 19,
    "start_time": "2024-04-11T15:15:06.725Z"
   },
   {
    "duration": 20,
    "start_time": "2024-04-11T15:17:09.835Z"
   },
   {
    "duration": 11,
    "start_time": "2024-04-11T15:17:55.696Z"
   },
   {
    "duration": 43,
    "start_time": "2024-04-11T15:18:15.707Z"
   },
   {
    "duration": 944,
    "start_time": "2024-04-11T15:24:06.688Z"
   },
   {
    "duration": 5872,
    "start_time": "2024-04-11T15:24:28.347Z"
   },
   {
    "duration": 2086,
    "start_time": "2024-04-11T15:24:34.222Z"
   },
   {
    "duration": 95,
    "start_time": "2024-04-11T15:24:36.310Z"
   },
   {
    "duration": 32,
    "start_time": "2024-04-11T15:24:36.410Z"
   },
   {
    "duration": 5,
    "start_time": "2024-04-11T15:24:36.444Z"
   },
   {
    "duration": 40,
    "start_time": "2024-04-11T15:24:36.450Z"
   },
   {
    "duration": 27,
    "start_time": "2024-04-11T15:24:36.492Z"
   },
   {
    "duration": 42,
    "start_time": "2024-04-11T15:24:36.520Z"
   },
   {
    "duration": 19,
    "start_time": "2024-04-11T15:24:36.563Z"
   },
   {
    "duration": 15,
    "start_time": "2024-04-11T15:24:36.593Z"
   },
   {
    "duration": 39,
    "start_time": "2024-04-11T15:24:36.609Z"
   },
   {
    "duration": 20,
    "start_time": "2024-04-11T15:24:36.650Z"
   },
   {
    "duration": 39,
    "start_time": "2024-04-11T15:24:36.671Z"
   },
   {
    "duration": 26,
    "start_time": "2024-04-11T15:24:36.711Z"
   },
   {
    "duration": 14,
    "start_time": "2024-04-11T15:24:36.738Z"
   },
   {
    "duration": 36,
    "start_time": "2024-04-11T15:24:36.753Z"
   },
   {
    "duration": 17,
    "start_time": "2024-04-11T15:24:36.794Z"
   },
   {
    "duration": 8,
    "start_time": "2024-04-11T15:24:36.813Z"
   },
   {
    "duration": 147,
    "start_time": "2024-04-11T15:24:36.822Z"
   },
   {
    "duration": 103,
    "start_time": "2024-04-11T15:24:36.970Z"
   },
   {
    "duration": 126,
    "start_time": "2024-04-11T15:24:37.075Z"
   },
   {
    "duration": 186,
    "start_time": "2024-04-11T15:24:37.202Z"
   },
   {
    "duration": 412,
    "start_time": "2024-04-11T15:24:37.389Z"
   },
   {
    "duration": 300,
    "start_time": "2024-04-11T15:24:37.808Z"
   },
   {
    "duration": 215,
    "start_time": "2024-04-11T15:24:38.111Z"
   },
   {
    "duration": 392,
    "start_time": "2024-04-11T15:24:38.327Z"
   },
   {
    "duration": 194,
    "start_time": "2024-04-11T15:24:38.721Z"
   },
   {
    "duration": 1858,
    "start_time": "2024-04-11T15:24:38.918Z"
   },
   {
    "duration": 17,
    "start_time": "2024-04-11T15:24:40.778Z"
   },
   {
    "duration": 22,
    "start_time": "2024-04-11T15:24:40.803Z"
   },
   {
    "duration": 263,
    "start_time": "2024-04-11T15:24:40.827Z"
   },
   {
    "duration": 248,
    "start_time": "2024-04-11T15:24:41.092Z"
   },
   {
    "duration": 1227,
    "start_time": "2024-04-11T15:24:41.341Z"
   },
   {
    "duration": 32,
    "start_time": "2024-04-11T15:24:42.570Z"
   },
   {
    "duration": 17,
    "start_time": "2024-04-11T15:25:04.618Z"
   },
   {
    "duration": 19,
    "start_time": "2024-04-11T15:25:38.577Z"
   },
   {
    "duration": 40,
    "start_time": "2024-04-11T15:25:49.538Z"
   },
   {
    "duration": 168,
    "start_time": "2024-04-11T15:27:57.364Z"
   },
   {
    "duration": 20,
    "start_time": "2024-04-11T15:28:17.500Z"
   },
   {
    "duration": 12,
    "start_time": "2024-04-11T15:29:21.648Z"
   },
   {
    "duration": 18,
    "start_time": "2024-04-11T15:29:27.555Z"
   },
   {
    "duration": 33,
    "start_time": "2024-04-11T15:29:35.880Z"
   },
   {
    "duration": 35,
    "start_time": "2024-04-11T15:30:28.407Z"
   },
   {
    "duration": 37,
    "start_time": "2024-04-11T15:31:01.806Z"
   },
   {
    "duration": 12,
    "start_time": "2024-04-11T15:32:10.312Z"
   },
   {
    "duration": 10,
    "start_time": "2024-04-11T15:34:22.840Z"
   },
   {
    "duration": 57,
    "start_time": "2024-04-11T15:34:35.657Z"
   },
   {
    "duration": 17,
    "start_time": "2024-04-11T15:36:23.849Z"
   },
   {
    "duration": 21,
    "start_time": "2024-04-11T15:36:35.748Z"
   },
   {
    "duration": 18,
    "start_time": "2024-04-11T15:37:20.615Z"
   },
   {
    "duration": 32,
    "start_time": "2024-04-11T15:38:58.421Z"
   },
   {
    "duration": 66,
    "start_time": "2024-04-11T15:39:58.312Z"
   },
   {
    "duration": 34,
    "start_time": "2024-04-11T15:40:02.647Z"
   },
   {
    "duration": 23,
    "start_time": "2024-04-11T15:42:43.840Z"
   },
   {
    "duration": 5,
    "start_time": "2024-04-11T15:47:20.921Z"
   },
   {
    "duration": 5352,
    "start_time": "2024-04-11T15:53:45.621Z"
   },
   {
    "duration": 2048,
    "start_time": "2024-04-11T15:53:50.976Z"
   },
   {
    "duration": 83,
    "start_time": "2024-04-11T15:53:53.026Z"
   },
   {
    "duration": 38,
    "start_time": "2024-04-11T15:53:53.111Z"
   },
   {
    "duration": 5,
    "start_time": "2024-04-11T15:53:53.150Z"
   },
   {
    "duration": 33,
    "start_time": "2024-04-11T15:53:53.157Z"
   },
   {
    "duration": 23,
    "start_time": "2024-04-11T15:53:53.192Z"
   },
   {
    "duration": 71,
    "start_time": "2024-04-11T15:53:53.217Z"
   },
   {
    "duration": 7,
    "start_time": "2024-04-11T15:53:53.290Z"
   },
   {
    "duration": 3,
    "start_time": "2024-04-11T15:53:53.300Z"
   },
   {
    "duration": 24,
    "start_time": "2024-04-11T15:53:53.304Z"
   },
   {
    "duration": 6,
    "start_time": "2024-04-11T15:53:53.330Z"
   },
   {
    "duration": 50,
    "start_time": "2024-04-11T15:53:53.338Z"
   },
   {
    "duration": 12,
    "start_time": "2024-04-11T15:53:53.390Z"
   },
   {
    "duration": 8,
    "start_time": "2024-04-11T15:53:53.404Z"
   },
   {
    "duration": 18,
    "start_time": "2024-04-11T15:53:53.414Z"
   },
   {
    "duration": 9,
    "start_time": "2024-04-11T15:53:53.434Z"
   },
   {
    "duration": 5,
    "start_time": "2024-04-11T15:53:53.483Z"
   },
   {
    "duration": 136,
    "start_time": "2024-04-11T15:53:53.490Z"
   },
   {
    "duration": 98,
    "start_time": "2024-04-11T15:53:53.628Z"
   },
   {
    "duration": 106,
    "start_time": "2024-04-11T15:53:53.728Z"
   },
   {
    "duration": 201,
    "start_time": "2024-04-11T15:53:53.836Z"
   },
   {
    "duration": 370,
    "start_time": "2024-04-11T15:53:54.039Z"
   },
   {
    "duration": 275,
    "start_time": "2024-04-11T15:53:54.412Z"
   },
   {
    "duration": 244,
    "start_time": "2024-04-11T15:53:54.690Z"
   },
   {
    "duration": 368,
    "start_time": "2024-04-11T15:53:54.936Z"
   },
   {
    "duration": 172,
    "start_time": "2024-04-11T15:53:55.305Z"
   },
   {
    "duration": 1682,
    "start_time": "2024-04-11T15:53:55.484Z"
   },
   {
    "duration": 18,
    "start_time": "2024-04-11T15:53:57.168Z"
   },
   {
    "duration": 24,
    "start_time": "2024-04-11T15:53:57.188Z"
   },
   {
    "duration": 242,
    "start_time": "2024-04-11T15:53:57.214Z"
   },
   {
    "duration": 237,
    "start_time": "2024-04-11T15:53:57.458Z"
   },
   {
    "duration": 1166,
    "start_time": "2024-04-11T15:53:57.697Z"
   },
   {
    "duration": 28,
    "start_time": "2024-04-11T15:53:58.865Z"
   },
   {
    "duration": 18,
    "start_time": "2024-04-11T15:53:58.896Z"
   },
   {
    "duration": 35,
    "start_time": "2024-04-11T15:53:58.916Z"
   },
   {
    "duration": 48,
    "start_time": "2024-04-11T15:53:58.954Z"
   },
   {
    "duration": 5,
    "start_time": "2024-04-11T15:53:59.004Z"
   },
   {
    "duration": 1291,
    "start_time": "2024-04-11T15:53:59.011Z"
   },
   {
    "duration": 2927,
    "start_time": "2024-04-11T15:56:47.897Z"
   },
   {
    "duration": 4,
    "start_time": "2024-04-11T16:11:54.120Z"
   },
   {
    "duration": 796,
    "start_time": "2024-04-11T16:12:33.936Z"
   },
   {
    "duration": 710,
    "start_time": "2024-04-11T16:12:45.313Z"
   },
   {
    "duration": 5,
    "start_time": "2024-04-11T16:13:08.099Z"
   },
   {
    "duration": 20,
    "start_time": "2024-04-11T16:14:21.078Z"
   },
   {
    "duration": 31867,
    "start_time": "2024-04-11T16:15:03.738Z"
   },
   {
    "duration": 26,
    "start_time": "2024-04-11T16:45:05.293Z"
   },
   {
    "duration": 5470,
    "start_time": "2024-04-11T16:47:25.323Z"
   },
   {
    "duration": 1979,
    "start_time": "2024-04-11T16:47:30.796Z"
   },
   {
    "duration": 83,
    "start_time": "2024-04-11T16:47:32.776Z"
   },
   {
    "duration": 35,
    "start_time": "2024-04-11T16:47:32.861Z"
   },
   {
    "duration": 6,
    "start_time": "2024-04-11T16:47:32.897Z"
   },
   {
    "duration": 61,
    "start_time": "2024-04-11T16:47:32.904Z"
   },
   {
    "duration": 36,
    "start_time": "2024-04-11T16:47:32.966Z"
   },
   {
    "duration": 29,
    "start_time": "2024-04-11T16:47:33.004Z"
   },
   {
    "duration": 5,
    "start_time": "2024-04-11T16:47:33.035Z"
   },
   {
    "duration": 3,
    "start_time": "2024-04-11T16:47:33.042Z"
   },
   {
    "duration": 55,
    "start_time": "2024-04-11T16:47:33.047Z"
   },
   {
    "duration": 4,
    "start_time": "2024-04-11T16:47:33.104Z"
   },
   {
    "duration": 39,
    "start_time": "2024-04-11T16:47:33.110Z"
   },
   {
    "duration": 15,
    "start_time": "2024-04-11T16:47:33.151Z"
   },
   {
    "duration": 27,
    "start_time": "2024-04-11T16:47:33.168Z"
   },
   {
    "duration": 14,
    "start_time": "2024-04-11T16:47:33.197Z"
   },
   {
    "duration": 8,
    "start_time": "2024-04-11T16:47:33.212Z"
   },
   {
    "duration": 4,
    "start_time": "2024-04-11T16:47:33.222Z"
   },
   {
    "duration": 137,
    "start_time": "2024-04-11T16:47:33.228Z"
   },
   {
    "duration": 95,
    "start_time": "2024-04-11T16:47:33.367Z"
   },
   {
    "duration": 133,
    "start_time": "2024-04-11T16:47:33.464Z"
   },
   {
    "duration": 198,
    "start_time": "2024-04-11T16:47:33.599Z"
   },
   {
    "duration": 384,
    "start_time": "2024-04-11T16:47:33.800Z"
   },
   {
    "duration": 258,
    "start_time": "2024-04-11T16:47:34.185Z"
   },
   {
    "duration": 201,
    "start_time": "2024-04-11T16:47:34.445Z"
   },
   {
    "duration": 362,
    "start_time": "2024-04-11T16:47:34.647Z"
   },
   {
    "duration": 189,
    "start_time": "2024-04-11T16:47:35.011Z"
   },
   {
    "duration": 1658,
    "start_time": "2024-04-11T16:47:35.205Z"
   },
   {
    "duration": 20,
    "start_time": "2024-04-11T16:47:36.865Z"
   },
   {
    "duration": 24,
    "start_time": "2024-04-11T16:47:36.887Z"
   },
   {
    "duration": 233,
    "start_time": "2024-04-11T16:47:36.912Z"
   },
   {
    "duration": 226,
    "start_time": "2024-04-11T16:47:37.147Z"
   },
   {
    "duration": 1077,
    "start_time": "2024-04-11T16:47:37.375Z"
   },
   {
    "duration": 38,
    "start_time": "2024-04-11T16:47:38.454Z"
   },
   {
    "duration": 19,
    "start_time": "2024-04-11T16:47:38.493Z"
   },
   {
    "duration": 32,
    "start_time": "2024-04-11T16:47:38.514Z"
   },
   {
    "duration": 59,
    "start_time": "2024-04-11T16:47:38.547Z"
   },
   {
    "duration": 3085,
    "start_time": "2024-04-11T16:47:38.609Z"
   },
   {
    "duration": 5,
    "start_time": "2024-04-11T16:47:41.696Z"
   },
   {
    "duration": 17,
    "start_time": "2024-04-11T16:47:41.703Z"
   },
   {
    "duration": 30710,
    "start_time": "2024-04-11T16:47:41.721Z"
   },
   {
    "duration": 188,
    "start_time": "2024-04-11T16:48:12.433Z"
   },
   {
    "duration": 24,
    "start_time": "2024-04-11T16:48:52.795Z"
   },
   {
    "duration": 65,
    "start_time": "2024-04-11T16:52:28.452Z"
   },
   {
    "duration": 5358,
    "start_time": "2024-04-11T16:54:36.063Z"
   },
   {
    "duration": 1960,
    "start_time": "2024-04-11T16:54:41.424Z"
   },
   {
    "duration": 81,
    "start_time": "2024-04-11T16:54:43.386Z"
   },
   {
    "duration": 37,
    "start_time": "2024-04-11T16:54:43.469Z"
   },
   {
    "duration": 4,
    "start_time": "2024-04-11T16:54:43.508Z"
   },
   {
    "duration": 18,
    "start_time": "2024-04-11T16:54:43.513Z"
   },
   {
    "duration": 50,
    "start_time": "2024-04-11T16:54:43.532Z"
   },
   {
    "duration": 40,
    "start_time": "2024-04-11T16:54:43.584Z"
   },
   {
    "duration": 6,
    "start_time": "2024-04-11T16:54:43.625Z"
   },
   {
    "duration": 3,
    "start_time": "2024-04-11T16:54:43.633Z"
   },
   {
    "duration": 24,
    "start_time": "2024-04-11T16:54:43.637Z"
   },
   {
    "duration": 7,
    "start_time": "2024-04-11T16:54:43.682Z"
   },
   {
    "duration": 13,
    "start_time": "2024-04-11T16:54:43.690Z"
   },
   {
    "duration": 10,
    "start_time": "2024-04-11T16:54:43.704Z"
   },
   {
    "duration": 7,
    "start_time": "2024-04-11T16:54:43.715Z"
   },
   {
    "duration": 14,
    "start_time": "2024-04-11T16:54:43.723Z"
   },
   {
    "duration": 15,
    "start_time": "2024-04-11T16:54:43.738Z"
   },
   {
    "duration": 31,
    "start_time": "2024-04-11T16:54:43.754Z"
   },
   {
    "duration": 128,
    "start_time": "2024-04-11T16:54:43.787Z"
   },
   {
    "duration": 100,
    "start_time": "2024-04-11T16:54:43.917Z"
   },
   {
    "duration": 112,
    "start_time": "2024-04-11T16:54:44.019Z"
   },
   {
    "duration": 184,
    "start_time": "2024-04-11T16:54:44.132Z"
   },
   {
    "duration": 347,
    "start_time": "2024-04-11T16:54:44.318Z"
   },
   {
    "duration": 287,
    "start_time": "2024-04-11T16:54:44.667Z"
   },
   {
    "duration": 203,
    "start_time": "2024-04-11T16:54:44.956Z"
   },
   {
    "duration": 378,
    "start_time": "2024-04-11T16:54:45.162Z"
   },
   {
    "duration": 177,
    "start_time": "2024-04-11T16:54:45.542Z"
   },
   {
    "duration": 1671,
    "start_time": "2024-04-11T16:54:45.722Z"
   },
   {
    "duration": 10,
    "start_time": "2024-04-11T16:54:47.395Z"
   },
   {
    "duration": 28,
    "start_time": "2024-04-11T16:54:47.406Z"
   },
   {
    "duration": 229,
    "start_time": "2024-04-11T16:54:47.436Z"
   },
   {
    "duration": 236,
    "start_time": "2024-04-11T16:54:47.667Z"
   },
   {
    "duration": 1053,
    "start_time": "2024-04-11T16:54:47.905Z"
   },
   {
    "duration": 34,
    "start_time": "2024-04-11T16:54:48.960Z"
   },
   {
    "duration": 17,
    "start_time": "2024-04-11T16:54:48.996Z"
   },
   {
    "duration": 31,
    "start_time": "2024-04-11T16:54:49.016Z"
   },
   {
    "duration": 61,
    "start_time": "2024-04-11T16:54:49.049Z"
   },
   {
    "duration": 3062,
    "start_time": "2024-04-11T16:54:49.111Z"
   },
   {
    "duration": 4,
    "start_time": "2024-04-11T16:54:52.174Z"
   },
   {
    "duration": 31,
    "start_time": "2024-04-11T16:54:52.179Z"
   },
   {
    "duration": 30687,
    "start_time": "2024-04-11T16:54:52.212Z"
   },
   {
    "duration": 30683,
    "start_time": "2024-04-11T16:56:15.420Z"
   },
   {
    "duration": 4745,
    "start_time": "2024-04-11T17:18:51.195Z"
   },
   {
    "duration": 4811,
    "start_time": "2024-04-11T17:18:55.943Z"
   },
   {
    "duration": 85,
    "start_time": "2024-04-11T17:19:00.756Z"
   },
   {
    "duration": 58,
    "start_time": "2024-04-11T17:19:00.843Z"
   },
   {
    "duration": 41,
    "start_time": "2024-04-11T17:19:00.903Z"
   },
   {
    "duration": 43,
    "start_time": "2024-04-11T17:19:00.946Z"
   },
   {
    "duration": 67,
    "start_time": "2024-04-11T17:19:00.991Z"
   },
   {
    "duration": 49,
    "start_time": "2024-04-11T17:19:01.059Z"
   },
   {
    "duration": 55,
    "start_time": "2024-04-11T17:19:01.109Z"
   },
   {
    "duration": 87,
    "start_time": "2024-04-11T17:19:01.166Z"
   },
   {
    "duration": 110,
    "start_time": "2024-04-11T17:19:01.255Z"
   },
   {
    "duration": 68,
    "start_time": "2024-04-11T17:19:01.367Z"
   },
   {
    "duration": 94,
    "start_time": "2024-04-11T17:19:01.437Z"
   },
   {
    "duration": 68,
    "start_time": "2024-04-11T17:19:01.533Z"
   },
   {
    "duration": 126,
    "start_time": "2024-04-11T17:19:01.603Z"
   },
   {
    "duration": 115,
    "start_time": "2024-04-11T17:19:01.731Z"
   },
   {
    "duration": 109,
    "start_time": "2024-04-11T17:19:01.848Z"
   },
   {
    "duration": 78,
    "start_time": "2024-04-11T17:19:01.958Z"
   },
   {
    "duration": 125,
    "start_time": "2024-04-11T17:19:02.038Z"
   },
   {
    "duration": 85,
    "start_time": "2024-04-11T17:19:02.164Z"
   },
   {
    "duration": 113,
    "start_time": "2024-04-11T17:19:02.250Z"
   },
   {
    "duration": 165,
    "start_time": "2024-04-11T17:19:02.365Z"
   },
   {
    "duration": 292,
    "start_time": "2024-04-11T17:19:02.531Z"
   },
   {
    "duration": 239,
    "start_time": "2024-04-11T17:19:02.825Z"
   },
   {
    "duration": 165,
    "start_time": "2024-04-11T17:19:03.065Z"
   },
   {
    "duration": 317,
    "start_time": "2024-04-11T17:19:03.232Z"
   },
   {
    "duration": 155,
    "start_time": "2024-04-11T17:19:03.550Z"
   },
   {
    "duration": 1390,
    "start_time": "2024-04-11T17:19:03.706Z"
   },
   {
    "duration": 16,
    "start_time": "2024-04-11T17:19:05.098Z"
   },
   {
    "duration": 17,
    "start_time": "2024-04-11T17:19:05.115Z"
   },
   {
    "duration": 192,
    "start_time": "2024-04-11T17:19:05.133Z"
   },
   {
    "duration": 206,
    "start_time": "2024-04-11T17:19:05.326Z"
   },
   {
    "duration": 893,
    "start_time": "2024-04-11T17:19:05.533Z"
   },
   {
    "duration": 19,
    "start_time": "2024-04-11T17:19:06.428Z"
   },
   {
    "duration": 15,
    "start_time": "2024-04-11T17:19:06.448Z"
   },
   {
    "duration": 51,
    "start_time": "2024-04-11T17:19:06.464Z"
   },
   {
    "duration": 21,
    "start_time": "2024-04-11T17:19:06.517Z"
   },
   {
    "duration": 14,
    "start_time": "2024-04-11T17:19:06.540Z"
   },
   {
    "duration": 4859,
    "start_time": "2024-04-11T17:33:18.067Z"
   },
   {
    "duration": 5,
    "start_time": "2024-04-11T17:33:22.928Z"
   },
   {
    "duration": 111,
    "start_time": "2024-04-11T17:33:22.935Z"
   },
   {
    "duration": 25,
    "start_time": "2024-04-11T17:33:23.048Z"
   },
   {
    "duration": 4,
    "start_time": "2024-04-11T17:33:23.074Z"
   },
   {
    "duration": 18,
    "start_time": "2024-04-11T17:33:23.080Z"
   },
   {
    "duration": 25,
    "start_time": "2024-04-11T17:33:23.100Z"
   },
   {
    "duration": 30,
    "start_time": "2024-04-11T17:33:23.128Z"
   },
   {
    "duration": 5,
    "start_time": "2024-04-11T17:33:23.160Z"
   },
   {
    "duration": 15,
    "start_time": "2024-04-11T17:33:23.167Z"
   },
   {
    "duration": 37,
    "start_time": "2024-04-11T17:33:23.183Z"
   },
   {
    "duration": 5,
    "start_time": "2024-04-11T17:33:23.221Z"
   },
   {
    "duration": 11,
    "start_time": "2024-04-11T17:33:23.227Z"
   },
   {
    "duration": 9,
    "start_time": "2024-04-11T17:33:23.241Z"
   },
   {
    "duration": 7,
    "start_time": "2024-04-11T17:33:23.252Z"
   },
   {
    "duration": 12,
    "start_time": "2024-04-11T17:33:23.260Z"
   },
   {
    "duration": 6,
    "start_time": "2024-04-11T17:33:23.273Z"
   },
   {
    "duration": 35,
    "start_time": "2024-04-11T17:33:23.280Z"
   },
   {
    "duration": 116,
    "start_time": "2024-04-11T17:33:23.317Z"
   },
   {
    "duration": 97,
    "start_time": "2024-04-11T17:33:23.435Z"
   },
   {
    "duration": 110,
    "start_time": "2024-04-11T17:33:23.534Z"
   },
   {
    "duration": 161,
    "start_time": "2024-04-11T17:33:23.645Z"
   },
   {
    "duration": 293,
    "start_time": "2024-04-11T17:33:23.808Z"
   },
   {
    "duration": 154,
    "start_time": "2024-04-11T17:33:24.102Z"
   },
   {
    "duration": 177,
    "start_time": "2024-04-11T17:33:24.257Z"
   },
   {
    "duration": 333,
    "start_time": "2024-04-11T17:33:24.436Z"
   },
   {
    "duration": 154,
    "start_time": "2024-04-11T17:33:24.771Z"
   },
   {
    "duration": 1495,
    "start_time": "2024-04-11T17:33:24.926Z"
   },
   {
    "duration": 8,
    "start_time": "2024-04-11T17:33:26.423Z"
   },
   {
    "duration": 35,
    "start_time": "2024-04-11T17:33:26.432Z"
   },
   {
    "duration": 336,
    "start_time": "2024-04-11T17:33:26.469Z"
   },
   {
    "duration": 200,
    "start_time": "2024-04-11T17:33:26.809Z"
   },
   {
    "duration": 764,
    "start_time": "2024-04-11T17:33:27.020Z"
   },
   {
    "duration": 26,
    "start_time": "2024-04-11T17:33:27.785Z"
   },
   {
    "duration": 21,
    "start_time": "2024-04-11T17:33:27.812Z"
   },
   {
    "duration": 27,
    "start_time": "2024-04-11T17:33:27.834Z"
   },
   {
    "duration": 55,
    "start_time": "2024-04-11T17:33:27.863Z"
   },
   {
    "duration": 4,
    "start_time": "2024-04-11T17:33:27.921Z"
   },
   {
    "duration": 2644,
    "start_time": "2024-04-11T17:33:27.926Z"
   },
   {
    "duration": 4,
    "start_time": "2024-04-11T17:33:30.571Z"
   },
   {
    "duration": 278,
    "start_time": "2024-04-11T17:33:30.579Z"
   },
   {
    "duration": 298,
    "start_time": "2024-04-11T17:33:30.859Z"
   },
   {
    "duration": 10490,
    "start_time": "2024-04-11T17:34:47.159Z"
   },
   {
    "duration": 3657,
    "start_time": "2024-04-11T17:34:57.652Z"
   },
   {
    "duration": 86,
    "start_time": "2024-04-11T17:35:01.311Z"
   },
   {
    "duration": 123,
    "start_time": "2024-04-11T17:35:01.399Z"
   },
   {
    "duration": 249,
    "start_time": "2024-04-11T17:35:01.524Z"
   },
   {
    "duration": 194,
    "start_time": "2024-04-11T17:35:01.775Z"
   },
   {
    "duration": 165,
    "start_time": "2024-04-11T17:35:01.970Z"
   },
   {
    "duration": 151,
    "start_time": "2024-04-11T17:35:02.137Z"
   },
   {
    "duration": 67,
    "start_time": "2024-04-11T17:35:02.290Z"
   },
   {
    "duration": 58,
    "start_time": "2024-04-11T17:35:02.360Z"
   },
   {
    "duration": 47,
    "start_time": "2024-04-11T17:35:02.420Z"
   },
   {
    "duration": 24,
    "start_time": "2024-04-11T17:35:02.468Z"
   },
   {
    "duration": 62,
    "start_time": "2024-04-11T17:35:02.494Z"
   },
   {
    "duration": 25,
    "start_time": "2024-04-11T17:35:02.558Z"
   },
   {
    "duration": 24,
    "start_time": "2024-04-11T17:35:02.584Z"
   },
   {
    "duration": 31,
    "start_time": "2024-04-11T17:35:02.610Z"
   },
   {
    "duration": 81,
    "start_time": "2024-04-11T17:35:02.642Z"
   },
   {
    "duration": 43,
    "start_time": "2024-04-11T17:35:02.725Z"
   },
   {
    "duration": 147,
    "start_time": "2024-04-11T17:35:02.769Z"
   },
   {
    "duration": 78,
    "start_time": "2024-04-11T17:35:02.918Z"
   },
   {
    "duration": 97,
    "start_time": "2024-04-11T17:35:02.997Z"
   },
   {
    "duration": 153,
    "start_time": "2024-04-11T17:35:03.109Z"
   },
   {
    "duration": 326,
    "start_time": "2024-04-11T17:35:03.264Z"
   },
   {
    "duration": 235,
    "start_time": "2024-04-11T17:35:03.591Z"
   },
   {
    "duration": 169,
    "start_time": "2024-04-11T17:35:03.827Z"
   },
   {
    "duration": 303,
    "start_time": "2024-04-11T17:35:03.998Z"
   },
   {
    "duration": 141,
    "start_time": "2024-04-11T17:35:04.308Z"
   },
   {
    "duration": 1506,
    "start_time": "2024-04-11T17:35:04.452Z"
   },
   {
    "duration": 8,
    "start_time": "2024-04-11T17:35:05.959Z"
   },
   {
    "duration": 14,
    "start_time": "2024-04-11T17:35:05.968Z"
   },
   {
    "duration": 207,
    "start_time": "2024-04-11T17:35:05.984Z"
   },
   {
    "duration": 197,
    "start_time": "2024-04-11T17:35:06.192Z"
   },
   {
    "duration": 960,
    "start_time": "2024-04-11T17:35:06.390Z"
   },
   {
    "duration": 19,
    "start_time": "2024-04-11T17:35:07.352Z"
   },
   {
    "duration": 16,
    "start_time": "2024-04-11T17:35:07.373Z"
   },
   {
    "duration": 45,
    "start_time": "2024-04-11T17:35:07.390Z"
   },
   {
    "duration": 21,
    "start_time": "2024-04-11T17:35:07.437Z"
   },
   {
    "duration": 4,
    "start_time": "2024-04-11T17:35:07.459Z"
   },
   {
    "duration": 2719,
    "start_time": "2024-04-11T17:35:07.464Z"
   },
   {
    "duration": 3,
    "start_time": "2024-04-11T17:35:10.185Z"
   },
   {
    "duration": 34,
    "start_time": "2024-04-11T17:35:10.190Z"
   },
   {
    "duration": 29845,
    "start_time": "2024-04-11T17:35:10.226Z"
   },
   {
    "duration": 62,
    "start_time": "2024-04-11T18:41:05.470Z"
   },
   {
    "duration": 7364,
    "start_time": "2024-04-11T18:41:18.568Z"
   },
   {
    "duration": 2136,
    "start_time": "2024-04-11T18:41:25.935Z"
   },
   {
    "duration": 273,
    "start_time": "2024-04-11T18:41:28.073Z"
   },
   {
    "duration": 29,
    "start_time": "2024-04-11T18:41:28.348Z"
   },
   {
    "duration": 4,
    "start_time": "2024-04-11T18:41:28.379Z"
   },
   {
    "duration": 21,
    "start_time": "2024-04-11T18:41:28.384Z"
   },
   {
    "duration": 24,
    "start_time": "2024-04-11T18:41:28.407Z"
   },
   {
    "duration": 43,
    "start_time": "2024-04-11T18:41:28.433Z"
   },
   {
    "duration": 6,
    "start_time": "2024-04-11T18:41:28.478Z"
   },
   {
    "duration": 3,
    "start_time": "2024-04-11T18:41:28.516Z"
   },
   {
    "duration": 20,
    "start_time": "2024-04-11T18:41:28.522Z"
   },
   {
    "duration": 4,
    "start_time": "2024-04-11T18:41:28.544Z"
   },
   {
    "duration": 11,
    "start_time": "2024-04-11T18:41:28.549Z"
   },
   {
    "duration": 11,
    "start_time": "2024-04-11T18:41:28.561Z"
   },
   {
    "duration": 7,
    "start_time": "2024-04-11T18:41:28.573Z"
   },
   {
    "duration": 13,
    "start_time": "2024-04-11T18:41:28.615Z"
   },
   {
    "duration": 8,
    "start_time": "2024-04-11T18:41:28.630Z"
   },
   {
    "duration": 6,
    "start_time": "2024-04-11T18:41:28.639Z"
   },
   {
    "duration": 136,
    "start_time": "2024-04-11T18:41:28.646Z"
   },
   {
    "duration": 108,
    "start_time": "2024-04-11T18:41:28.784Z"
   },
   {
    "duration": 120,
    "start_time": "2024-04-11T18:41:28.895Z"
   },
   {
    "duration": 196,
    "start_time": "2024-04-11T18:41:29.017Z"
   },
   {
    "duration": 329,
    "start_time": "2024-04-11T18:41:29.214Z"
   },
   {
    "duration": 250,
    "start_time": "2024-04-11T18:41:29.545Z"
   },
   {
    "duration": 204,
    "start_time": "2024-04-11T18:41:29.796Z"
   },
   {
    "duration": 349,
    "start_time": "2024-04-11T18:41:30.002Z"
   },
   {
    "duration": 179,
    "start_time": "2024-04-11T18:41:30.353Z"
   },
   {
    "duration": 1685,
    "start_time": "2024-04-11T18:41:30.535Z"
   },
   {
    "duration": 8,
    "start_time": "2024-04-11T18:41:32.222Z"
   },
   {
    "duration": 16,
    "start_time": "2024-04-11T18:41:32.232Z"
   },
   {
    "duration": 245,
    "start_time": "2024-04-11T18:41:32.250Z"
   },
   {
    "duration": 218,
    "start_time": "2024-04-11T18:41:32.497Z"
   },
   {
    "duration": 1045,
    "start_time": "2024-04-11T18:41:32.716Z"
   },
   {
    "duration": 21,
    "start_time": "2024-04-11T18:41:33.763Z"
   },
   {
    "duration": 34,
    "start_time": "2024-04-11T18:41:33.786Z"
   },
   {
    "duration": 31,
    "start_time": "2024-04-11T18:41:33.822Z"
   },
   {
    "duration": 23,
    "start_time": "2024-04-11T18:41:33.855Z"
   },
   {
    "duration": 4,
    "start_time": "2024-04-11T18:41:33.880Z"
   },
   {
    "duration": 3118,
    "start_time": "2024-04-11T18:41:33.886Z"
   },
   {
    "duration": 5,
    "start_time": "2024-04-11T18:41:37.006Z"
   },
   {
    "duration": 20,
    "start_time": "2024-04-11T18:41:37.012Z"
   },
   {
    "duration": 30709,
    "start_time": "2024-04-11T18:41:37.034Z"
   },
   {
    "duration": 17,
    "start_time": "2024-04-11T18:42:29.730Z"
   },
   {
    "duration": 26,
    "start_time": "2024-04-11T18:42:40.283Z"
   },
   {
    "duration": 22,
    "start_time": "2024-04-11T18:44:26.751Z"
   },
   {
    "duration": 6,
    "start_time": "2024-04-11T18:44:58.352Z"
   },
   {
    "duration": 5061,
    "start_time": "2024-04-11T19:01:55.974Z"
   },
   {
    "duration": 1855,
    "start_time": "2024-04-11T19:02:01.038Z"
   },
   {
    "duration": 88,
    "start_time": "2024-04-11T19:02:02.894Z"
   },
   {
    "duration": 31,
    "start_time": "2024-04-11T19:02:02.984Z"
   },
   {
    "duration": 4,
    "start_time": "2024-04-11T19:02:03.017Z"
   },
   {
    "duration": 18,
    "start_time": "2024-04-11T19:02:03.022Z"
   },
   {
    "duration": 18,
    "start_time": "2024-04-11T19:02:03.042Z"
   },
   {
    "duration": 69,
    "start_time": "2024-04-11T19:02:03.061Z"
   },
   {
    "duration": 6,
    "start_time": "2024-04-11T19:02:03.131Z"
   },
   {
    "duration": 3,
    "start_time": "2024-04-11T19:02:03.139Z"
   },
   {
    "duration": 21,
    "start_time": "2024-04-11T19:02:03.143Z"
   },
   {
    "duration": 4,
    "start_time": "2024-04-11T19:02:03.165Z"
   },
   {
    "duration": 9,
    "start_time": "2024-04-11T19:02:03.171Z"
   },
   {
    "duration": 12,
    "start_time": "2024-04-11T19:02:03.215Z"
   },
   {
    "duration": 8,
    "start_time": "2024-04-11T19:02:03.229Z"
   },
   {
    "duration": 12,
    "start_time": "2024-04-11T19:02:03.239Z"
   },
   {
    "duration": 9,
    "start_time": "2024-04-11T19:02:03.252Z"
   },
   {
    "duration": 4,
    "start_time": "2024-04-11T19:02:03.262Z"
   },
   {
    "duration": 165,
    "start_time": "2024-04-11T19:02:03.267Z"
   },
   {
    "duration": 100,
    "start_time": "2024-04-11T19:02:03.433Z"
   },
   {
    "duration": 110,
    "start_time": "2024-04-11T19:02:03.534Z"
   },
   {
    "duration": 171,
    "start_time": "2024-04-11T19:02:03.646Z"
   },
   {
    "duration": 321,
    "start_time": "2024-04-11T19:02:03.818Z"
   },
   {
    "duration": 261,
    "start_time": "2024-04-11T19:02:04.141Z"
   },
   {
    "duration": 187,
    "start_time": "2024-04-11T19:02:04.404Z"
   },
   {
    "duration": 399,
    "start_time": "2024-04-11T19:02:04.593Z"
   },
   {
    "duration": 166,
    "start_time": "2024-04-11T19:02:04.993Z"
   },
   {
    "duration": 1637,
    "start_time": "2024-04-11T19:02:05.162Z"
   },
   {
    "duration": 14,
    "start_time": "2024-04-11T19:02:06.801Z"
   },
   {
    "duration": 15,
    "start_time": "2024-04-11T19:02:06.817Z"
   },
   {
    "duration": 228,
    "start_time": "2024-04-11T19:02:06.834Z"
   },
   {
    "duration": 221,
    "start_time": "2024-04-11T19:02:07.063Z"
   },
   {
    "duration": 1087,
    "start_time": "2024-04-11T19:02:07.287Z"
   },
   {
    "duration": 19,
    "start_time": "2024-04-11T19:02:08.376Z"
   },
   {
    "duration": 31,
    "start_time": "2024-04-11T19:02:08.397Z"
   },
   {
    "duration": 24,
    "start_time": "2024-04-11T19:02:08.430Z"
   },
   {
    "duration": 21,
    "start_time": "2024-04-11T19:02:08.456Z"
   },
   {
    "duration": 4,
    "start_time": "2024-04-11T19:02:08.479Z"
   },
   {
    "duration": 41,
    "start_time": "2024-04-11T19:02:08.484Z"
   },
   {
    "duration": 5,
    "start_time": "2024-04-11T19:02:08.527Z"
   },
   {
    "duration": 2954,
    "start_time": "2024-04-11T19:02:08.533Z"
   },
   {
    "duration": 4,
    "start_time": "2024-04-11T19:02:11.489Z"
   },
   {
    "duration": 7,
    "start_time": "2024-04-11T19:02:11.494Z"
   },
   {
    "duration": 31126,
    "start_time": "2024-04-11T19:02:11.503Z"
   },
   {
    "duration": 158,
    "start_time": "2024-04-11T19:04:22.906Z"
   },
   {
    "duration": 26,
    "start_time": "2024-04-11T19:05:15.664Z"
   },
   {
    "duration": 25,
    "start_time": "2024-04-11T19:07:07.378Z"
   },
   {
    "duration": 30,
    "start_time": "2024-04-11T19:07:18.764Z"
   },
   {
    "duration": 22,
    "start_time": "2024-04-11T19:09:18.323Z"
   },
   {
    "duration": 20,
    "start_time": "2024-04-11T19:10:03.927Z"
   },
   {
    "duration": 35,
    "start_time": "2024-04-11T19:10:15.307Z"
   },
   {
    "duration": 12311,
    "start_time": "2024-04-11T19:12:22.984Z"
   },
   {
    "duration": 1868,
    "start_time": "2024-04-11T19:12:35.297Z"
   },
   {
    "duration": 90,
    "start_time": "2024-04-11T19:12:37.167Z"
   },
   {
    "duration": 30,
    "start_time": "2024-04-11T19:12:37.260Z"
   },
   {
    "duration": 12,
    "start_time": "2024-04-11T19:12:37.292Z"
   },
   {
    "duration": 19,
    "start_time": "2024-04-11T19:12:37.306Z"
   },
   {
    "duration": 19,
    "start_time": "2024-04-11T19:12:37.326Z"
   },
   {
    "duration": 33,
    "start_time": "2024-04-11T19:12:37.347Z"
   },
   {
    "duration": 39,
    "start_time": "2024-04-11T19:12:37.381Z"
   },
   {
    "duration": 9,
    "start_time": "2024-04-11T19:12:37.423Z"
   },
   {
    "duration": 25,
    "start_time": "2024-04-11T19:12:37.433Z"
   },
   {
    "duration": 6,
    "start_time": "2024-04-11T19:12:37.460Z"
   },
   {
    "duration": 15,
    "start_time": "2024-04-11T19:12:37.467Z"
   },
   {
    "duration": 37,
    "start_time": "2024-04-11T19:12:37.484Z"
   },
   {
    "duration": 7,
    "start_time": "2024-04-11T19:12:37.523Z"
   },
   {
    "duration": 16,
    "start_time": "2024-04-11T19:12:37.532Z"
   },
   {
    "duration": 7,
    "start_time": "2024-04-11T19:12:37.550Z"
   },
   {
    "duration": 4,
    "start_time": "2024-04-11T19:12:37.559Z"
   },
   {
    "duration": 159,
    "start_time": "2024-04-11T19:12:37.565Z"
   },
   {
    "duration": 102,
    "start_time": "2024-04-11T19:12:37.726Z"
   },
   {
    "duration": 109,
    "start_time": "2024-04-11T19:12:37.830Z"
   },
   {
    "duration": 180,
    "start_time": "2024-04-11T19:12:37.941Z"
   },
   {
    "duration": 364,
    "start_time": "2024-04-11T19:12:38.123Z"
   },
   {
    "duration": 263,
    "start_time": "2024-04-11T19:12:38.489Z"
   },
   {
    "duration": 223,
    "start_time": "2024-04-11T19:12:38.753Z"
   },
   {
    "duration": 362,
    "start_time": "2024-04-11T19:12:38.978Z"
   },
   {
    "duration": 167,
    "start_time": "2024-04-11T19:12:39.341Z"
   },
   {
    "duration": 1659,
    "start_time": "2024-04-11T19:12:39.511Z"
   },
   {
    "duration": 8,
    "start_time": "2024-04-11T19:12:41.172Z"
   },
   {
    "duration": 22,
    "start_time": "2024-04-11T19:12:41.181Z"
   },
   {
    "duration": 225,
    "start_time": "2024-04-11T19:12:41.214Z"
   },
   {
    "duration": 222,
    "start_time": "2024-04-11T19:12:41.441Z"
   },
   {
    "duration": 1042,
    "start_time": "2024-04-11T19:12:41.665Z"
   },
   {
    "duration": 21,
    "start_time": "2024-04-11T19:12:42.708Z"
   },
   {
    "duration": 16,
    "start_time": "2024-04-11T19:12:42.731Z"
   },
   {
    "duration": 26,
    "start_time": "2024-04-11T19:12:42.749Z"
   },
   {
    "duration": 59,
    "start_time": "2024-04-11T19:12:42.777Z"
   },
   {
    "duration": 5,
    "start_time": "2024-04-11T19:12:42.839Z"
   },
   {
    "duration": 28,
    "start_time": "2024-04-11T19:12:42.846Z"
   },
   {
    "duration": 7,
    "start_time": "2024-04-11T19:12:42.876Z"
   },
   {
    "duration": 3027,
    "start_time": "2024-04-11T19:12:42.884Z"
   },
   {
    "duration": 4,
    "start_time": "2024-04-11T19:12:45.913Z"
   },
   {
    "duration": 14,
    "start_time": "2024-04-11T19:12:45.918Z"
   },
   {
    "duration": 159,
    "start_time": "2024-04-11T19:12:45.933Z"
   },
   {
    "duration": 1,
    "start_time": "2024-04-11T19:12:46.093Z"
   },
   {
    "duration": 5280,
    "start_time": "2024-04-11T19:13:41.943Z"
   },
   {
    "duration": 1850,
    "start_time": "2024-04-11T19:13:47.226Z"
   },
   {
    "duration": 91,
    "start_time": "2024-04-11T19:13:49.078Z"
   },
   {
    "duration": 42,
    "start_time": "2024-04-11T19:13:49.172Z"
   },
   {
    "duration": 96,
    "start_time": "2024-04-11T19:13:49.215Z"
   },
   {
    "duration": 83,
    "start_time": "2024-04-11T19:13:49.312Z"
   },
   {
    "duration": 41,
    "start_time": "2024-04-11T19:13:49.397Z"
   },
   {
    "duration": 58,
    "start_time": "2024-04-11T19:13:49.439Z"
   },
   {
    "duration": 14,
    "start_time": "2024-04-11T19:13:49.499Z"
   },
   {
    "duration": 58,
    "start_time": "2024-04-11T19:13:49.517Z"
   },
   {
    "duration": 62,
    "start_time": "2024-04-11T19:13:49.576Z"
   },
   {
    "duration": 26,
    "start_time": "2024-04-11T19:13:49.640Z"
   },
   {
    "duration": 57,
    "start_time": "2024-04-11T19:13:49.668Z"
   },
   {
    "duration": 39,
    "start_time": "2024-04-11T19:13:49.727Z"
   },
   {
    "duration": 73,
    "start_time": "2024-04-11T19:13:49.768Z"
   },
   {
    "duration": 83,
    "start_time": "2024-04-11T19:13:49.842Z"
   },
   {
    "duration": 44,
    "start_time": "2024-04-11T19:13:49.927Z"
   },
   {
    "duration": 21,
    "start_time": "2024-04-11T19:13:49.973Z"
   },
   {
    "duration": 140,
    "start_time": "2024-04-11T19:13:49.996Z"
   },
   {
    "duration": 88,
    "start_time": "2024-04-11T19:13:50.137Z"
   },
   {
    "duration": 104,
    "start_time": "2024-04-11T19:13:50.227Z"
   },
   {
    "duration": 200,
    "start_time": "2024-04-11T19:13:50.333Z"
   },
   {
    "duration": 374,
    "start_time": "2024-04-11T19:13:50.535Z"
   },
   {
    "duration": 258,
    "start_time": "2024-04-11T19:13:50.912Z"
   },
   {
    "duration": 197,
    "start_time": "2024-04-11T19:13:51.171Z"
   },
   {
    "duration": 366,
    "start_time": "2024-04-11T19:13:51.370Z"
   },
   {
    "duration": 180,
    "start_time": "2024-04-11T19:13:51.738Z"
   },
   {
    "duration": 1641,
    "start_time": "2024-04-11T19:13:51.923Z"
   },
   {
    "duration": 9,
    "start_time": "2024-04-11T19:13:53.566Z"
   },
   {
    "duration": 25,
    "start_time": "2024-04-11T19:13:53.576Z"
   },
   {
    "duration": 218,
    "start_time": "2024-04-11T19:13:53.603Z"
   },
   {
    "duration": 215,
    "start_time": "2024-04-11T19:13:53.822Z"
   },
   {
    "duration": 1046,
    "start_time": "2024-04-11T19:13:54.038Z"
   },
   {
    "duration": 31,
    "start_time": "2024-04-11T19:13:55.085Z"
   },
   {
    "duration": 18,
    "start_time": "2024-04-11T19:13:55.117Z"
   },
   {
    "duration": 26,
    "start_time": "2024-04-11T19:13:55.137Z"
   },
   {
    "duration": 53,
    "start_time": "2024-04-11T19:13:55.165Z"
   },
   {
    "duration": 4,
    "start_time": "2024-04-11T19:13:55.220Z"
   },
   {
    "duration": 28,
    "start_time": "2024-04-11T19:13:55.226Z"
   },
   {
    "duration": 6,
    "start_time": "2024-04-11T19:13:55.256Z"
   },
   {
    "duration": 2911,
    "start_time": "2024-04-11T19:13:55.264Z"
   },
   {
    "duration": 4,
    "start_time": "2024-04-11T19:13:58.177Z"
   },
   {
    "duration": 26,
    "start_time": "2024-04-11T19:13:58.183Z"
   },
   {
    "duration": 158,
    "start_time": "2024-04-11T19:13:58.211Z"
   },
   {
    "duration": 0,
    "start_time": "2024-04-11T19:13:58.370Z"
   },
   {
    "duration": 5055,
    "start_time": "2024-04-11T19:15:51.231Z"
   },
   {
    "duration": 1793,
    "start_time": "2024-04-11T19:15:56.288Z"
   },
   {
    "duration": 90,
    "start_time": "2024-04-11T19:15:58.082Z"
   },
   {
    "duration": 32,
    "start_time": "2024-04-11T19:15:58.174Z"
   },
   {
    "duration": 4,
    "start_time": "2024-04-11T19:15:58.207Z"
   },
   {
    "duration": 21,
    "start_time": "2024-04-11T19:15:58.212Z"
   },
   {
    "duration": 22,
    "start_time": "2024-04-11T19:15:58.235Z"
   },
   {
    "duration": 73,
    "start_time": "2024-04-11T19:15:58.259Z"
   },
   {
    "duration": 6,
    "start_time": "2024-04-11T19:15:58.333Z"
   },
   {
    "duration": 8,
    "start_time": "2024-04-11T19:15:58.341Z"
   },
   {
    "duration": 31,
    "start_time": "2024-04-11T19:15:58.350Z"
   },
   {
    "duration": 4,
    "start_time": "2024-04-11T19:15:58.383Z"
   },
   {
    "duration": 26,
    "start_time": "2024-04-11T19:15:58.389Z"
   },
   {
    "duration": 11,
    "start_time": "2024-04-11T19:15:58.417Z"
   },
   {
    "duration": 6,
    "start_time": "2024-04-11T19:15:58.430Z"
   },
   {
    "duration": 14,
    "start_time": "2024-04-11T19:15:58.438Z"
   },
   {
    "duration": 7,
    "start_time": "2024-04-11T19:15:58.453Z"
   },
   {
    "duration": 6,
    "start_time": "2024-04-11T19:15:58.462Z"
   },
   {
    "duration": 147,
    "start_time": "2024-04-11T19:15:58.469Z"
   },
   {
    "duration": 97,
    "start_time": "2024-04-11T19:15:58.619Z"
   },
   {
    "duration": 106,
    "start_time": "2024-04-11T19:15:58.718Z"
   },
   {
    "duration": 183,
    "start_time": "2024-04-11T19:15:58.826Z"
   },
   {
    "duration": 358,
    "start_time": "2024-04-11T19:15:59.015Z"
   },
   {
    "duration": 248,
    "start_time": "2024-04-11T19:15:59.375Z"
   },
   {
    "duration": 195,
    "start_time": "2024-04-11T19:15:59.625Z"
   },
   {
    "duration": 350,
    "start_time": "2024-04-11T19:15:59.822Z"
   },
   {
    "duration": 171,
    "start_time": "2024-04-11T19:16:00.174Z"
   },
   {
    "duration": 1659,
    "start_time": "2024-04-11T19:16:00.350Z"
   },
   {
    "duration": 10,
    "start_time": "2024-04-11T19:16:02.015Z"
   },
   {
    "duration": 79,
    "start_time": "2024-04-11T19:16:02.026Z"
   },
   {
    "duration": 214,
    "start_time": "2024-04-11T19:16:02.107Z"
   },
   {
    "duration": 208,
    "start_time": "2024-04-11T19:16:02.323Z"
   },
   {
    "duration": 1026,
    "start_time": "2024-04-11T19:16:02.533Z"
   },
   {
    "duration": 21,
    "start_time": "2024-04-11T19:16:03.561Z"
   },
   {
    "duration": 33,
    "start_time": "2024-04-11T19:16:03.583Z"
   },
   {
    "duration": 25,
    "start_time": "2024-04-11T19:16:03.618Z"
   },
   {
    "duration": 23,
    "start_time": "2024-04-11T19:16:03.645Z"
   },
   {
    "duration": 4,
    "start_time": "2024-04-11T19:16:03.669Z"
   },
   {
    "duration": 44,
    "start_time": "2024-04-11T19:16:03.675Z"
   },
   {
    "duration": 5,
    "start_time": "2024-04-11T19:16:03.721Z"
   },
   {
    "duration": 2987,
    "start_time": "2024-04-11T19:16:03.728Z"
   },
   {
    "duration": 4,
    "start_time": "2024-04-11T19:16:06.717Z"
   },
   {
    "duration": 8,
    "start_time": "2024-04-11T19:16:06.722Z"
   },
   {
    "duration": 169,
    "start_time": "2024-04-11T19:16:06.732Z"
   },
   {
    "duration": 0,
    "start_time": "2024-04-11T19:16:06.903Z"
   },
   {
    "duration": 13,
    "start_time": "2024-04-11T19:16:52.444Z"
   },
   {
    "duration": 23012,
    "start_time": "2024-04-11T19:17:45.125Z"
   },
   {
    "duration": 32,
    "start_time": "2024-04-11T19:18:32.510Z"
   },
   {
    "duration": 8206,
    "start_time": "2024-04-11T19:23:23.874Z"
   },
   {
    "duration": 1772,
    "start_time": "2024-04-11T19:23:32.082Z"
   },
   {
    "duration": 87,
    "start_time": "2024-04-11T19:23:33.855Z"
   },
   {
    "duration": 28,
    "start_time": "2024-04-11T19:23:33.944Z"
   },
   {
    "duration": 4,
    "start_time": "2024-04-11T19:23:33.974Z"
   },
   {
    "duration": 26,
    "start_time": "2024-04-11T19:23:33.979Z"
   },
   {
    "duration": 18,
    "start_time": "2024-04-11T19:23:34.006Z"
   },
   {
    "duration": 29,
    "start_time": "2024-04-11T19:23:34.026Z"
   },
   {
    "duration": 6,
    "start_time": "2024-04-11T19:23:34.056Z"
   },
   {
    "duration": 5,
    "start_time": "2024-04-11T19:23:34.064Z"
   },
   {
    "duration": 55,
    "start_time": "2024-04-11T19:23:34.070Z"
   },
   {
    "duration": 4,
    "start_time": "2024-04-11T19:23:34.127Z"
   },
   {
    "duration": 20,
    "start_time": "2024-04-11T19:23:34.133Z"
   },
   {
    "duration": 15,
    "start_time": "2024-04-11T19:23:34.155Z"
   },
   {
    "duration": 8,
    "start_time": "2024-04-11T19:23:34.172Z"
   },
   {
    "duration": 37,
    "start_time": "2024-04-11T19:23:34.181Z"
   },
   {
    "duration": 8,
    "start_time": "2024-04-11T19:23:34.220Z"
   },
   {
    "duration": 6,
    "start_time": "2024-04-11T19:23:34.230Z"
   },
   {
    "duration": 155,
    "start_time": "2024-04-11T19:23:34.238Z"
   },
   {
    "duration": 107,
    "start_time": "2024-04-11T19:23:34.395Z"
   },
   {
    "duration": 129,
    "start_time": "2024-04-11T19:23:34.504Z"
   },
   {
    "duration": 181,
    "start_time": "2024-04-11T19:23:34.634Z"
   },
   {
    "duration": 320,
    "start_time": "2024-04-11T19:23:34.816Z"
   },
   {
    "duration": 243,
    "start_time": "2024-04-11T19:23:35.138Z"
   },
   {
    "duration": 185,
    "start_time": "2024-04-11T19:23:35.382Z"
   },
   {
    "duration": 372,
    "start_time": "2024-04-11T19:23:35.569Z"
   },
   {
    "duration": 175,
    "start_time": "2024-04-11T19:23:35.943Z"
   },
   {
    "duration": 1572,
    "start_time": "2024-04-11T19:23:36.123Z"
   },
   {
    "duration": 18,
    "start_time": "2024-04-11T19:23:37.697Z"
   },
   {
    "duration": 17,
    "start_time": "2024-04-11T19:23:37.717Z"
   },
   {
    "duration": 221,
    "start_time": "2024-04-11T19:23:37.736Z"
   },
   {
    "duration": 228,
    "start_time": "2024-04-11T19:23:37.959Z"
   },
   {
    "duration": 1002,
    "start_time": "2024-04-11T19:23:38.189Z"
   },
   {
    "duration": 24,
    "start_time": "2024-04-11T19:23:39.193Z"
   },
   {
    "duration": 14,
    "start_time": "2024-04-11T19:23:39.219Z"
   },
   {
    "duration": 24,
    "start_time": "2024-04-11T19:23:39.235Z"
   },
   {
    "duration": 55,
    "start_time": "2024-04-11T19:23:39.260Z"
   },
   {
    "duration": 4,
    "start_time": "2024-04-11T19:23:39.317Z"
   },
   {
    "duration": 15,
    "start_time": "2024-04-11T19:23:39.323Z"
   },
   {
    "duration": 5,
    "start_time": "2024-04-11T19:23:39.340Z"
   },
   {
    "duration": 2885,
    "start_time": "2024-04-11T19:23:39.346Z"
   },
   {
    "duration": 3,
    "start_time": "2024-04-11T19:23:42.233Z"
   },
   {
    "duration": 13,
    "start_time": "2024-04-11T19:23:42.238Z"
   },
   {
    "duration": 23012,
    "start_time": "2024-04-11T19:23:42.253Z"
   },
   {
    "duration": 167,
    "start_time": "2024-04-11T19:24:05.267Z"
   },
   {
    "duration": 209,
    "start_time": "2024-04-11T19:24:23.748Z"
   },
   {
    "duration": 211,
    "start_time": "2024-04-11T19:25:51.779Z"
   },
   {
    "duration": 12,
    "start_time": "2024-04-11T19:37:40.218Z"
   },
   {
    "duration": 26,
    "start_time": "2024-04-11T19:39:25.865Z"
   },
   {
    "duration": 225,
    "start_time": "2024-04-11T19:39:36.035Z"
   },
   {
    "duration": 12,
    "start_time": "2024-04-11T19:42:56.723Z"
   },
   {
    "duration": 18,
    "start_time": "2024-04-11T19:50:31.793Z"
   },
   {
    "duration": 23,
    "start_time": "2024-04-11T19:51:06.820Z"
   },
   {
    "duration": 15301,
    "start_time": "2024-04-12T14:37:34.027Z"
   },
   {
    "duration": 1988,
    "start_time": "2024-04-12T14:37:49.331Z"
   },
   {
    "duration": 358,
    "start_time": "2024-04-12T14:37:51.321Z"
   },
   {
    "duration": 31,
    "start_time": "2024-04-12T14:37:51.681Z"
   },
   {
    "duration": 4,
    "start_time": "2024-04-12T14:37:51.714Z"
   },
   {
    "duration": 20,
    "start_time": "2024-04-12T14:37:51.719Z"
   },
   {
    "duration": 53,
    "start_time": "2024-04-12T14:37:51.741Z"
   },
   {
    "duration": 31,
    "start_time": "2024-04-12T14:37:51.796Z"
   },
   {
    "duration": 6,
    "start_time": "2024-04-12T14:37:51.828Z"
   },
   {
    "duration": 11,
    "start_time": "2024-04-12T14:37:51.837Z"
   },
   {
    "duration": 50,
    "start_time": "2024-04-12T14:37:51.850Z"
   },
   {
    "duration": 5,
    "start_time": "2024-04-12T14:37:51.902Z"
   },
   {
    "duration": 12,
    "start_time": "2024-04-12T14:37:51.908Z"
   },
   {
    "duration": 15,
    "start_time": "2024-04-12T14:37:51.922Z"
   },
   {
    "duration": 10,
    "start_time": "2024-04-12T14:37:51.939Z"
   },
   {
    "duration": 43,
    "start_time": "2024-04-12T14:37:51.951Z"
   },
   {
    "duration": 21,
    "start_time": "2024-04-12T14:37:51.996Z"
   },
   {
    "duration": 6,
    "start_time": "2024-04-12T14:37:52.019Z"
   },
   {
    "duration": 121,
    "start_time": "2024-04-12T14:37:52.027Z"
   },
   {
    "duration": 100,
    "start_time": "2024-04-12T14:37:52.150Z"
   },
   {
    "duration": 102,
    "start_time": "2024-04-12T14:37:52.252Z"
   },
   {
    "duration": 174,
    "start_time": "2024-04-12T14:37:52.356Z"
   },
   {
    "duration": 316,
    "start_time": "2024-04-12T14:37:52.532Z"
   },
   {
    "duration": 264,
    "start_time": "2024-04-12T14:37:52.850Z"
   },
   {
    "duration": 179,
    "start_time": "2024-04-12T14:37:53.115Z"
   },
   {
    "duration": 323,
    "start_time": "2024-04-12T14:37:53.295Z"
   },
   {
    "duration": 154,
    "start_time": "2024-04-12T14:37:53.620Z"
   },
   {
    "duration": 1326,
    "start_time": "2024-04-12T14:37:53.778Z"
   },
   {
    "duration": 8,
    "start_time": "2024-04-12T14:37:55.106Z"
   },
   {
    "duration": 18,
    "start_time": "2024-04-12T14:37:55.115Z"
   },
   {
    "duration": 214,
    "start_time": "2024-04-12T14:37:55.135Z"
   },
   {
    "duration": 194,
    "start_time": "2024-04-12T14:37:55.350Z"
   },
   {
    "duration": 989,
    "start_time": "2024-04-12T14:37:55.546Z"
   },
   {
    "duration": 21,
    "start_time": "2024-04-12T14:37:56.537Z"
   },
   {
    "duration": 33,
    "start_time": "2024-04-12T14:37:56.559Z"
   },
   {
    "duration": 27,
    "start_time": "2024-04-12T14:37:56.594Z"
   },
   {
    "duration": 24,
    "start_time": "2024-04-12T14:37:56.623Z"
   },
   {
    "duration": 5,
    "start_time": "2024-04-12T14:37:56.649Z"
   },
   {
    "duration": 43,
    "start_time": "2024-04-12T14:37:56.655Z"
   },
   {
    "duration": 6,
    "start_time": "2024-04-12T14:37:56.700Z"
   },
   {
    "duration": 2646,
    "start_time": "2024-04-12T14:37:56.708Z"
   },
   {
    "duration": 4,
    "start_time": "2024-04-12T14:37:59.356Z"
   },
   {
    "duration": 21,
    "start_time": "2024-04-12T14:37:59.362Z"
   },
   {
    "duration": 24238,
    "start_time": "2024-04-12T14:37:59.385Z"
   },
   {
    "duration": 370,
    "start_time": "2024-04-12T14:38:23.625Z"
   },
   {
    "duration": 0,
    "start_time": "2024-04-12T14:38:23.997Z"
   },
   {
    "duration": 93,
    "start_time": "2024-04-12T14:39:14.488Z"
   },
   {
    "duration": 534,
    "start_time": "2024-04-12T14:39:23.806Z"
   },
   {
    "duration": 154121,
    "start_time": "2024-04-12T14:41:50.602Z"
   },
   {
    "duration": 22,
    "start_time": "2024-04-12T14:47:02.012Z"
   },
   {
    "duration": 23,
    "start_time": "2024-04-12T14:47:46.050Z"
   },
   {
    "duration": 28,
    "start_time": "2024-04-12T14:52:37.808Z"
   },
   {
    "duration": 25,
    "start_time": "2024-04-12T14:54:41.686Z"
   },
   {
    "duration": 23636,
    "start_time": "2024-04-12T14:56:45.183Z"
   },
   {
    "duration": 947,
    "start_time": "2024-04-12T15:50:56.641Z"
   },
   {
    "duration": 8,
    "start_time": "2024-04-12T16:05:45.679Z"
   },
   {
    "duration": 10,
    "start_time": "2024-04-12T16:05:57.376Z"
   },
   {
    "duration": 1119,
    "start_time": "2024-04-12T16:06:32.594Z"
   },
   {
    "duration": 6,
    "start_time": "2024-04-12T16:07:38.812Z"
   },
   {
    "duration": 10,
    "start_time": "2024-04-12T16:07:40.780Z"
   },
   {
    "duration": 1109,
    "start_time": "2024-04-12T16:07:51.776Z"
   },
   {
    "duration": 1277,
    "start_time": "2024-04-12T16:09:00.825Z"
   },
   {
    "duration": 1075,
    "start_time": "2024-04-12T16:09:40.144Z"
   },
   {
    "duration": 1105,
    "start_time": "2024-04-12T16:12:20.144Z"
   },
   {
    "duration": 7,
    "start_time": "2024-04-12T16:13:22.282Z"
   },
   {
    "duration": 14,
    "start_time": "2024-04-12T16:14:23.950Z"
   },
   {
    "duration": 2803,
    "start_time": "2024-04-12T16:17:01.346Z"
   },
   {
    "duration": 2745,
    "start_time": "2024-04-12T16:18:19.686Z"
   },
   {
    "duration": 9,
    "start_time": "2024-04-12T16:21:36.962Z"
   },
   {
    "duration": 8025,
    "start_time": "2024-04-12T16:22:54.147Z"
   },
   {
    "duration": 1561,
    "start_time": "2024-04-12T16:23:02.175Z"
   },
   {
    "duration": 81,
    "start_time": "2024-04-12T16:23:03.738Z"
   },
   {
    "duration": 24,
    "start_time": "2024-04-12T16:23:03.821Z"
   },
   {
    "duration": 3,
    "start_time": "2024-04-12T16:23:03.846Z"
   },
   {
    "duration": 20,
    "start_time": "2024-04-12T16:23:03.850Z"
   },
   {
    "duration": 20,
    "start_time": "2024-04-12T16:23:03.871Z"
   },
   {
    "duration": 36,
    "start_time": "2024-04-12T16:23:03.892Z"
   },
   {
    "duration": 4,
    "start_time": "2024-04-12T16:23:03.929Z"
   },
   {
    "duration": 18,
    "start_time": "2024-04-12T16:23:03.935Z"
   },
   {
    "duration": 17,
    "start_time": "2024-04-12T16:23:03.954Z"
   },
   {
    "duration": 4,
    "start_time": "2024-04-12T16:23:03.972Z"
   },
   {
    "duration": 10,
    "start_time": "2024-04-12T16:23:03.977Z"
   },
   {
    "duration": 16,
    "start_time": "2024-04-12T16:23:03.988Z"
   },
   {
    "duration": 7,
    "start_time": "2024-04-12T16:23:04.005Z"
   },
   {
    "duration": 11,
    "start_time": "2024-04-12T16:23:04.013Z"
   },
   {
    "duration": 5,
    "start_time": "2024-04-12T16:23:04.025Z"
   },
   {
    "duration": 6,
    "start_time": "2024-04-12T16:23:04.031Z"
   },
   {
    "duration": 102,
    "start_time": "2024-04-12T16:23:04.038Z"
   },
   {
    "duration": 79,
    "start_time": "2024-04-12T16:23:04.141Z"
   },
   {
    "duration": 94,
    "start_time": "2024-04-12T16:23:04.221Z"
   },
   {
    "duration": 140,
    "start_time": "2024-04-12T16:23:04.316Z"
   },
   {
    "duration": 263,
    "start_time": "2024-04-12T16:23:04.458Z"
   },
   {
    "duration": 189,
    "start_time": "2024-04-12T16:23:04.722Z"
   },
   {
    "duration": 147,
    "start_time": "2024-04-12T16:23:04.912Z"
   },
   {
    "duration": 269,
    "start_time": "2024-04-12T16:23:05.060Z"
   },
   {
    "duration": 134,
    "start_time": "2024-04-12T16:23:05.331Z"
   },
   {
    "duration": 1140,
    "start_time": "2024-04-12T16:23:05.468Z"
   },
   {
    "duration": 6,
    "start_time": "2024-04-12T16:23:06.610Z"
   },
   {
    "duration": 13,
    "start_time": "2024-04-12T16:23:06.617Z"
   },
   {
    "duration": 180,
    "start_time": "2024-04-12T16:23:06.631Z"
   },
   {
    "duration": 163,
    "start_time": "2024-04-12T16:23:06.813Z"
   },
   {
    "duration": 769,
    "start_time": "2024-04-12T16:23:06.978Z"
   },
   {
    "duration": 16,
    "start_time": "2024-04-12T16:23:07.748Z"
   },
   {
    "duration": 25,
    "start_time": "2024-04-12T16:23:07.765Z"
   },
   {
    "duration": 19,
    "start_time": "2024-04-12T16:23:07.791Z"
   },
   {
    "duration": 18,
    "start_time": "2024-04-12T16:23:07.812Z"
   },
   {
    "duration": 3,
    "start_time": "2024-04-12T16:23:07.831Z"
   },
   {
    "duration": 11,
    "start_time": "2024-04-12T16:23:07.835Z"
   },
   {
    "duration": 4,
    "start_time": "2024-04-12T16:23:07.847Z"
   },
   {
    "duration": 33,
    "start_time": "2024-04-12T16:23:07.852Z"
   },
   {
    "duration": 7570,
    "start_time": "2024-04-12T16:23:53.273Z"
   },
   {
    "duration": 1400,
    "start_time": "2024-04-12T16:24:00.845Z"
   },
   {
    "duration": 79,
    "start_time": "2024-04-12T16:24:02.246Z"
   },
   {
    "duration": 65,
    "start_time": "2024-04-12T16:24:02.326Z"
   },
   {
    "duration": 45,
    "start_time": "2024-04-12T16:24:02.392Z"
   },
   {
    "duration": 46,
    "start_time": "2024-04-12T16:24:02.439Z"
   },
   {
    "duration": 48,
    "start_time": "2024-04-12T16:24:02.486Z"
   },
   {
    "duration": 25,
    "start_time": "2024-04-12T16:24:02.535Z"
   },
   {
    "duration": 5,
    "start_time": "2024-04-12T16:24:02.561Z"
   },
   {
    "duration": 10,
    "start_time": "2024-04-12T16:24:02.568Z"
   },
   {
    "duration": 48,
    "start_time": "2024-04-12T16:24:02.579Z"
   },
   {
    "duration": 4,
    "start_time": "2024-04-12T16:24:02.628Z"
   },
   {
    "duration": 18,
    "start_time": "2024-04-12T16:24:02.633Z"
   },
   {
    "duration": 13,
    "start_time": "2024-04-12T16:24:02.652Z"
   },
   {
    "duration": 13,
    "start_time": "2024-04-12T16:24:02.666Z"
   },
   {
    "duration": 18,
    "start_time": "2024-04-12T16:24:02.680Z"
   },
   {
    "duration": 20,
    "start_time": "2024-04-12T16:24:02.699Z"
   },
   {
    "duration": 24,
    "start_time": "2024-04-12T16:24:02.720Z"
   },
   {
    "duration": 115,
    "start_time": "2024-04-12T16:24:02.746Z"
   },
   {
    "duration": 71,
    "start_time": "2024-04-12T16:24:02.863Z"
   },
   {
    "duration": 90,
    "start_time": "2024-04-12T16:24:02.935Z"
   },
   {
    "duration": 143,
    "start_time": "2024-04-12T16:24:03.026Z"
   },
   {
    "duration": 249,
    "start_time": "2024-04-12T16:24:03.171Z"
   },
   {
    "duration": 178,
    "start_time": "2024-04-12T16:24:03.421Z"
   },
   {
    "duration": 142,
    "start_time": "2024-04-12T16:24:03.601Z"
   },
   {
    "duration": 260,
    "start_time": "2024-04-12T16:24:03.744Z"
   },
   {
    "duration": 119,
    "start_time": "2024-04-12T16:24:04.005Z"
   },
   {
    "duration": 1141,
    "start_time": "2024-04-12T16:24:04.127Z"
   },
   {
    "duration": 15,
    "start_time": "2024-04-12T16:24:05.270Z"
   },
   {
    "duration": 14,
    "start_time": "2024-04-12T16:24:05.286Z"
   },
   {
    "duration": 180,
    "start_time": "2024-04-12T16:24:05.301Z"
   },
   {
    "duration": 155,
    "start_time": "2024-04-12T16:24:05.482Z"
   },
   {
    "duration": 739,
    "start_time": "2024-04-12T16:24:05.638Z"
   },
   {
    "duration": 19,
    "start_time": "2024-04-12T16:24:06.379Z"
   },
   {
    "duration": 14,
    "start_time": "2024-04-12T16:24:06.399Z"
   },
   {
    "duration": 19,
    "start_time": "2024-04-12T16:24:06.414Z"
   },
   {
    "duration": 21,
    "start_time": "2024-04-12T16:24:06.434Z"
   },
   {
    "duration": 4,
    "start_time": "2024-04-12T16:24:06.483Z"
   },
   {
    "duration": 38,
    "start_time": "2024-04-12T16:24:06.489Z"
   },
   {
    "duration": 20,
    "start_time": "2024-04-12T16:24:06.529Z"
   },
   {
    "duration": 39,
    "start_time": "2024-04-12T16:24:06.550Z"
   },
   {
    "duration": 2147,
    "start_time": "2024-04-12T16:24:06.590Z"
   },
   {
    "duration": 4,
    "start_time": "2024-04-12T16:24:08.739Z"
   },
   {
    "duration": 19,
    "start_time": "2024-04-12T16:24:08.744Z"
   },
   {
    "duration": 20227,
    "start_time": "2024-04-12T16:24:08.764Z"
   },
   {
    "duration": 523,
    "start_time": "2024-04-12T16:24:28.992Z"
   },
   {
    "duration": 818,
    "start_time": "2024-04-12T16:24:29.516Z"
   },
   {
    "duration": 6,
    "start_time": "2024-04-12T16:24:30.336Z"
   },
   {
    "duration": 41,
    "start_time": "2024-04-12T16:24:30.343Z"
   },
   {
    "duration": 44,
    "start_time": "2024-04-12T16:24:30.385Z"
   },
   {
    "duration": 1666,
    "start_time": "2024-04-12T16:24:30.431Z"
   },
   {
    "duration": 1301,
    "start_time": "2024-04-12T16:26:50.816Z"
   },
   {
    "duration": 14,
    "start_time": "2024-04-12T16:32:19.881Z"
   },
   {
    "duration": 13,
    "start_time": "2024-04-12T16:33:52.863Z"
   },
   {
    "duration": 13,
    "start_time": "2024-04-12T16:34:29.772Z"
   },
   {
    "duration": 14,
    "start_time": "2024-04-12T16:35:06.073Z"
   },
   {
    "duration": 1375,
    "start_time": "2024-04-12T16:35:28.144Z"
   },
   {
    "duration": 14,
    "start_time": "2024-04-12T16:35:47.187Z"
   },
   {
    "duration": 2566,
    "start_time": "2024-04-12T16:36:13.562Z"
   },
   {
    "duration": 2552,
    "start_time": "2024-04-12T16:37:28.097Z"
   },
   {
    "duration": 2651,
    "start_time": "2024-04-12T16:37:59.538Z"
   },
   {
    "duration": 13,
    "start_time": "2024-04-12T16:40:14.064Z"
   },
   {
    "duration": 33,
    "start_time": "2024-04-12T16:41:28.421Z"
   },
   {
    "duration": 87,
    "start_time": "2024-04-12T16:47:55.978Z"
   },
   {
    "duration": 7875,
    "start_time": "2024-04-12T16:49:26.224Z"
   },
   {
    "duration": 1454,
    "start_time": "2024-04-12T16:49:34.101Z"
   },
   {
    "duration": 80,
    "start_time": "2024-04-12T16:49:35.557Z"
   },
   {
    "duration": 22,
    "start_time": "2024-04-12T16:49:35.638Z"
   },
   {
    "duration": 3,
    "start_time": "2024-04-12T16:49:35.661Z"
   },
   {
    "duration": 48,
    "start_time": "2024-04-12T16:49:35.665Z"
   },
   {
    "duration": 19,
    "start_time": "2024-04-12T16:49:35.714Z"
   },
   {
    "duration": 22,
    "start_time": "2024-04-12T16:49:35.734Z"
   },
   {
    "duration": 4,
    "start_time": "2024-04-12T16:49:35.758Z"
   },
   {
    "duration": 13,
    "start_time": "2024-04-12T16:49:35.764Z"
   },
   {
    "duration": 23,
    "start_time": "2024-04-12T16:49:35.779Z"
   },
   {
    "duration": 4,
    "start_time": "2024-04-12T16:49:35.804Z"
   },
   {
    "duration": 21,
    "start_time": "2024-04-12T16:49:35.809Z"
   },
   {
    "duration": 9,
    "start_time": "2024-04-12T16:49:35.831Z"
   },
   {
    "duration": 5,
    "start_time": "2024-04-12T16:49:35.841Z"
   },
   {
    "duration": 19,
    "start_time": "2024-04-12T16:49:35.847Z"
   },
   {
    "duration": 6,
    "start_time": "2024-04-12T16:49:35.867Z"
   },
   {
    "duration": 11,
    "start_time": "2024-04-12T16:49:35.874Z"
   },
   {
    "duration": 99,
    "start_time": "2024-04-12T16:49:35.886Z"
   },
   {
    "duration": 71,
    "start_time": "2024-04-12T16:49:35.987Z"
   },
   {
    "duration": 90,
    "start_time": "2024-04-12T16:49:36.059Z"
   },
   {
    "duration": 138,
    "start_time": "2024-04-12T16:49:36.150Z"
   },
   {
    "duration": 259,
    "start_time": "2024-04-12T16:49:36.290Z"
   },
   {
    "duration": 193,
    "start_time": "2024-04-12T16:49:36.551Z"
   },
   {
    "duration": 144,
    "start_time": "2024-04-12T16:49:36.746Z"
   },
   {
    "duration": 274,
    "start_time": "2024-04-12T16:49:36.892Z"
   },
   {
    "duration": 143,
    "start_time": "2024-04-12T16:49:37.167Z"
   },
   {
    "duration": 1163,
    "start_time": "2024-04-12T16:49:37.314Z"
   },
   {
    "duration": 10,
    "start_time": "2024-04-12T16:49:38.479Z"
   },
   {
    "duration": 35,
    "start_time": "2024-04-12T16:49:38.491Z"
   },
   {
    "duration": 161,
    "start_time": "2024-04-12T16:49:38.527Z"
   },
   {
    "duration": 180,
    "start_time": "2024-04-12T16:49:38.690Z"
   },
   {
    "duration": 740,
    "start_time": "2024-04-12T16:49:38.871Z"
   },
   {
    "duration": 15,
    "start_time": "2024-04-12T16:49:39.612Z"
   },
   {
    "duration": 17,
    "start_time": "2024-04-12T16:49:39.628Z"
   },
   {
    "duration": 25,
    "start_time": "2024-04-12T16:49:39.646Z"
   },
   {
    "duration": 22,
    "start_time": "2024-04-12T16:49:39.672Z"
   },
   {
    "duration": 15,
    "start_time": "2024-04-12T16:49:39.695Z"
   },
   {
    "duration": 23,
    "start_time": "2024-04-12T16:49:39.711Z"
   },
   {
    "duration": 17,
    "start_time": "2024-04-12T16:49:39.735Z"
   },
   {
    "duration": 15,
    "start_time": "2024-04-12T16:49:39.753Z"
   },
   {
    "duration": 2248,
    "start_time": "2024-04-12T16:49:39.769Z"
   },
   {
    "duration": 3,
    "start_time": "2024-04-12T16:49:42.018Z"
   },
   {
    "duration": 32,
    "start_time": "2024-04-12T16:49:42.023Z"
   },
   {
    "duration": 21463,
    "start_time": "2024-04-12T16:49:42.056Z"
   },
   {
    "duration": 515,
    "start_time": "2024-04-12T16:50:03.521Z"
   },
   {
    "duration": 903,
    "start_time": "2024-04-12T16:50:04.037Z"
   },
   {
    "duration": 6,
    "start_time": "2024-04-12T16:50:04.941Z"
   },
   {
    "duration": 10,
    "start_time": "2024-04-12T16:50:04.948Z"
   },
   {
    "duration": 19,
    "start_time": "2024-04-12T16:50:04.959Z"
   },
   {
    "duration": 2809,
    "start_time": "2024-04-12T16:50:04.985Z"
   },
   {
    "duration": 0,
    "start_time": "2024-04-12T16:50:07.796Z"
   }
  ],
  "colab": {
   "provenance": []
  },
  "kernelspec": {
   "display_name": "Python 3 (ipykernel)",
   "language": "python",
   "name": "python3"
  },
  "language_info": {
   "codemirror_mode": {
    "name": "ipython",
    "version": 3
   },
   "file_extension": ".py",
   "mimetype": "text/x-python",
   "name": "python",
   "nbconvert_exporter": "python",
   "pygments_lexer": "ipython3",
   "version": "3.9.5"
  },
  "toc": {
   "base_numbering": 1,
   "nav_menu": {},
   "number_sections": true,
   "sideBar": true,
   "skip_h1_title": true,
   "title_cell": "Table of Contents",
   "title_sidebar": "Contents",
   "toc_cell": false,
   "toc_position": {},
   "toc_section_display": true,
   "toc_window_display": false
  }
 },
 "nbformat": 4,
 "nbformat_minor": 1
}
